{
 "cells": [
  {
   "cell_type": "markdown",
   "metadata": {},
   "source": [
    "# `git2net` - Extracting and analysing co-editing relationships from *git* repositories\n",
    "\n",
    "In this tutorial you will learn the basic steps required to obtain a co-editing relationship from a git repoitory using `git2net`.\n",
    "\n",
    "The tutorial assumes you have `git2net` installed. In addition, it is recommended to create a folder for this tutorial as additional files will be downloaded to your local directory (if not specified otherwise).\n",
    "\n",
    "```\n",
    " +---------------+   git2net          +---------------+\n",
    " | Repository on | -----------------> | local         |\n",
    " | Github        | clone_repository() | repository    |\n",
    " +---------------+   (1)              +---------------+\n",
    "                                        | git2net \n",
    "                                        | mine_git_repo()\n",
    "                                        v (2)\n",
    " +---------------+   pandas           +---------------+\n",
    " | pandas        |<------------------ | sqlite data   |\n",
    " | dataframe     |  read_sql_query()  | base          |\n",
    " +---------------+                    +---------------+ \n",
    "      |                                       |\n",
    "      v                                       v\n",
    " Data mining (4)                      Network analysis (3)\n",
    "```\n",
    "\n",
    "The following sections are structured according to this process model:\n",
    "\n",
    "1. Repository Cloning\n",
    "2. Repository Mining \n",
    "3. Network Analysis and visualization (git2net)\n",
    "4. Data analysis (pandas)"
   ]
  },
  {
   "cell_type": "markdown",
   "metadata": {},
   "source": [
    "## Repository Cloning\n",
    "\n",
    "To start, you will need to select and clone a git repository that you are interested in analysing. For the purpose of this tutorial, we will analyse the repository behind `git2net`&mdash;aiming to finally find a solution to the well-known chicken and egg problem.\n",
    "\n",
    "The following lines will clone the `git2net` repository to your current working directory. To change this location, you can edit the path to the local directory stored in `local_directory`. The folder name of the repository is the name of the repository, which we store in `repo_name`."
   ]
  },
  {
   "cell_type": "code",
   "execution_count": 1,
   "metadata": {
    "ExecuteTime": {
     "end_time": "2021-09-21T15:14:50.834613Z",
     "start_time": "2021-09-21T15:14:50.338096Z"
    }
   },
   "outputs": [],
   "source": [
    "import pygit2 as git2\n",
    "import os\n",
    "import shutil\n",
    "\n",
    "git_repo_url = 'https://github.com/gotec/git2net.git'\n",
    "local_directory = '.'\n",
    "git_repo_dir = 'git2net4analysis'\n",
    "\n",
    "if os.path.exists(git_repo_dir):\n",
    "    shutil.rmtree(git_repo_dir)\n",
    "\n",
    "repo = git2.clone_repository(git_repo_url, git_repo_dir) # Clones a non-bare repository"
   ]
  },
  {
   "cell_type": "markdown",
   "metadata": {},
   "source": [
    "Private repositories require some more efforts. Firstly, you have to generate a personal token. The procedure on GitHub side is explained [here](https://docs.github.com/en/github/authenticating-to-github/creating-a-personal-access-token). Make sure to copy your new access token to a file (`secret.txt` for instance). You won’t be able to see it again! Please add `secret.txt` directly to your `.gitignore` file! You wouldn't believe how many access tokens are freely available at github :-)\n",
    "\n",
    "Now we are able to pass the token as a third parameter embedded in a callback method to `clone_repository()`.\n",
    "\n",
    "*The code below is commented to allow for execution of the full notebook. Uncomment it to use your own private repository for the tutorial.*"
   ]
  },
  {
   "cell_type": "code",
   "execution_count": 2,
   "metadata": {
    "ExecuteTime": {
     "end_time": "2021-09-21T15:14:50.838247Z",
     "start_time": "2021-09-21T15:14:50.836236Z"
    }
   },
   "outputs": [],
   "source": [
    "# import pygit2 as git2\n",
    "# import os\n",
    "# import shutil\n",
    "\n",
    "# git_repo_url = 'https://github.com/user/SecretRepository.git'   # does not exist :-)\n",
    "# local_directory = '.'\n",
    "# git_repo_dir = 'secretRepository'\n",
    "\n",
    "# f = open(\"secret.txt\", \"r\")\n",
    "# token = f.read()\n",
    "\n",
    "# if os.path.exists(git_repo_dir):\n",
    "#     shutil.rmtree(git_repo_dir)\n",
    "\n",
    "# callbacks = git2.RemoteCallbacks(git2.UserPass(token, 'x-oauth-basic'))\n",
    "# repo = git2.clone_repository(git_repo_url, git_repo_dir, callbacks=callbacks)"
   ]
  },
  {
   "cell_type": "markdown",
   "metadata": {},
   "source": [
    "## Repository Mining\n",
    "\n",
    "Now that we have obtained a local copy of the repository, we can use `git2net` to obtain a database containing information on all commits and edits made to obtain the current state of the repository.\n",
    "\n",
    "To do so, we use the `mine_git_repo` function. This function takes two required inputs as well as a number of optional inputs, some of which we will further explore later in this tutorial. Let's start with the required inputs. Here, we need to supply a path to the git repositoy that will be analysed. Below, this is done with the variable `repo_name`. In addition, `git2net` requires a path to the *sqlite* database that will be filled during the mining process. This path is provided as `sqlite_db_file`.\n",
    "\n",
    "Note, that if no database exists on the supplied path, `git2net` will create a new database. If a database exists, `git2net` will check if the database was mined with the same setting and on the same repository and subsequently resume the mining process from wherever it was left off.\n",
    "\n",
    "Let's try this out. Below we import `git2net` and point it to the path to which we cloned the database. In addition, we specify the location of the database file in which the results of the mining process will be stored and ensure the database does currently not exist. We then run the `mine_git_repo` function with the optional argument `max_modifications = 1`. With this only commits in which 1 or less files were modified are mined."
   ]
  },
  {
   "cell_type": "code",
   "execution_count": 3,
   "metadata": {
    "ExecuteTime": {
     "end_time": "2021-09-21T15:15:00.493318Z",
     "start_time": "2021-09-21T15:14:50.839752Z"
    }
   },
   "outputs": [
    {
     "name": "stdout",
     "output_type": "stream",
     "text": [
      "Found no database on provided path. Starting from scratch.\n"
     ]
    },
    {
     "name": "stderr",
     "output_type": "stream",
     "text": [
      "\r",
      "Parallel (32 processes):   0%|          | 0/220 [00:00<?, ?it/s]"
     ]
    },
    {
     "name": "stdout",
     "output_type": "stream",
     "text": [
      "Commit exceeding max_modifications:  bd0ad7b12500239321a8b7c6ba547f6111c781bb\n"
     ]
    },
    {
     "name": "stderr",
     "output_type": "stream",
     "text": [
      "\r",
      "Parallel (32 processes):   0%|          | 1/220 [00:00<01:27,  2.50it/s]"
     ]
    },
    {
     "name": "stdout",
     "output_type": "stream",
     "text": [
      "Commit exceeding max_modifications:  eed200119f675f2abc69a5f72c3505e903b82fd2\n"
     ]
    },
    {
     "name": "stderr",
     "output_type": "stream",
     "text": [
      "Parallel (32 processes):   5%|▍         | 10/220 [00:00<00:43,  4.79it/s]"
     ]
    },
    {
     "name": "stdout",
     "output_type": "stream",
     "text": [
      "Commit exceeding max_modifications:  40cc53f783aeb835fbec20f4d5e165af4e24fd32\n",
      "Commit exceeding max_modifications:  9a042c9c7c6a99733d1b94bf0d440f5d22389a79\n",
      "Commit exceeding max_modifications:  a2d25731c924765db4f21fa3afa7d263b7c9e79d\n"
     ]
    },
    {
     "name": "stderr",
     "output_type": "stream",
     "text": [
      "\r",
      "Parallel (32 processes):   6%|▋         | 14/220 [00:00<00:31,  6.50it/s]"
     ]
    },
    {
     "name": "stdout",
     "output_type": "stream",
     "text": [
      "Commit exceeding max_modifications:  c657e752b411caf531e3fff8fc0ea8e0b756ed43\n",
      "Commit exceeding max_modifications:  95eb238eeb60d6f4d1eee5acdba1d195d6e0cf70\n",
      "Commit exceeding max_modifications:  87c4d8f3206b400785602de03bdf87f109a65008\n",
      "Commit exceeding max_modifications:  16b2226a47e2747a3de9ff07f5fec0ad1abd8e0c\n",
      "Commit exceeding max_modifications:  f8e0c813a4a3049725b4c65a69bf0b487a685276\n",
      "Commit exceeding max_modifications:  eb40bbb2e7c68c7ab73bef6d91b41d2376581907\n"
     ]
    },
    {
     "name": "stderr",
     "output_type": "stream",
     "text": [
      "\r",
      "Parallel (32 processes):   9%|▉         | 20/220 [00:00<00:22,  8.83it/s]"
     ]
    },
    {
     "name": "stdout",
     "output_type": "stream",
     "text": [
      "Commit exceeding max_modifications:  64701617d0d468bba66760046d5519c54c7f3371\n",
      "Commit exceeding max_modifications:  c81b190fe260050fcd7ff86a7e947b47cf8f8085\n",
      "Commit exceeding max_modifications:  e75736eaf9bd01e6f410c4dc51d9e58dcf20eacb\n",
      "Commit exceeding max_modifications:  91d5d98881c6289f42f30508c4b26d3fa7baf6ca\n"
     ]
    },
    {
     "name": "stderr",
     "output_type": "stream",
     "text": [
      "\r",
      "Parallel (32 processes):  11%|█         | 24/220 [00:00<00:17, 11.18it/s]"
     ]
    },
    {
     "name": "stdout",
     "output_type": "stream",
     "text": [
      "Commit exceeding max_modifications:  240a13c3b87558cb85963d3cda415a63b54a8cbf\n"
     ]
    },
    {
     "name": "stderr",
     "output_type": "stream",
     "text": [
      "\r",
      "Parallel (32 processes):  14%|█▍        | 31/220 [00:01<00:12, 14.74it/s]"
     ]
    },
    {
     "name": "stdout",
     "output_type": "stream",
     "text": [
      "Commit exceeding max_modifications:  a3213cd995e850c8966355755c4ac2ff61f65503\n"
     ]
    },
    {
     "name": "stderr",
     "output_type": "stream",
     "text": [
      "\r",
      "Parallel (32 processes):  17%|█▋        | 38/220 [00:01<00:09, 19.05it/s]"
     ]
    },
    {
     "name": "stdout",
     "output_type": "stream",
     "text": [
      "Commit exceeding max_modifications:  9ef69d206d7cedb82b12d68a39445b2e936cd15f\n",
      "Commit exceeding max_modifications:  71b1cd496f6dc800acd7e59260d86b647cc58291\n",
      "Commit exceeding max_modifications:  806fc44d2250c316c75692601362aecabc63d137\n",
      "Commit exceeding max_modifications:  9e72df61bf300b42c3fbc16d94153e8edbbe6dd6\n",
      "Commit exceeding max_modifications:  090c00c342283134a23900f85c1d232499617365\n"
     ]
    },
    {
     "name": "stderr",
     "output_type": "stream",
     "text": [
      "\r",
      "Parallel (32 processes):  22%|██▏       | 48/220 [00:01<00:06, 24.79it/s]"
     ]
    },
    {
     "name": "stdout",
     "output_type": "stream",
     "text": [
      "Commit exceeding max_modifications:  509e1394637f74a357ef2bf0c567dc6520a80eb6\n",
      "Commit exceeding max_modifications:  cf51fa8ddf40c85645cf9e6e7fb5c64b322a20ef\n",
      "Commit exceeding max_modifications:  73e2b77a786cf19ec4a04e0a95ae4a0f93c45c54\n",
      "Commit exceeding max_modifications:  1504d68a4daf1e7529c6ac1a192794da765da9d2\n",
      "Commit exceeding max_modifications:  b3b8e33bd6ae43ba9ff50f4b84cc2c6c897fe92b\n",
      "Commit exceeding max_modifications:  2294efe5bf28560eb11437f54e18c4ff710e2bd1\n"
     ]
    },
    {
     "name": "stderr",
     "output_type": "stream",
     "text": [
      "\r",
      "Parallel (32 processes):  25%|██▌       | 56/220 [00:01<00:05, 30.76it/s]"
     ]
    },
    {
     "name": "stdout",
     "output_type": "stream",
     "text": [
      "Commit exceeding max_modifications:  7e7a8bd30a12628028234308ae6c7e2f5b5ec2b2\n"
     ]
    },
    {
     "name": "stderr",
     "output_type": "stream",
     "text": [
      "\r",
      "Parallel (32 processes):  29%|██▊       | 63/220 [00:01<00:04, 34.56it/s]"
     ]
    },
    {
     "name": "stdout",
     "output_type": "stream",
     "text": [
      "Commit exceeding max_modifications:  0a8bc07dfd7c481b8936fddd99e7a8a8aac74dfe\n"
     ]
    },
    {
     "name": "stderr",
     "output_type": "stream",
     "text": [
      "\r",
      "Parallel (32 processes):  31%|███▏      | 69/220 [00:01<00:03, 38.69it/s]"
     ]
    },
    {
     "name": "stdout",
     "output_type": "stream",
     "text": [
      "Commit exceeding max_modifications:  6b837c8f5383d16434afa0eaaab347873113230b\n"
     ]
    },
    {
     "name": "stderr",
     "output_type": "stream",
     "text": [
      "\r",
      "Parallel (32 processes):  35%|███▍      | 76/220 [00:01<00:03, 44.59it/s]"
     ]
    },
    {
     "name": "stdout",
     "output_type": "stream",
     "text": [
      "Commit exceeding max_modifications:  5e259c75123f17c47e270eace26145fe1f20167b\n",
      "Commit exceeding max_modifications:  03d8af2aee9f4b4f320ec83deecccf9245b8ce03\n",
      "Commit exceeding max_modifications:  bbc55b0ec194710e39bfe098acaf930598eb045c\n",
      "Commit exceeding max_modifications:  4515874def08a49af37a4d47615a2e05dc508d89\n",
      "Commit exceeding max_modifications:  4de4c314a1261e784f1a54969a32ab4dfa439d76\n"
     ]
    },
    {
     "name": "stderr",
     "output_type": "stream",
     "text": [
      "\r",
      "Parallel (32 processes):  38%|███▊      | 83/220 [00:01<00:02, 47.73it/s]"
     ]
    },
    {
     "name": "stdout",
     "output_type": "stream",
     "text": [
      "Commit exceeding max_modifications:  3f6435c4acbf8d1b6b02e9be02b514c2c2d53446\n",
      "Commit exceeding max_modifications:  8a5d405bc8263b6f482f9e6c38534023de8956e5\n"
     ]
    },
    {
     "name": "stderr",
     "output_type": "stream",
     "text": [
      "\r",
      "Parallel (32 processes):  43%|████▎     | 95/220 [00:02<00:02, 58.14it/s]"
     ]
    },
    {
     "name": "stdout",
     "output_type": "stream",
     "text": [
      "Commit exceeding max_modifications:  839a9501b36ade7481f9a50fe91e57f690b1570f\n",
      "Commit exceeding max_modifications:  ed7b0b70e6062c4ab9f5f66d99f3413b3b983d94\n",
      "Commit exceeding max_modifications:  bf62853697e83eb52863ef433d5e0771f1b4273d\n",
      "Commit exceeding max_modifications:  8e5219f0da4da3781e6274708f00cace52a8ee6f\n",
      "Commit exceeding max_modifications:  6f9b1ad5ee73c87750ef6c1d48f3580d4b4e35ac\n"
     ]
    },
    {
     "name": "stderr",
     "output_type": "stream",
     "text": [
      "\r",
      "Parallel (32 processes):  47%|████▋     | 103/220 [00:02<00:02, 50.15it/s]"
     ]
    },
    {
     "name": "stdout",
     "output_type": "stream",
     "text": [
      "Commit exceeding max_modifications:  77341fec9057940ff7fd75dd780d3eec9c0b2bb1\n",
      "Commit exceeding max_modifications:  c2d7f0cf365472789d4e369a4fb5ad6da5e19278\n",
      "Commit exceeding max_modifications:  9d5dd27c210a0306e0bf193af6ad567e0edac0b3\n",
      "Commit exceeding max_modifications:  5b6e6953445fe01ec1317a482239307fbdc2ca27\n",
      "Commit exceeding max_modifications:  7df9aefe5f71d70e6bdd26b6f1c242c547be670e\n"
     ]
    },
    {
     "name": "stderr",
     "output_type": "stream",
     "text": [
      "\r",
      "Parallel (32 processes):  50%|█████     | 110/220 [00:02<00:02, 48.63it/s]"
     ]
    },
    {
     "name": "stdout",
     "output_type": "stream",
     "text": [
      "Commit exceeding max_modifications:  2fe35a2c8001ef7f1494eb32b175baaa6615f3a5\n",
      "Commit exceeding max_modifications:  7e24ad664e91ee6da32c999e66bc374023657af1\n",
      "Commit exceeding max_modifications:  ed9f24ef27a185a1b4dec32777f6e7cb0491113a\n",
      "Commit exceeding max_modifications:  2fe365271e5f1506a17724fbb83af5db0ad49cfa\n"
     ]
    },
    {
     "name": "stderr",
     "output_type": "stream",
     "text": [
      "\r",
      "Parallel (32 processes):  53%|█████▎    | 116/220 [00:02<00:02, 46.66it/s]"
     ]
    },
    {
     "name": "stdout",
     "output_type": "stream",
     "text": [
      "Commit exceeding max_modifications:  23f26b519e913580d02c7755f7617125683a784f\n",
      "Commit exceeding max_modifications:  256e113a3592167b10456496d804a04592395d09\n",
      "Commit exceeding max_modifications:  15318963c6a4c25bbcff4182d3f55a17f1393e69\n"
     ]
    },
    {
     "name": "stderr",
     "output_type": "stream",
     "text": [
      "\r",
      "Parallel (32 processes):  57%|█████▋    | 125/220 [00:02<00:01, 53.53it/s]"
     ]
    },
    {
     "name": "stdout",
     "output_type": "stream",
     "text": [
      "Commit exceeding max_modifications:  d758d4c10b5c98a5d5dcaf5652de6cb791591669\n",
      "Commit exceeding max_modifications:  5349d14fc3b4da1bf97d64c4537140acd9d7c962\n",
      "Commit exceeding max_modifications:  542ffb6935793a27d710dfd01ffc7797754769ed\n"
     ]
    },
    {
     "name": "stderr",
     "output_type": "stream",
     "text": [
      "\r",
      "Parallel (32 processes):  60%|██████    | 133/220 [00:02<00:01, 58.30it/s]"
     ]
    },
    {
     "name": "stdout",
     "output_type": "stream",
     "text": [
      "Commit exceeding max_modifications:  70a5836f1a6e8b2109c352608a737c56647a542b\n"
     ]
    },
    {
     "name": "stderr",
     "output_type": "stream",
     "text": [
      "\r",
      "Parallel (32 processes):  64%|██████▎   | 140/220 [00:02<00:01, 60.59it/s]"
     ]
    },
    {
     "name": "stdout",
     "output_type": "stream",
     "text": [
      "Commit exceeding max_modifications:  c442dd375f9f4e23982b4708fb7e096a47c8d395\n",
      "Commit exceeding max_modifications:  1b66ee94df628da88dab7905c3edadf87d8d92d7\n",
      "Commit exceeding max_modifications:  0ade8b9347b9a7078c2349f183a3c2c8470ac51c\n",
      "Commit exceeding max_modifications:  59fd7557e6dc12b1ae5fb4c5140b63b9b7dc268f\n"
     ]
    },
    {
     "name": "stderr",
     "output_type": "stream",
     "text": [
      "\r",
      "Parallel (32 processes):  67%|██████▋   | 147/220 [00:02<00:01, 62.46it/s]"
     ]
    },
    {
     "name": "stdout",
     "output_type": "stream",
     "text": [
      "Commit exceeding max_modifications:  2d354bc002f4b71636bf2dbf188c5de835fbfc2d\n"
     ]
    },
    {
     "name": "stderr",
     "output_type": "stream",
     "text": [
      "\r",
      "Parallel (32 processes):  71%|███████   | 156/220 [00:03<00:00, 65.83it/s]"
     ]
    },
    {
     "name": "stdout",
     "output_type": "stream",
     "text": [
      "Commit exceeding max_modifications:  e56c7dacd4c8d20d9f4fb1cd88d4f565abd28de7\n",
      "Commit exceeding max_modifications:  61a4abf2e1f07b49b54d3139e079e79f06f2ffb3\n",
      "Commit exceeding max_modifications:  0bd88e1705e5d771d27c3b0b0663b7ee04ecc190\n"
     ]
    },
    {
     "name": "stderr",
     "output_type": "stream",
     "text": [
      "\r",
      "Parallel (32 processes):  74%|███████▍  | 163/220 [00:03<00:00, 66.40it/s]"
     ]
    },
    {
     "name": "stdout",
     "output_type": "stream",
     "text": [
      "Commit exceeding max_modifications:  3293f01b516995094253193dc43a2dc6e890696c\n"
     ]
    },
    {
     "name": "stderr",
     "output_type": "stream",
     "text": [
      "Parallel (32 processes): 100%|██████████| 220/220 [00:08<00:00, 24.94it/s]\n"
     ]
    }
   ],
   "source": [
    "import git2net\n",
    "\n",
    "sqlite_db_file = 'git2net.db'\n",
    "\n",
    "# Remove database if exists\n",
    "if os.path.exists(sqlite_db_file):\n",
    "    os.remove(sqlite_db_file)\n",
    "\n",
    "max_modifications = 1\n",
    "    \n",
    "git2net.mine_git_repo(git_repo_dir, sqlite_db_file, max_modifications=max_modifications)"
   ]
  },
  {
   "cell_type": "markdown",
   "metadata": {},
   "source": [
    "While mining, `git2net` provides information about the current progress. The first line shows that no database was found at the current path and mining will be started from scratch. This is totally expected, as we deliberately deleted any existing database before the run.\n",
    "\n",
    "Subsequently, progress updates on the mining process are printed. The first information denotes the number of processes `git2net` spawns and runs on. `git2net` is highly parallelised and will automatically detect the number of threads of your CPU, fully utilising all of them during operation. In case you want to reduce this load, this can be done by specifically setting the number of processes with the `no_of_processes` option of the `mine_git_repo` function.\n",
    "\n",
    "The other output shows the number of commits and total number of commits mined in this run, as well as the elapsed time and an estimate of the remaining time to finish.\n",
    "\n",
    "If a commit is skipped, the reason and the commit hash are printed. Currently, there are three cases in which a commit can be skipped. Firstly, as seen above a commit can exceed the maximum number of modifications set by `max_modifications`. Secondly, processing the commit can take longer as a maximum time defined by the `timeout` option. Thirdly, a commit can be skipped due to an error occuring within the commit. In these cases, please report the repository and commit hash in a new issue on github.com/gotec/git2net.\n",
    "\n",
    "Let's resume the mining process while increasing the maximum number of modifications to 5!"
   ]
  },
  {
   "cell_type": "code",
   "execution_count": 4,
   "metadata": {
    "ExecuteTime": {
     "end_time": "2021-09-21T15:15:02.572911Z",
     "start_time": "2021-09-21T15:15:00.495050Z"
    }
   },
   "outputs": [
    {
     "name": "stdout",
     "output_type": "stream",
     "text": [
      "Found a matching database on provided path. Skipping 152 (69.09%) of 220 commits. 68 commits remaining.\n"
     ]
    },
    {
     "name": "stderr",
     "output_type": "stream",
     "text": [
      "Parallel (32 processes):   1%|▏         | 1/68 [00:00<00:19,  3.42it/s]"
     ]
    },
    {
     "name": "stdout",
     "output_type": "stream",
     "text": [
      "Commit exceeding max_modifications:  a3213cd995e850c8966355755c4ac2ff61f65503\n"
     ]
    },
    {
     "name": "stderr",
     "output_type": "stream",
     "text": [
      "\r",
      "Parallel (32 processes):   4%|▍         | 3/68 [00:00<00:14,  4.55it/s]"
     ]
    },
    {
     "name": "stdout",
     "output_type": "stream",
     "text": [
      "Commit exceeding max_modifications:  9e72df61bf300b42c3fbc16d94153e8edbbe6dd6\n",
      "Commit exceeding max_modifications:  090c00c342283134a23900f85c1d232499617365\n"
     ]
    },
    {
     "name": "stderr",
     "output_type": "stream",
     "text": [
      "\r",
      "Parallel (32 processes):  15%|█▍        | 10/68 [00:00<00:09,  6.29it/s]"
     ]
    },
    {
     "name": "stdout",
     "output_type": "stream",
     "text": [
      "Commit exceeding max_modifications:  6b837c8f5383d16434afa0eaaab347873113230b\n",
      "Commit exceeding max_modifications:  bbc55b0ec194710e39bfe098acaf930598eb045c\n",
      "Commit exceeding max_modifications:  4515874def08a49af37a4d47615a2e05dc508d89\n",
      "Commit exceeding max_modifications:  3f6435c4acbf8d1b6b02e9be02b514c2c2d53446\n"
     ]
    },
    {
     "name": "stderr",
     "output_type": "stream",
     "text": [
      "\r",
      "Parallel (32 processes):  24%|██▎       | 16/68 [00:00<00:06,  8.54it/s]"
     ]
    },
    {
     "name": "stdout",
     "output_type": "stream",
     "text": [
      "Commit exceeding max_modifications:  ed7b0b70e6062c4ab9f5f66d99f3413b3b983d94\n"
     ]
    },
    {
     "name": "stderr",
     "output_type": "stream",
     "text": [
      "\r",
      "Parallel (32 processes):  34%|███▍      | 23/68 [00:00<00:03, 11.54it/s]"
     ]
    },
    {
     "name": "stdout",
     "output_type": "stream",
     "text": [
      "Commit exceeding max_modifications:  23f26b519e913580d02c7755f7617125683a784f\n"
     ]
    },
    {
     "name": "stderr",
     "output_type": "stream",
     "text": [
      "Parallel (32 processes):  54%|█████▍    | 37/68 [00:00<00:01, 19.79it/s]"
     ]
    },
    {
     "name": "stdout",
     "output_type": "stream",
     "text": [
      "Commit exceeding max_modifications:  61a4abf2e1f07b49b54d3139e079e79f06f2ffb3\n"
     ]
    },
    {
     "name": "stderr",
     "output_type": "stream",
     "text": [
      "Parallel (32 processes): 100%|██████████| 68/68 [00:01<00:00, 39.37it/s]\n"
     ]
    }
   ],
   "source": [
    "max_modifications = 5\n",
    "\n",
    "git2net.mine_git_repo(git_repo_dir, sqlite_db_file, max_modifications=max_modifications)"
   ]
  },
  {
   "cell_type": "markdown",
   "metadata": {},
   "source": [
    "As you can see from the output above, the process was resumed from the old database, skipping the already processed commits in the repository.\n",
    "\n",
    "Great, we made some progress and a large amount of the commits in the repository are already mined and in the database! But what about the other ones? We get some more information on the commits missing from the database from the `mining_state_summary` function. Similar to `mine_git_repo`, it also requires the paths to the repository as well as the database."
   ]
  },
  {
   "cell_type": "code",
   "execution_count": 5,
   "metadata": {
    "ExecuteTime": {
     "end_time": "2021-09-21T15:15:02.928176Z",
     "start_time": "2021-09-21T15:15:02.574883Z"
    }
   },
   "outputs": [
    {
     "name": "stderr",
     "output_type": "stream",
     "text": [
      " 40%|████      | 4/10 [00:00<00:00, 32.66it/s]"
     ]
    },
    {
     "name": "stdout",
     "output_type": "stream",
     "text": [
      "210 / 220 (95.45%) of commits were successfully mined.\n"
     ]
    },
    {
     "name": "stderr",
     "output_type": "stream",
     "text": [
      "100%|██████████| 10/10 [00:00<00:00, 34.07it/s]\n"
     ]
    },
    {
     "data": {
      "text/html": [
       "<div>\n",
       "<style scoped>\n",
       "    .dataframe tbody tr th:only-of-type {\n",
       "        vertical-align: middle;\n",
       "    }\n",
       "\n",
       "    .dataframe tbody tr th {\n",
       "        vertical-align: top;\n",
       "    }\n",
       "\n",
       "    .dataframe thead th {\n",
       "        text-align: right;\n",
       "    }\n",
       "</style>\n",
       "<table border=\"1\" class=\"dataframe\">\n",
       "  <thead>\n",
       "    <tr style=\"text-align: right;\">\n",
       "      <th></th>\n",
       "      <th>hash</th>\n",
       "      <th>is_merge</th>\n",
       "      <th>modifications</th>\n",
       "      <th>author_name</th>\n",
       "      <th>author_email</th>\n",
       "      <th>author_date</th>\n",
       "    </tr>\n",
       "  </thead>\n",
       "  <tbody>\n",
       "    <tr>\n",
       "      <th>0</th>\n",
       "      <td>a3213cd995e850c8966355755c4ac2ff61f65503</td>\n",
       "      <td>False</td>\n",
       "      <td>18</td>\n",
       "      <td>Christoph Gote</td>\n",
       "      <td>cgote@ethz.ch</td>\n",
       "      <td>2019-02-15 15:39:38</td>\n",
       "    </tr>\n",
       "    <tr>\n",
       "      <th>1</th>\n",
       "      <td>9e72df61bf300b42c3fbc16d94153e8edbbe6dd6</td>\n",
       "      <td>False</td>\n",
       "      <td>7</td>\n",
       "      <td>Christoph Gote</td>\n",
       "      <td>cgote@ethz.ch</td>\n",
       "      <td>2019-04-10 17:40:01</td>\n",
       "    </tr>\n",
       "    <tr>\n",
       "      <th>2</th>\n",
       "      <td>090c00c342283134a23900f85c1d232499617365</td>\n",
       "      <td>False</td>\n",
       "      <td>9</td>\n",
       "      <td>Christoph Gote</td>\n",
       "      <td>cgote@ethz.ch</td>\n",
       "      <td>2019-04-10 18:26:54</td>\n",
       "    </tr>\n",
       "    <tr>\n",
       "      <th>3</th>\n",
       "      <td>6b837c8f5383d16434afa0eaaab347873113230b</td>\n",
       "      <td>False</td>\n",
       "      <td>6</td>\n",
       "      <td>Christoph Gote</td>\n",
       "      <td>cgote@ethz.ch</td>\n",
       "      <td>2019-09-23 16:32:25</td>\n",
       "    </tr>\n",
       "    <tr>\n",
       "      <th>4</th>\n",
       "      <td>bbc55b0ec194710e39bfe098acaf930598eb045c</td>\n",
       "      <td>True</td>\n",
       "      <td>7</td>\n",
       "      <td>Christoph Gote</td>\n",
       "      <td>gotec@me.com</td>\n",
       "      <td>2019-10-03 12:02:34</td>\n",
       "    </tr>\n",
       "    <tr>\n",
       "      <th>5</th>\n",
       "      <td>4515874def08a49af37a4d47615a2e05dc508d89</td>\n",
       "      <td>False</td>\n",
       "      <td>15</td>\n",
       "      <td>Christoph Gote</td>\n",
       "      <td>gotec@me.com</td>\n",
       "      <td>2019-10-03 12:37:41</td>\n",
       "    </tr>\n",
       "    <tr>\n",
       "      <th>6</th>\n",
       "      <td>3f6435c4acbf8d1b6b02e9be02b514c2c2d53446</td>\n",
       "      <td>False</td>\n",
       "      <td>16</td>\n",
       "      <td>Christoph Gote</td>\n",
       "      <td>gotec@me.com</td>\n",
       "      <td>2019-10-03 13:02:03</td>\n",
       "    </tr>\n",
       "    <tr>\n",
       "      <th>7</th>\n",
       "      <td>ed7b0b70e6062c4ab9f5f66d99f3413b3b983d94</td>\n",
       "      <td>False</td>\n",
       "      <td>20</td>\n",
       "      <td>Christoph Gote</td>\n",
       "      <td>cgote@ethz.ch</td>\n",
       "      <td>2019-11-04 19:08:31</td>\n",
       "    </tr>\n",
       "    <tr>\n",
       "      <th>8</th>\n",
       "      <td>23f26b519e913580d02c7755f7617125683a784f</td>\n",
       "      <td>False</td>\n",
       "      <td>6</td>\n",
       "      <td>Christoph Gote</td>\n",
       "      <td>gotec@me.com</td>\n",
       "      <td>2020-04-22 14:08:21</td>\n",
       "    </tr>\n",
       "    <tr>\n",
       "      <th>9</th>\n",
       "      <td>61a4abf2e1f07b49b54d3139e079e79f06f2ffb3</td>\n",
       "      <td>False</td>\n",
       "      <td>6</td>\n",
       "      <td>Christoph Gote</td>\n",
       "      <td>gotec@me.com</td>\n",
       "      <td>2021-04-23 08:32:38</td>\n",
       "    </tr>\n",
       "  </tbody>\n",
       "</table>\n",
       "</div>"
      ],
      "text/plain": [
       "                                       hash  is_merge  modifications  \\\n",
       "0  a3213cd995e850c8966355755c4ac2ff61f65503     False             18   \n",
       "1  9e72df61bf300b42c3fbc16d94153e8edbbe6dd6     False              7   \n",
       "2  090c00c342283134a23900f85c1d232499617365     False              9   \n",
       "3  6b837c8f5383d16434afa0eaaab347873113230b     False              6   \n",
       "4  bbc55b0ec194710e39bfe098acaf930598eb045c      True              7   \n",
       "5  4515874def08a49af37a4d47615a2e05dc508d89     False             15   \n",
       "6  3f6435c4acbf8d1b6b02e9be02b514c2c2d53446     False             16   \n",
       "7  ed7b0b70e6062c4ab9f5f66d99f3413b3b983d94     False             20   \n",
       "8  23f26b519e913580d02c7755f7617125683a784f     False              6   \n",
       "9  61a4abf2e1f07b49b54d3139e079e79f06f2ffb3     False              6   \n",
       "\n",
       "      author_name   author_email          author_date  \n",
       "0  Christoph Gote  cgote@ethz.ch  2019-02-15 15:39:38  \n",
       "1  Christoph Gote  cgote@ethz.ch  2019-04-10 17:40:01  \n",
       "2  Christoph Gote  cgote@ethz.ch  2019-04-10 18:26:54  \n",
       "3  Christoph Gote  cgote@ethz.ch  2019-09-23 16:32:25  \n",
       "4  Christoph Gote   gotec@me.com  2019-10-03 12:02:34  \n",
       "5  Christoph Gote   gotec@me.com  2019-10-03 12:37:41  \n",
       "6  Christoph Gote   gotec@me.com  2019-10-03 13:02:03  \n",
       "7  Christoph Gote  cgote@ethz.ch  2019-11-04 19:08:31  \n",
       "8  Christoph Gote   gotec@me.com  2020-04-22 14:08:21  \n",
       "9  Christoph Gote   gotec@me.com  2021-04-23 08:32:38  "
      ]
     },
     "execution_count": 5,
     "metadata": {},
     "output_type": "execute_result"
    }
   ],
   "source": [
    "git2net.mining_state_summary(git_repo_dir, sqlite_db_file)"
   ]
  },
  {
   "cell_type": "markdown",
   "metadata": {},
   "source": [
    "The function again provides a summary of the mining state, as well as details on all missing commits. Let's assume, we are very interest in commit *090c00c342283134a23900f85c1d232499617365* but want to avoid crawling the other missing commits. While this is uneccessary for small repositories such as `git2net` this might become higly relevant for larger projects such as `linux`, where individual commits can make changes to thousands of files which in turn require significant computational resources to analyse. This is particularly important for merge commits, as all files included in the diffs to both parent commits need to be considered. Therefore, for larger projects I generally recommend to run `git2net` with `max_modifications = 1000`, subsequently increasing this number if required.\n",
    "\n",
    "But now back to mining specifically commit *090c00c342283134a23900f85c1d232499617365*, which can be done with the `commits` option in `mine_git_repo`. We also set the number of processes to 1, enabling serial mode, which can be very helpful for debugging as significantly more information is printed."
   ]
  },
  {
   "cell_type": "code",
   "execution_count": 6,
   "metadata": {
    "ExecuteTime": {
     "end_time": "2021-09-21T15:15:03.535699Z",
     "start_time": "2021-09-21T15:15:02.929837Z"
    }
   },
   "outputs": [
    {
     "name": "stderr",
     "output_type": "stream",
     "text": [
      "\r",
      "Serial:   0%|          | 0/1 [00:00<?, ?it/s]"
     ]
    },
    {
     "name": "stdout",
     "output_type": "stream",
     "text": [
      "Found a matching database on provided path. Skipping 210 (95.45%) of 220 commits. 10 commits remaining.\n"
     ]
    },
    {
     "name": "stderr",
     "output_type": "stream",
     "text": [
      "Serial: 100%|██████████| 1/1 [00:00<00:00,  1.88it/s]\n"
     ]
    }
   ],
   "source": [
    "# mine_git_repo takes list of commits\n",
    "commits = ['090c00c342283134a23900f85c1d232499617365']\n",
    "\n",
    "git2net.mine_git_repo(git_repo_dir, sqlite_db_file, commits=commits, no_of_processes=1)"
   ]
  },
  {
   "cell_type": "markdown",
   "metadata": {},
   "source": [
    "Congratulations, you have now mined your first git repository using `git2net`! Note, though that not all commits have been mined at this point. This will be done at a later stage of this tutorial.\n",
    "\n",
    "## Network Analysis and visualization\n",
    "\n",
    "You can now use the database to query various information on different commits or edits. In addition, `git2net` also provides the functionality to generate various network projections of the data.\n",
    "\n",
    "To start, lets try to obtain a co-editing network for our project. This is as simple as calling the `get_coediting_network` function and providing the database we just mined. Before this, we disambiguate author aliases in the database using the tool `gambit` ([source](https://github.com/gotec/gambit)). To do this, we call the function `disambiguate_aliases_db` on our SQLite database that we just mined."
   ]
  },
  {
   "cell_type": "code",
   "execution_count": 7,
   "metadata": {
    "ExecuteTime": {
     "end_time": "2021-09-21T15:15:03.709227Z",
     "start_time": "2021-09-21T15:15:03.537654Z"
    }
   },
   "outputs": [
    {
     "name": "stderr",
     "output_type": "stream",
     "text": [
      "author identity disambiguation: 100%|██████████| 28/28 [00:00<00:00, 2572.29it/s]\n"
     ]
    },
    {
     "data": {
      "text/html": [
       "<style>\n",
       "    text.active_ziUjoILh {\n",
       "        text-anchor: middle;\n",
       "        font-size: 8px;\n",
       "        font-family: Arial, Helvetica, sans-serif;\n",
       "        fill: #cccccc;\n",
       "        opacity: 1.0;\n",
       "    }\n",
       "    text.hidden_ziUjoILh {\n",
       "        opacity: 0;\n",
       "    }\n",
       "    line.tlinks_ziUjoILh {\n",
       "        stroke: #cccccc;\n",
       "        stroke-opacity: 0.4;\n",
       "        stroke-width: 0.5;\n",
       "    }\n",
       "    line.active_ziUjoILh {\n",
       "        stroke: #ff0000;\n",
       "        stroke-opacity: 1.0;\n",
       "        stroke-width: 4.0;\n",
       "    }\n",
       "    line.hidden_ziUjoILh {\n",
       "        stroke: rgb(255, 255, 255);\n",
       "        stroke-opacity: 0;\n",
       "        stroke-width: 0px;\n",
       "    }\n",
       "    circle.active_ziUjoILh {\n",
       "        stroke: #222;\n",
       "        fill: #ff0000;\n",
       "        fill-opacity: 1;\n",
       "        stroke-width: 2px;\n",
       "    }\n",
       "    circle.tnodes_ziUjoILh {\n",
       "        fill: #cccccc;\n",
       "        stroke: #222;\n",
       "        fill-opacity: 1;\n",
       "        stroke-width: 1.5px;\n",
       "    }\n",
       "</style>\n",
       "\n",
       "<svg width=\"400\" height=\"400\" id=\"ziUjoILh\">\n",
       "    <text x=\"10\" y=\"20\" font-family=\"sans-serif\" font-size=\"14px\" fill=\"red\"\n",
       "        id='ziUjoILh_time_txt'>t</text>\n",
       "    <text x=\"120\" y=\"20\" font-family=\"sans-serif\" font-size=\"14px\" fill=\"#9999bb\" style=\"cursor: pointer\"\n",
       "        id='ziUjoILh_start_txt'>stop</text>\n",
       "    <text x=\"170\" y=\"20\" font-family=\"sans-serif\" font-size=\"14px\" fill=\"#9999bb\" style=\"cursor: pointer\"\n",
       "        id='ziUjoILh_restart_txt'>restart</text>\n",
       "</svg>\n",
       "\n",
       "<script charset=\"utf-8\" src=\"https://d3js.org/d3.v4.min.js\"></script>\n",
       "<script charset=\"utf-8\">\n",
       "\n",
       "// Load via requireJS if available (jupyter notebook environment)\n",
       "try {\n",
       "    // Problem: require.config will raise an exception when called for the second time\n",
       "    require.config({\n",
       "        paths: {\n",
       "            //d3: \"https://d3js.org/d3.v4.min\"\n",
       "            d3: \"https://d3js.org/d3.v4.min.js\".replace(\".js\", \"\")\n",
       "        }\n",
       "    });\n",
       "    console.log(\"Detected requireJS\");\n",
       "}\n",
       "catch(err){\n",
       "    // a reference error indicates that requireJS does not exist.\n",
       "    // other errors may occur due to multiple calls to config\n",
       "    if (err instanceof ReferenceError){\n",
       "        console.log(\"Detected no requireJS\");\n",
       "\n",
       "        // Helper function that waits for d3js to be loaded\n",
       "        require = function require(symbols, callback) {\n",
       "            var ms = 5;\n",
       "            window.setTimeout(function(t) {\n",
       "                if (window[symbols[0]])\n",
       "                    callback(window[symbols[0]]);\n",
       "                else\n",
       "                    window.setTimeout(arguments.callee, ms);\n",
       "            }, ms);\n",
       "        }\n",
       "    }\n",
       "}\n",
       "\n",
       "require([\"d3\"], function(d3) {\n",
       "    d3.selection.prototype.moveToFront = function() {\n",
       "        return this.each(function(){\n",
       "            this.parentNode.appendChild(this);\n",
       "        });\n",
       "    };\n",
       "\n",
       "    d3.selection.prototype.moveToBack = function() {\n",
       "        return this.each(function() {\n",
       "            var firstChild = this.parentNode.firstChild;\n",
       "            if (firstChild) {\n",
       "                this.parentNode.insertBefore(this, firstChild);\n",
       "            }\n",
       "        });\n",
       "    };\n",
       "\n",
       "    var svg = d3.select(\"#ziUjoILh\"),\n",
       "        width = +svg.attr(\"width\"),\n",
       "        height = +svg.attr(\"height\"),\n",
       "        radius = 5.0,\n",
       "        color = d3.scaleOrdinal(d3.schemeCategory20b);\n",
       "\n",
       "    var temporal_net = {\"nodes\": [{\"id\": \"n_1\", \"group\": 1}, {\"id\": \"n_0.0\", \"group\": 1}, {\"id\": \"n_2\", \"group\": 1}, {\"id\": \"n_3\", \"group\": 1}, {\"id\": \"n_4\", \"group\": 1}, {\"id\": \"n_5\", \"group\": 1}], \"links\": [{\"source\": \"n_1\", \"target\": \"n_0.0\", \"width\": 1, \"time\": 1547119240}, {\"source\": \"n_1\", \"target\": \"n_0.0\", \"width\": 1, \"time\": 1547119240}, {\"source\": \"n_1\", \"target\": \"n_0.0\", \"width\": 1, \"time\": 1547119240}, {\"source\": \"n_1\", \"target\": \"n_0.0\", \"width\": 1, \"time\": 1547119240}, {\"source\": \"n_1\", \"target\": \"n_0.0\", \"width\": 1, \"time\": 1547119240}, {\"source\": \"n_1\", \"target\": \"n_0.0\", \"width\": 1, \"time\": 1547119240}, {\"source\": \"n_1\", \"target\": \"n_0.0\", \"width\": 1, \"time\": 1547119240}, {\"source\": \"n_1\", \"target\": \"n_0.0\", \"width\": 1, \"time\": 1547119240}, {\"source\": \"n_1\", \"target\": \"n_0.0\", \"width\": 1, \"time\": 1547119240}, {\"source\": \"n_1\", \"target\": \"n_0.0\", \"width\": 1, \"time\": 1547119240}, {\"source\": \"n_1\", \"target\": \"n_0.0\", \"width\": 1, \"time\": 1547132464}, {\"source\": \"n_1\", \"target\": \"n_0.0\", \"width\": 1, \"time\": 1547132464}, {\"source\": \"n_1\", \"target\": \"n_0.0\", \"width\": 1, \"time\": 1547132464}, {\"source\": \"n_1\", \"target\": \"n_0.0\", \"width\": 1, \"time\": 1547481034}, {\"source\": \"n_1\", \"target\": \"n_0.0\", \"width\": 1, \"time\": 1547481034}, {\"source\": \"n_1\", \"target\": \"n_0.0\", \"width\": 1, \"time\": 1547481034}, {\"source\": \"n_1\", \"target\": \"n_0.0\", \"width\": 1, \"time\": 1547481034}, {\"source\": \"n_1\", \"target\": \"n_0.0\", \"width\": 1, \"time\": 1547481034}, {\"source\": \"n_1\", \"target\": \"n_0.0\", \"width\": 1, \"time\": 1547481034}, {\"source\": \"n_1\", \"target\": \"n_0.0\", \"width\": 1, \"time\": 1547481034}, {\"source\": \"n_1\", \"target\": \"n_0.0\", \"width\": 1, \"time\": 1547481034}, {\"source\": \"n_1\", \"target\": \"n_0.0\", \"width\": 1, \"time\": 1547130768}, {\"source\": \"n_1\", \"target\": \"n_0.0\", \"width\": 1, \"time\": 1547130768}, {\"source\": \"n_1\", \"target\": \"n_0.0\", \"width\": 1, \"time\": 1547130768}, {\"source\": \"n_1\", \"target\": \"n_0.0\", \"width\": 1, \"time\": 1547130768}, {\"source\": \"n_1\", \"target\": \"n_0.0\", \"width\": 1, \"time\": 1547130768}, {\"source\": \"n_1\", \"target\": \"n_0.0\", \"width\": 1, \"time\": 1547130768}, {\"source\": \"n_1\", \"target\": \"n_0.0\", \"width\": 1, \"time\": 1547130768}, {\"source\": \"n_1\", \"target\": \"n_0.0\", \"width\": 1, \"time\": 1547130768}, {\"source\": \"n_1\", \"target\": \"n_0.0\", \"width\": 1, \"time\": 1547130768}, {\"source\": \"n_1\", \"target\": \"n_0.0\", \"width\": 1, \"time\": 1547130768}, {\"source\": \"n_1\", \"target\": \"n_0.0\", \"width\": 1, \"time\": 1547130768}, {\"source\": \"n_1\", \"target\": \"n_0.0\", \"width\": 1, \"time\": 1547130768}, {\"source\": \"n_1\", \"target\": \"n_0.0\", \"width\": 1, \"time\": 1547130768}, {\"source\": \"n_1\", \"target\": \"n_0.0\", \"width\": 1, \"time\": 1547130768}, {\"source\": \"n_1\", \"target\": \"n_0.0\", \"width\": 1, \"time\": 1547130768}, {\"source\": \"n_1\", \"target\": \"n_0.0\", \"width\": 1, \"time\": 1547130768}, {\"source\": \"n_1\", \"target\": \"n_0.0\", \"width\": 1, \"time\": 1547130768}, {\"source\": \"n_1\", \"target\": \"n_0.0\", \"width\": 1, \"time\": 1547130768}, {\"source\": \"n_1\", \"target\": \"n_0.0\", \"width\": 1, \"time\": 1547130768}, {\"source\": \"n_1\", \"target\": \"n_0.0\", \"width\": 1, \"time\": 1547130768}, {\"source\": \"n_1\", \"target\": \"n_0.0\", \"width\": 1, \"time\": 1547130768}, {\"source\": \"n_1\", \"target\": \"n_0.0\", \"width\": 1, \"time\": 1547130768}, {\"source\": \"n_1\", \"target\": \"n_0.0\", \"width\": 1, \"time\": 1547130768}, {\"source\": \"n_1\", \"target\": \"n_0.0\", \"width\": 1, \"time\": 1547130768}, {\"source\": \"n_1\", \"target\": \"n_0.0\", \"width\": 1, \"time\": 1547130768}, {\"source\": \"n_1\", \"target\": \"n_0.0\", \"width\": 1, \"time\": 1547130768}, {\"source\": \"n_1\", \"target\": \"n_0.0\", \"width\": 1, \"time\": 1547130768}, {\"source\": \"n_1\", \"target\": \"n_0.0\", \"width\": 1, \"time\": 1547130768}, {\"source\": \"n_1\", \"target\": \"n_0.0\", \"width\": 1, \"time\": 1547130768}, {\"source\": \"n_1\", \"target\": \"n_0.0\", \"width\": 1, \"time\": 1547130768}, {\"source\": \"n_1\", \"target\": \"n_0.0\", \"width\": 1, \"time\": 1547130768}, {\"source\": \"n_1\", \"target\": \"n_0.0\", \"width\": 1, \"time\": 1547130768}, {\"source\": \"n_1\", \"target\": \"n_0.0\", \"width\": 1, \"time\": 1547130768}, {\"source\": \"n_1\", \"target\": \"n_0.0\", \"width\": 1, \"time\": 1547130768}, {\"source\": \"n_1\", \"target\": \"n_0.0\", \"width\": 1, \"time\": 1547130768}, {\"source\": \"n_1\", \"target\": \"n_0.0\", \"width\": 1, \"time\": 1547130768}, {\"source\": \"n_1\", \"target\": \"n_0.0\", \"width\": 1, \"time\": 1547130768}, {\"source\": \"n_1\", \"target\": \"n_0.0\", \"width\": 1, \"time\": 1547130768}, {\"source\": \"n_1\", \"target\": \"n_0.0\", \"width\": 1, \"time\": 1547130768}, {\"source\": \"n_1\", \"target\": \"n_0.0\", \"width\": 1, \"time\": 1547130768}, {\"source\": \"n_1\", \"target\": \"n_0.0\", \"width\": 1, \"time\": 1547130768}, {\"source\": \"n_1\", \"target\": \"n_0.0\", \"width\": 1, \"time\": 1547130768}, {\"source\": \"n_1\", \"target\": \"n_0.0\", \"width\": 1, \"time\": 1547130768}, {\"source\": \"n_1\", \"target\": \"n_0.0\", \"width\": 1, \"time\": 1547130768}, {\"source\": \"n_1\", \"target\": \"n_0.0\", \"width\": 1, \"time\": 1547130768}, {\"source\": \"n_1\", \"target\": \"n_0.0\", \"width\": 1, \"time\": 1547130768}, {\"source\": \"n_1\", \"target\": \"n_0.0\", \"width\": 1, \"time\": 1547548080}, {\"source\": \"n_1\", \"target\": \"n_0.0\", \"width\": 1, \"time\": 1547548080}, {\"source\": \"n_1\", \"target\": \"n_0.0\", \"width\": 1, \"time\": 1547548080}, {\"source\": \"n_1\", \"target\": \"n_0.0\", \"width\": 1, \"time\": 1547548080}, {\"source\": \"n_1\", \"target\": \"n_0.0\", \"width\": 1, \"time\": 1547548080}, {\"source\": \"n_1\", \"target\": \"n_0.0\", \"width\": 1, \"time\": 1547548080}, {\"source\": \"n_1\", \"target\": \"n_0.0\", \"width\": 1, \"time\": 1547548080}, {\"source\": \"n_1\", \"target\": \"n_0.0\", \"width\": 1, \"time\": 1547548080}, {\"source\": \"n_1\", \"target\": \"n_0.0\", \"width\": 1, \"time\": 1547548080}, {\"source\": \"n_1\", \"target\": \"n_0.0\", \"width\": 1, \"time\": 1547548080}, {\"source\": \"n_1\", \"target\": \"n_0.0\", \"width\": 1, \"time\": 1547548080}, {\"source\": \"n_1\", \"target\": \"n_0.0\", \"width\": 1, \"time\": 1547548080}, {\"source\": \"n_1\", \"target\": \"n_0.0\", \"width\": 1, \"time\": 1547548080}, {\"source\": \"n_1\", \"target\": \"n_0.0\", \"width\": 1, \"time\": 1547548080}, {\"source\": \"n_1\", \"target\": \"n_0.0\", \"width\": 1, \"time\": 1547548080}, {\"source\": \"n_1\", \"target\": \"n_0.0\", \"width\": 1, \"time\": 1548953055}, {\"source\": \"n_1\", \"target\": \"n_0.0\", \"width\": 1, \"time\": 1548953055}, {\"source\": \"n_1\", \"target\": \"n_0.0\", \"width\": 1, \"time\": 1548953055}, {\"source\": \"n_1\", \"target\": \"n_0.0\", \"width\": 1, \"time\": 1548953055}, {\"source\": \"n_1\", \"target\": \"n_0.0\", \"width\": 1, \"time\": 1548953055}, {\"source\": \"n_1\", \"target\": \"n_0.0\", \"width\": 1, \"time\": 1548954784}, {\"source\": \"n_1\", \"target\": \"n_0.0\", \"width\": 1, \"time\": 1548953662}, {\"source\": \"n_1\", \"target\": \"n_0.0\", \"width\": 1, \"time\": 1548953662}, {\"source\": \"n_1\", \"target\": \"n_0.0\", \"width\": 1, \"time\": 1548953662}, {\"source\": \"n_1\", \"target\": \"n_0.0\", \"width\": 1, \"time\": 1548953662}, {\"source\": \"n_1\", \"target\": \"n_0.0\", \"width\": 1, \"time\": 1548953662}, {\"source\": \"n_1\", \"target\": \"n_0.0\", \"width\": 1, \"time\": 1548951476}, {\"source\": \"n_1\", \"target\": \"n_0.0\", \"width\": 1, \"time\": 1548951476}, {\"source\": \"n_1\", \"target\": \"n_0.0\", \"width\": 1, \"time\": 1548951476}, {\"source\": \"n_1\", \"target\": \"n_0.0\", \"width\": 1, \"time\": 1548951476}, {\"source\": \"n_1\", \"target\": \"n_0.0\", \"width\": 1, \"time\": 1548951476}, {\"source\": \"n_1\", \"target\": \"n_0.0\", \"width\": 1, \"time\": 1548951476}, {\"source\": \"n_1\", \"target\": \"n_0.0\", \"width\": 1, \"time\": 1548951476}, {\"source\": \"n_1\", \"target\": \"n_0.0\", \"width\": 1, \"time\": 1548951476}, {\"source\": \"n_1\", \"target\": \"n_0.0\", \"width\": 1, \"time\": 1548951476}, {\"source\": \"n_1\", \"target\": \"n_0.0\", \"width\": 1, \"time\": 1548951476}, {\"source\": \"n_1\", \"target\": \"n_0.0\", \"width\": 1, \"time\": 1548951476}, {\"source\": \"n_1\", \"target\": \"n_0.0\", \"width\": 1, \"time\": 1548951476}, {\"source\": \"n_1\", \"target\": \"n_0.0\", \"width\": 1, \"time\": 1548951476}, {\"source\": \"n_1\", \"target\": \"n_0.0\", \"width\": 1, \"time\": 1548951476}, {\"source\": \"n_1\", \"target\": \"n_0.0\", \"width\": 1, \"time\": 1548951476}, {\"source\": \"n_1\", \"target\": \"n_0.0\", \"width\": 1, \"time\": 1548951476}, {\"source\": \"n_1\", \"target\": \"n_0.0\", \"width\": 1, \"time\": 1548951476}, {\"source\": \"n_1\", \"target\": \"n_0.0\", \"width\": 1, \"time\": 1548951476}, {\"source\": \"n_1\", \"target\": \"n_0.0\", \"width\": 1, \"time\": 1548951476}, {\"source\": \"n_1\", \"target\": \"n_0.0\", \"width\": 1, \"time\": 1548951476}, {\"source\": \"n_1\", \"target\": \"n_0.0\", \"width\": 1, \"time\": 1548951476}, {\"source\": \"n_1\", \"target\": \"n_0.0\", \"width\": 1, \"time\": 1548951476}, {\"source\": \"n_1\", \"target\": \"n_0.0\", \"width\": 1, \"time\": 1548951476}, {\"source\": \"n_1\", \"target\": \"n_0.0\", \"width\": 1, \"time\": 1549020848}, {\"source\": \"n_1\", \"target\": \"n_0.0\", \"width\": 1, \"time\": 1549020848}, {\"source\": \"n_1\", \"target\": \"n_0.0\", \"width\": 1, \"time\": 1549020848}, {\"source\": \"n_1\", \"target\": \"n_0.0\", \"width\": 1, \"time\": 1549020848}, {\"source\": \"n_1\", \"target\": \"n_0.0\", \"width\": 1, \"time\": 1549020848}, {\"source\": \"n_1\", \"target\": \"n_0.0\", \"width\": 1, \"time\": 1549020848}, {\"source\": \"n_1\", \"target\": \"n_0.0\", \"width\": 1, \"time\": 1549020848}, {\"source\": \"n_1\", \"target\": \"n_0.0\", \"width\": 1, \"time\": 1549020848}, {\"source\": \"n_1\", \"target\": \"n_0.0\", \"width\": 1, \"time\": 1549020848}, {\"source\": \"n_1\", \"target\": \"n_0.0\", \"width\": 1, \"time\": 1549020848}, {\"source\": \"n_1\", \"target\": \"n_0.0\", \"width\": 1, \"time\": 1549020848}, {\"source\": \"n_1\", \"target\": \"n_0.0\", \"width\": 1, \"time\": 1549020848}, {\"source\": \"n_1\", \"target\": \"n_0.0\", \"width\": 1, \"time\": 1549020848}, {\"source\": \"n_1\", \"target\": \"n_0.0\", \"width\": 1, \"time\": 1549049972}, {\"source\": \"n_1\", \"target\": \"n_0.0\", \"width\": 1, \"time\": 1549049972}, {\"source\": \"n_1\", \"target\": \"n_0.0\", \"width\": 1, \"time\": 1548963825}, {\"source\": \"n_1\", \"target\": \"n_0.0\", \"width\": 1, \"time\": 1548963825}, {\"source\": \"n_1\", \"target\": \"n_0.0\", \"width\": 1, \"time\": 1548963825}, {\"source\": \"n_1\", \"target\": \"n_0.0\", \"width\": 1, \"time\": 1548963825}, {\"source\": \"n_1\", \"target\": \"n_0.0\", \"width\": 1, \"time\": 1548963825}, {\"source\": \"n_1\", \"target\": \"n_0.0\", \"width\": 1, \"time\": 1548963825}, {\"source\": \"n_1\", \"target\": \"n_0.0\", \"width\": 1, \"time\": 1548963825}, {\"source\": \"n_1\", \"target\": \"n_0.0\", \"width\": 1, \"time\": 1548963825}, {\"source\": \"n_1\", \"target\": \"n_0.0\", \"width\": 1, \"time\": 1548963825}, {\"source\": \"n_1\", \"target\": \"n_0.0\", \"width\": 1, \"time\": 1548963825}, {\"source\": \"n_1\", \"target\": \"n_0.0\", \"width\": 1, \"time\": 1548963825}, {\"source\": \"n_1\", \"target\": \"n_0.0\", \"width\": 1, \"time\": 1548963825}, {\"source\": \"n_1\", \"target\": \"n_0.0\", \"width\": 1, \"time\": 1548963825}, {\"source\": \"n_1\", \"target\": \"n_0.0\", \"width\": 1, \"time\": 1548963825}, {\"source\": \"n_1\", \"target\": \"n_0.0\", \"width\": 1, \"time\": 1548963825}, {\"source\": \"n_1\", \"target\": \"n_0.0\", \"width\": 1, \"time\": 1548963825}, {\"source\": \"n_1\", \"target\": \"n_0.0\", \"width\": 1, \"time\": 1548963825}, {\"source\": \"n_1\", \"target\": \"n_0.0\", \"width\": 1, \"time\": 1548963825}, {\"source\": \"n_1\", \"target\": \"n_0.0\", \"width\": 1, \"time\": 1548963825}, {\"source\": \"n_1\", \"target\": \"n_0.0\", \"width\": 1, \"time\": 1549655668}, {\"source\": \"n_1\", \"target\": \"n_0.0\", \"width\": 1, \"time\": 1554928201}, {\"source\": \"n_1\", \"target\": \"n_0.0\", \"width\": 1, \"time\": 1554928201}, {\"source\": \"n_1\", \"target\": \"n_0.0\", \"width\": 1, \"time\": 1554928201}, {\"source\": \"n_1\", \"target\": \"n_0.0\", \"width\": 1, \"time\": 1554928201}, {\"source\": \"n_1\", \"target\": \"n_0.0\", \"width\": 1, \"time\": 1554928201}, {\"source\": \"n_1\", \"target\": \"n_0.0\", \"width\": 1, \"time\": 1554928201}, {\"source\": \"n_1\", \"target\": \"n_0.0\", \"width\": 1, \"time\": 1554928201}, {\"source\": \"n_1\", \"target\": \"n_0.0\", \"width\": 1, \"time\": 1554928201}, {\"source\": \"n_1\", \"target\": \"n_0.0\", \"width\": 1, \"time\": 1554928201}, {\"source\": \"n_1\", \"target\": \"n_0.0\", \"width\": 1, \"time\": 1554928201}, {\"source\": \"n_1\", \"target\": \"n_0.0\", \"width\": 1, \"time\": 1554928201}, {\"source\": \"n_1\", \"target\": \"n_0.0\", \"width\": 1, \"time\": 1554928201}, {\"source\": \"n_1\", \"target\": \"n_0.0\", \"width\": 1, \"time\": 1554928201}, {\"source\": \"n_1\", \"target\": \"n_0.0\", \"width\": 1, \"time\": 1554928201}, {\"source\": \"n_1\", \"target\": \"n_0.0\", \"width\": 1, \"time\": 1554928201}, {\"source\": \"n_1\", \"target\": \"n_0.0\", \"width\": 1, \"time\": 1554928201}, {\"source\": \"n_1\", \"target\": \"n_0.0\", \"width\": 1, \"time\": 1554928201}, {\"source\": \"n_1\", \"target\": \"n_0.0\", \"width\": 1, \"time\": 1554928201}, {\"source\": \"n_1\", \"target\": \"n_0.0\", \"width\": 1, \"time\": 1554928201}, {\"source\": \"n_1\", \"target\": \"n_0.0\", \"width\": 1, \"time\": 1554928201}, {\"source\": \"n_1\", \"target\": \"n_0.0\", \"width\": 1, \"time\": 1554928201}, {\"source\": \"n_1\", \"target\": \"n_0.0\", \"width\": 1, \"time\": 1554928201}, {\"source\": \"n_1\", \"target\": \"n_0.0\", \"width\": 1, \"time\": 1554928201}, {\"source\": \"n_1\", \"target\": \"n_0.0\", \"width\": 1, \"time\": 1554928201}, {\"source\": \"n_1\", \"target\": \"n_0.0\", \"width\": 1, \"time\": 1554928201}, {\"source\": \"n_1\", \"target\": \"n_0.0\", \"width\": 1, \"time\": 1554928201}, {\"source\": \"n_1\", \"target\": \"n_0.0\", \"width\": 1, \"time\": 1554928201}, {\"source\": \"n_1\", \"target\": \"n_0.0\", \"width\": 1, \"time\": 1554928201}, {\"source\": \"n_1\", \"target\": \"n_0.0\", \"width\": 1, \"time\": 1554928201}, {\"source\": \"n_1\", \"target\": \"n_0.0\", \"width\": 1, \"time\": 1554928201}, {\"source\": \"n_1\", \"target\": \"n_0.0\", \"width\": 1, \"time\": 1554928201}, {\"source\": \"n_1\", \"target\": \"n_0.0\", \"width\": 1, \"time\": 1554928201}, {\"source\": \"n_1\", \"target\": \"n_0.0\", \"width\": 1, \"time\": 1554928201}, {\"source\": \"n_1\", \"target\": \"n_0.0\", \"width\": 1, \"time\": 1554928201}, {\"source\": \"n_1\", \"target\": \"n_0.0\", \"width\": 1, \"time\": 1554928201}, {\"source\": \"n_1\", \"target\": \"n_0.0\", \"width\": 1, \"time\": 1554928201}, {\"source\": \"n_1\", \"target\": \"n_0.0\", \"width\": 1, \"time\": 1554928201}, {\"source\": \"n_1\", \"target\": \"n_0.0\", \"width\": 1, \"time\": 1554928201}, {\"source\": \"n_1\", \"target\": \"n_0.0\", \"width\": 1, \"time\": 1554928201}, {\"source\": \"n_1\", \"target\": \"n_0.0\", \"width\": 1, \"time\": 1554928201}, {\"source\": \"n_1\", \"target\": \"n_0.0\", \"width\": 1, \"time\": 1554928201}, {\"source\": \"n_1\", \"target\": \"n_0.0\", \"width\": 1, \"time\": 1554928201}, {\"source\": \"n_1\", \"target\": \"n_0.0\", \"width\": 1, \"time\": 1554928201}, {\"source\": \"n_2\", \"target\": \"n_1.0\", \"width\": 1, \"time\": 1572735255}, {\"source\": \"n_2\", \"target\": \"n_1.0\", \"width\": 1, \"time\": 1572735255}, {\"source\": \"n_2\", \"target\": \"n_1.0\", \"width\": 1, \"time\": 1572735255}, {\"source\": \"n_2\", \"target\": \"n_1.0\", \"width\": 1, \"time\": 1572735255}, {\"source\": \"n_2\", \"target\": \"n_1.0\", \"width\": 1, \"time\": 1572735255}, {\"source\": \"n_2\", \"target\": \"n_1.0\", \"width\": 1, \"time\": 1572735255}, {\"source\": \"n_2\", \"target\": \"n_1.0\", \"width\": 1, \"time\": 1572735255}, {\"source\": \"n_2\", \"target\": \"n_1.0\", \"width\": 1, \"time\": 1572735255}, {\"source\": \"n_2\", \"target\": \"n_1.0\", \"width\": 1, \"time\": 1572735255}, {\"source\": \"n_2\", \"target\": \"n_1.0\", \"width\": 1, \"time\": 1572735255}, {\"source\": \"n_2\", \"target\": \"n_1.0\", \"width\": 1, \"time\": 1572735255}, {\"source\": \"n_2\", \"target\": \"n_1.0\", \"width\": 1, \"time\": 1572735255}, {\"source\": \"n_2\", \"target\": \"n_1.0\", \"width\": 1, \"time\": 1572735255}, {\"source\": \"n_2\", \"target\": \"n_1.0\", \"width\": 1, \"time\": 1572735255}, {\"source\": \"n_2\", \"target\": \"n_1.0\", \"width\": 1, \"time\": 1572735255}, {\"source\": \"n_2\", \"target\": \"n_1.0\", \"width\": 1, \"time\": 1572735255}, {\"source\": \"n_2\", \"target\": \"n_1.0\", \"width\": 1, \"time\": 1572735255}, {\"source\": \"n_2\", \"target\": \"n_1.0\", \"width\": 1, \"time\": 1572735255}, {\"source\": \"n_2\", \"target\": \"n_1.0\", \"width\": 1, \"time\": 1572735255}, {\"source\": \"n_2\", \"target\": \"n_1.0\", \"width\": 1, \"time\": 1572735255}, {\"source\": \"n_2\", \"target\": \"n_1.0\", \"width\": 1, \"time\": 1572735255}, {\"source\": \"n_2\", \"target\": \"n_1.0\", \"width\": 1, \"time\": 1572735255}, {\"source\": \"n_2\", \"target\": \"n_1.0\", \"width\": 1, \"time\": 1572735255}, {\"source\": \"n_2\", \"target\": \"n_1.0\", \"width\": 1, \"time\": 1572735255}, {\"source\": \"n_2\", \"target\": \"n_1.0\", \"width\": 1, \"time\": 1572735255}, {\"source\": \"n_2\", \"target\": \"n_1.0\", \"width\": 1, \"time\": 1572735255}, {\"source\": \"n_2\", \"target\": \"n_1.0\", \"width\": 1, \"time\": 1572735255}, {\"source\": \"n_2\", \"target\": \"n_1.0\", \"width\": 1, \"time\": 1572735255}, {\"source\": \"n_2\", \"target\": \"n_1.0\", \"width\": 1, \"time\": 1572735255}, {\"source\": \"n_2\", \"target\": \"n_1.0\", \"width\": 1, \"time\": 1572735255}, {\"source\": \"n_2\", \"target\": \"n_1.0\", \"width\": 1, \"time\": 1572735255}, {\"source\": \"n_2\", \"target\": \"n_1.0\", \"width\": 1, \"time\": 1572735255}, {\"source\": \"n_2\", \"target\": \"n_1.0\", \"width\": 1, \"time\": 1572735255}, {\"source\": \"n_2\", \"target\": \"n_1.0\", \"width\": 1, \"time\": 1572735255}, {\"source\": \"n_2\", \"target\": \"n_1.0\", \"width\": 1, \"time\": 1572735255}, {\"source\": \"n_2\", \"target\": \"n_1.0\", \"width\": 1, \"time\": 1572735255}, {\"source\": \"n_2\", \"target\": \"n_1.0\", \"width\": 1, \"time\": 1572735255}, {\"source\": \"n_2\", \"target\": \"n_1.0\", \"width\": 1, \"time\": 1572735255}, {\"source\": \"n_2\", \"target\": \"n_1.0\", \"width\": 1, \"time\": 1572735255}, {\"source\": \"n_2\", \"target\": \"n_1.0\", \"width\": 1, \"time\": 1572735255}, {\"source\": \"n_2\", \"target\": \"n_1.0\", \"width\": 1, \"time\": 1572735255}, {\"source\": \"n_2\", \"target\": \"n_1.0\", \"width\": 1, \"time\": 1572735255}, {\"source\": \"n_2\", \"target\": \"n_1.0\", \"width\": 1, \"time\": 1572735255}, {\"source\": \"n_2\", \"target\": \"n_1.0\", \"width\": 1, \"time\": 1572735255}, {\"source\": \"n_2\", \"target\": \"n_1.0\", \"width\": 1, \"time\": 1572735255}, {\"source\": \"n_2\", \"target\": \"n_1.0\", \"width\": 1, \"time\": 1572735255}, {\"source\": \"n_2\", \"target\": \"n_1.0\", \"width\": 1, \"time\": 1572735255}, {\"source\": \"n_2\", \"target\": \"n_1.0\", \"width\": 1, \"time\": 1572735255}, {\"source\": \"n_2\", \"target\": \"n_1.0\", \"width\": 1, \"time\": 1572735255}, {\"source\": \"n_2\", \"target\": \"n_1.0\", \"width\": 1, \"time\": 1572735255}, {\"source\": \"n_2\", \"target\": \"n_1.0\", \"width\": 1, \"time\": 1572735255}, {\"source\": \"n_2\", \"target\": \"n_1.0\", \"width\": 1, \"time\": 1572735255}, {\"source\": \"n_2\", \"target\": \"n_1.0\", \"width\": 1, \"time\": 1572735255}, {\"source\": \"n_2\", \"target\": \"n_1.0\", \"width\": 1, \"time\": 1572735255}, {\"source\": \"n_2\", \"target\": \"n_1.0\", \"width\": 1, \"time\": 1572735255}, {\"source\": \"n_2\", \"target\": \"n_1.0\", \"width\": 1, \"time\": 1572735255}, {\"source\": \"n_2\", \"target\": \"n_1.0\", \"width\": 1, \"time\": 1572735255}, {\"source\": \"n_2\", \"target\": \"n_1.0\", \"width\": 1, \"time\": 1572735255}, {\"source\": \"n_2\", \"target\": \"n_1.0\", \"width\": 1, \"time\": 1572735255}, {\"source\": \"n_2\", \"target\": \"n_1.0\", \"width\": 1, \"time\": 1572735255}, {\"source\": \"n_2\", \"target\": \"n_1.0\", \"width\": 1, \"time\": 1572735255}, {\"source\": \"n_2\", \"target\": \"n_1.0\", \"width\": 1, \"time\": 1572735255}, {\"source\": \"n_1\", \"target\": \"n_2.0\", \"width\": 1, \"time\": 1582310357}, {\"source\": \"n_1\", \"target\": \"n_2.0\", \"width\": 1, \"time\": 1582310357}, {\"source\": \"n_1\", \"target\": \"n_2.0\", \"width\": 1, \"time\": 1582112976}, {\"source\": \"n_1\", \"target\": \"n_2.0\", \"width\": 1, \"time\": 1582112976}, {\"source\": \"n_1\", \"target\": \"n_2.0\", \"width\": 1, \"time\": 1582112976}, {\"source\": \"n_1\", \"target\": \"n_2.0\", \"width\": 1, \"time\": 1582112976}, {\"source\": \"n_1\", \"target\": \"n_2.0\", \"width\": 1, \"time\": 1582112976}, {\"source\": \"n_1\", \"target\": \"n_2.0\", \"width\": 1, \"time\": 1582112976}, {\"source\": \"n_1\", \"target\": \"n_2.0\", \"width\": 1, \"time\": 1582112976}, {\"source\": \"n_1\", \"target\": \"n_2.0\", \"width\": 1, \"time\": 1582112976}, {\"source\": \"n_1\", \"target\": \"n_2.0\", \"width\": 1, \"time\": 1582112976}, {\"source\": \"n_1\", \"target\": \"n_2.0\", \"width\": 1, \"time\": 1582112976}, {\"source\": \"n_1\", \"target\": \"n_2.0\", \"width\": 1, \"time\": 1582112976}, {\"source\": \"n_1\", \"target\": \"n_2.0\", \"width\": 1, \"time\": 1582112976}, {\"source\": \"n_1\", \"target\": \"n_2.0\", \"width\": 1, \"time\": 1582112976}, {\"source\": \"n_1\", \"target\": \"n_2.0\", \"width\": 1, \"time\": 1582112976}, {\"source\": \"n_1\", \"target\": \"n_2.0\", \"width\": 1, \"time\": 1582112976}, {\"source\": \"n_1\", \"target\": \"n_2.0\", \"width\": 1, \"time\": 1582112976}, {\"source\": \"n_1\", \"target\": \"n_2.0\", \"width\": 1, \"time\": 1582112976}, {\"source\": \"n_1\", \"target\": \"n_2.0\", \"width\": 1, \"time\": 1582112976}, {\"source\": \"n_1\", \"target\": \"n_2.0\", \"width\": 1, \"time\": 1582112976}, {\"source\": \"n_1\", \"target\": \"n_2.0\", \"width\": 1, \"time\": 1582112976}, {\"source\": \"n_1\", \"target\": \"n_2.0\", \"width\": 1, \"time\": 1582112976}, {\"source\": \"n_1\", \"target\": \"n_2.0\", \"width\": 1, \"time\": 1582112976}, {\"source\": \"n_1\", \"target\": \"n_2.0\", \"width\": 1, \"time\": 1582112976}, {\"source\": \"n_1\", \"target\": \"n_2.0\", \"width\": 1, \"time\": 1582112976}, {\"source\": \"n_1\", \"target\": \"n_2.0\", \"width\": 1, \"time\": 1582112976}, {\"source\": \"n_1\", \"target\": \"n_2.0\", \"width\": 1, \"time\": 1582112976}, {\"source\": \"n_1\", \"target\": \"n_2.0\", \"width\": 1, \"time\": 1582112976}, {\"source\": \"n_1\", \"target\": \"n_2.0\", \"width\": 1, \"time\": 1582112976}, {\"source\": \"n_1\", \"target\": \"n_2.0\", \"width\": 1, \"time\": 1582112976}, {\"source\": \"n_1\", \"target\": \"n_2.0\", \"width\": 1, \"time\": 1582112976}, {\"source\": \"n_1\", \"target\": \"n_2.0\", \"width\": 1, \"time\": 1582112976}, {\"source\": \"n_1\", \"target\": \"n_2.0\", \"width\": 1, \"time\": 1582112976}, {\"source\": \"n_1\", \"target\": \"n_2.0\", \"width\": 1, \"time\": 1582112976}, {\"source\": \"n_1\", \"target\": \"n_2.0\", \"width\": 1, \"time\": 1582112976}, {\"source\": \"n_1\", \"target\": \"n_2.0\", \"width\": 1, \"time\": 1582112976}, {\"source\": \"n_1\", \"target\": \"n_2.0\", \"width\": 1, \"time\": 1582112976}, {\"source\": \"n_1\", \"target\": \"n_2.0\", \"width\": 1, \"time\": 1582112976}, {\"source\": \"n_1\", \"target\": \"n_2.0\", \"width\": 1, \"time\": 1582112976}, {\"source\": \"n_1\", \"target\": \"n_2.0\", \"width\": 1, \"time\": 1582112976}, {\"source\": \"n_1\", \"target\": \"n_2.0\", \"width\": 1, \"time\": 1582112976}, {\"source\": \"n_1\", \"target\": \"n_2.0\", \"width\": 1, \"time\": 1582112976}, {\"source\": \"n_1\", \"target\": \"n_2.0\", \"width\": 1, \"time\": 1582112976}, {\"source\": \"n_1\", \"target\": \"n_2.0\", \"width\": 1, \"time\": 1582112976}, {\"source\": \"n_1\", \"target\": \"n_2.0\", \"width\": 1, \"time\": 1582112976}, {\"source\": \"n_1\", \"target\": \"n_2.0\", \"width\": 1, \"time\": 1582112976}, {\"source\": \"n_1\", \"target\": \"n_2.0\", \"width\": 1, \"time\": 1582112976}, {\"source\": \"n_3\", \"target\": \"n_1.0\", \"width\": 1, \"time\": 1596568955}, {\"source\": \"n_3\", \"target\": \"n_1.0\", \"width\": 1, \"time\": 1596568955}, {\"source\": \"n_3\", \"target\": \"n_1.0\", \"width\": 1, \"time\": 1596568955}, {\"source\": \"n_3\", \"target\": \"n_1.0\", \"width\": 1, \"time\": 1598707338}, {\"source\": \"n_3\", \"target\": \"n_1.0\", \"width\": 1, \"time\": 1598707338}, {\"source\": \"n_3\", \"target\": \"n_1.0\", \"width\": 1, \"time\": 1598707338}, {\"source\": \"n_3\", \"target\": \"n_1.0\", \"width\": 1, \"time\": 1598707338}, {\"source\": \"n_3\", \"target\": \"n_1.0\", \"width\": 1, \"time\": 1598707338}, {\"source\": \"n_3\", \"target\": \"n_1.0\", \"width\": 1, \"time\": 1598707338}, {\"source\": \"n_3\", \"target\": \"n_1.0\", \"width\": 1, \"time\": 1598707338}, {\"source\": \"n_3\", \"target\": \"n_1.0\", \"width\": 1, \"time\": 1598707338}, {\"source\": \"n_3\", \"target\": \"n_1.0\", \"width\": 1, \"time\": 1598707338}, {\"source\": \"n_4\", \"target\": \"n_1.0\", \"width\": 1, \"time\": 1611924195}, {\"source\": \"n_4\", \"target\": \"n_1.0\", \"width\": 1, \"time\": 1611924195}, {\"source\": \"n_5\", \"target\": \"n_1.0\", \"width\": 1, \"time\": 1604407129}, {\"source\": \"n_1\", \"target\": \"n_0.0\", \"width\": 1, \"time\": 1547121374}, {\"source\": \"n_1\", \"target\": \"n_0.0\", \"width\": 1, \"time\": 1547121374}, {\"source\": \"n_1\", \"target\": \"n_0.0\", \"width\": 1, \"time\": 1547121374}, {\"source\": \"n_1\", \"target\": \"n_0.0\", \"width\": 1, \"time\": 1549280092}, {\"source\": \"n_1\", \"target\": \"n_0.0\", \"width\": 1, \"time\": 1549280092}, {\"source\": \"n_1\", \"target\": \"n_0.0\", \"width\": 1, \"time\": 1549280092}, {\"source\": \"n_1\", \"target\": \"n_0.0\", \"width\": 1, \"time\": 1549308429}, {\"source\": \"n_1\", \"target\": \"n_0.0\", \"width\": 1, \"time\": 1549308429}, {\"source\": \"n_1\", \"target\": \"n_0.0\", \"width\": 1, \"time\": 1549388208}, {\"source\": \"n_1\", \"target\": \"n_0.0\", \"width\": 1, \"time\": 1549458868}, {\"source\": \"n_1\", \"target\": \"n_0.0\", \"width\": 1, \"time\": 1549458868}, {\"source\": \"n_1\", \"target\": \"n_0.0\", \"width\": 1, \"time\": 1549410680}, {\"source\": \"n_1\", \"target\": \"n_2.0\", \"width\": 1, \"time\": 1594803473}]};\n",
       "    var tsperframe = 1;\n",
       "    var msperframe = 50;\n",
       "    var look_ahead = 10;\n",
       "    var look_behind = 10;\n",
       "\n",
       "    var hidden_link_strength = 0;\n",
       "    var active_link_strength = 0.2;\n",
       "\n",
       "    // create a dictionary with edges indexed by timestamps\n",
       "    var edgesbytime = {};\n",
       "    var time_stamps = temporal_net.links.map(link => link['time']);\n",
       "    time_stamps.forEach(function(t){\n",
       "                edgesbytime[t] = [];\n",
       "            });\n",
       "\n",
       "    // extract static links\n",
       "    var links = [];\n",
       "    var links_by_id = {};\n",
       "    temporal_net.links.forEach(function(link){\n",
       "        id = String(link.source + '-' + link.target);\n",
       "        edgesbytime[link.time].push(id);\n",
       "        l = {\n",
       "            'source': link.source,\n",
       "            'target': link.target,\n",
       "            'id': id,\n",
       "            'strength': 0\n",
       "        };\n",
       "        if (!contains(links, l)){\n",
       "            links.push(l);\n",
       "            links_by_id[l.id] = l;\n",
       "        }\n",
       "    });\n",
       "\n",
       "    var mintime = d3.min(time_stamps);\n",
       "    var maxtime = d3.max(time_stamps);\n",
       "    var run_status = true;\n",
       "\n",
       "    var simulation = d3.forceSimulation()\n",
       "        .force(\"link\", d3.forceLink().id(function(d) { return d.id; }))\n",
       "        .force(\"charge\", d3.forceManyBody().strength(-30).distanceMax(200))\n",
       "        .force(\"repelForce\", d3.forceManyBody().strength(-100).distanceMax(200))\n",
       "        .force(\"center\", d3.forceCenter(width / 2, height / 2))\n",
       "        .alphaTarget(0.1)\n",
       "        .on(\"tick\", ticked);\n",
       "\n",
       "    var g = svg.append(\"g\")\n",
       "        .attr(\"class\", \"everything\");\n",
       "\n",
       "    var link = g.append(\"g\")\n",
       "        .attr(\"class\", \"tlinks_ziUjoILh\")\n",
       "        .selectAll(\"line\")\n",
       "        .data(links, function(d){return d.id;})\n",
       "        .enter().append(\"line\")\n",
       "        .attr(\"id\", function(d) { return d.id; });\n",
       "\n",
       "    var node_g = g.append(\"g\").attr(\"class\", \"tnodes_ziUjoILh\")\n",
       "        .selectAll(\"circle\")\n",
       "        .data(temporal_net.nodes, function(d){return d.id;})\n",
       "        .enter()\n",
       "        .append(\"g\");\n",
       "\n",
       "    var node = node_g.append(\"circle\")\n",
       "            .attr('id', function(d) { return d.id; })\n",
       "            .attr(\"r\", radius)\n",
       "            // .attr(\"fill\", function(d) { return color(d.group); })\n",
       "            .attr(\"class\", \"tnodes_ziUjoILh\")\n",
       "            .call(d3.drag()\n",
       "                .on(\"start\", dragstarted)\n",
       "                .on(\"drag\", dragged)\n",
       "                .on(\"end\", dragended));\n",
       "\n",
       "    var text = node_g.append(\"text\")\n",
       "    .attr(\"x\", [0, -10][0])\n",
       "    .attr(\"y\", [0, -10][1])\n",
       "    .attr(\"id\", function(d) {return d.id; })\n",
       "    .attr(\"class\", \"active_ziUjoILh\")\n",
       "    .text(function(d) { return d.id; });\n",
       "\n",
       "    node.append(\"title\").text(function(d) { return d.id; });\n",
       "\n",
       "    var zoom_handler = d3.zoom()\n",
       "        .on(\"zoom\", zoom_actions);\n",
       "    zoom_handler(svg);\n",
       "\n",
       "    // build mapping to DOM objects once\n",
       "    // for performance reasons\n",
       "    var time_txt = d3.select('#ziUjoILh_time_txt');\n",
       "    var edges_to_dom = {};\n",
       "    var nodes_to_dom = {};\n",
       "\n",
       "    links.forEach(function(link){\n",
       "        edges_to_dom[link.id] = d3.select('#ziUjoILh #'+link.id);\n",
       "    });\n",
       "\n",
       "    temporal_net.nodes.forEach(function(n){\n",
       "        nodes_to_dom[n.id] = d3.select('#ziUjoILh #'+n.id);\n",
       "    });\n",
       "\n",
       "    // attach event handlers\n",
       "    d3.select('#ziUjoILh_start_txt').on(\"click\", pauseAnimation);\n",
       "    d3.select('#ziUjoILh_restart_txt').on(\"click\", restartAnimation);\n",
       "\n",
       "    simulation.nodes(temporal_net.nodes).on(\"tick\", ticked);\n",
       "    // simulation.force(\"link\").links(links);\n",
       "\n",
       "    // start animation\n",
       "    var time = mintime;\n",
       "    var intervl = setInterval(time_step, msperframe);\n",
       "    console.log('Started animation.')\n",
       "\n",
       "    // animates one time step\n",
       "    function time_step() {\n",
       "\n",
       "        time_txt.html('t = ' + time);\n",
       "\n",
       "        // stop animation\n",
       "        if(time > maxtime){\n",
       "            run_status = false;\n",
       "            clearInterval(intervl);\n",
       "            console.log('Stopped animation.')\n",
       "        }\n",
       "\n",
       "       // reset all links to hidden\n",
       "       for (id in edges_to_dom){\n",
       "            try {\n",
       "                // edges_to_dom[l.id].attr('class', 'links');\n",
       "                links_by_id[id].strength = hidden_link_strength;\n",
       "                edges_to_dom[id].attr('class', 'hidden_ziUjoILh');\n",
       "            }\n",
       "            catch(err){\n",
       "                console.log('Error: Could not find DOM object with id ' + id);\n",
       "            }\n",
       "        }\n",
       "        // reset all nodes to inactive\n",
       "        for (id in nodes_to_dom) {\n",
       "            try{\n",
       "                nodes_to_dom[id].attr(\"class\", \"tnodes_ziUjoILh\");\n",
       "            }\n",
       "            catch(err){\n",
       "                console.log('Error: Could not find DOM object with id ' + id);\n",
       "            }\n",
       "        }\n",
       "\n",
       "        // change nodes and links in current time slice\n",
       "        for (ti=Math.max(mintime, time-look_behind); ti<=time+look_ahead; ti++) {\n",
       "\n",
       "            if (ti in edgesbytime) {\n",
       "                edgesbytime[ti].forEach(function(id){\n",
       "                    links_by_id[id].strength = active_link_strength;\n",
       "                    // links that are currently active\n",
       "                    if (ti >= time-tsperframe+1 && ti <= time) {\n",
       "                        node_ids = id.split('-');\n",
       "                        try {\n",
       "                            edges_to_dom[id].attr('class', 'active_ziUjoILh').moveToFront();\n",
       "                        }\n",
       "                        catch(err){\n",
       "                            console.log('Error: Could not find DOM link with id ' + id);\n",
       "                        }\n",
       "                        try {\n",
       "                            nodes_to_dom[node_ids[0]].attr('class', 'active_ziUjoILh').moveToFront();\n",
       "                        }\n",
       "                        catch(err){\n",
       "                            console.log('Error: Could not find DOM node with id ' + node_ids[0]);\n",
       "                        }\n",
       "                        try {\n",
       "                            nodes_to_dom[node_ids[1]].attr('class', 'active_ziUjoILh').moveToFront();\n",
       "                        }\n",
       "                        catch(err){\n",
       "                            console.log('Error: Could not find DOM node with id ' + node_ids[1]);\n",
       "                        }\n",
       "                    }\n",
       "                    // links in current time slice that are not active\n",
       "                    else{\n",
       "                        edges_to_dom[id].attr('class', 'tlinks_ziUjoILh');\n",
       "                    }\n",
       "                });\n",
       "            }\n",
       "        }\n",
       "        simulation.force('link', d3.forceLink()\n",
       "            .id(link => link.id)\n",
       "            .strength(link => link.strength));\n",
       "        simulation.force(\"link\").links(links);\n",
       "        text.moveToFront();\n",
       "\n",
       "        time += tsperframe;\n",
       "    }\n",
       "\n",
       "    function pauseAnimation() {\n",
       "        if (run_status) {\n",
       "            run_status = false;\n",
       "            clearInterval(intervl);\n",
       "            d3.select('#ziUjoILh_start_txt').html('start');\n",
       "            console.log('Paused animation.')\n",
       "        }\n",
       "        else {\n",
       "            intervl = setInterval(time_step, msperframe);\n",
       "            run_status = true;\n",
       "            d3.select('#ziUjoILh_start_txt').html('stop');\n",
       "            console.log('Resumed animation.')\n",
       "        }\n",
       "\n",
       "    }\n",
       "\n",
       "    function zoom_actions(){\n",
       "        g.attr(\"transform\", d3.event.transform)\n",
       "    }\n",
       "\n",
       "    function restartAnimation() {\n",
       "        if (run_status)\n",
       "            clearInterval(intervl);\n",
       "        time = mintime;\n",
       "        time_txt.html('t = ' + time);\n",
       "        d3.select('#ziUjoILh_start_txt').html('stop');\n",
       "        run_status = true;\n",
       "        intervl = setInterval(time_step, msperframe);\n",
       "        console.log('Restarted animation.')\n",
       "    }\n",
       "\n",
       "    function ticked() {\n",
       "        link.attr(\"x1\", function(d) { return d.source.x; })\n",
       "            .attr(\"y1\", function(d) { return d.source.y; })\n",
       "            .attr(\"x2\", function(d) { return d.target.x; })\n",
       "            .attr(\"y2\", function(d) { return d.target.y; });\n",
       "\n",
       "         text.attr(\"transform\", transform);\n",
       "\n",
       "\n",
       "        text.attr(\"cx\", function(d) { return d.x; })\n",
       "            .attr(\"cy\", function(d) { return d.y; });\n",
       "\n",
       "        node.attr(\"cx\", function(d) { return d.x; })\n",
       "            .attr(\"cy\", function(d) { return d.y; });\n",
       "    }\n",
       "\n",
       "\n",
       "    function transform(d) {\n",
       "        return \"translate(\" + d.x + \",\" + d.y + \")\";\n",
       "    }\n",
       "\n",
       "    function dragstarted(d) {\n",
       "        if (!d3.event.active)\n",
       "            simulation.alphaTarget(0.2).restart();\n",
       "        d.fx = d.x;\n",
       "        d.fy = d.y;\n",
       "    }\n",
       "\n",
       "    function dragged(d) {\n",
       "        d.fx = d3.event.x;\n",
       "        d.fy = d3.event.y;\n",
       "    }\n",
       "\n",
       "    function dragended(d) {\n",
       "        if (!d3.event.active)\n",
       "            simulation.alphaTarget(0.2);\n",
       "        d.fx = null;\n",
       "        d.fy = null;\n",
       "    }\n",
       "\n",
       "    function contains(array, obj) {\n",
       "        var i = array.length;\n",
       "        while (i--) {\n",
       "        if (array[i] === obj) {\n",
       "            return true;\n",
       "        }\n",
       "        }\n",
       "        return false;\n",
       "    }\n",
       "});\n",
       "</script>\n"
      ],
      "text/plain": [
       "<pathpy.classes.temporal_network.TemporalNetwork at 0x7ffa4ab68910>"
      ]
     },
     "execution_count": 7,
     "metadata": {},
     "output_type": "execute_result"
    }
   ],
   "source": [
    "git2net.disambiguate_aliases_db(sqlite_db_file)\n",
    "t, node_info, edge_info = git2net.get_coediting_network(sqlite_db_file)\n",
    "t"
   ]
  },
  {
   "cell_type": "markdown",
   "metadata": {},
   "source": [
    "The function returns a `pathpy` temporal network object as well as two dictionaries which can be used to return properties of nodes and edges. As of writing this tutorial not all of them are used but they are set as placeholders for future versions of `git2net`.\n",
    "\n",
    "A `pathpy` temporal network object can be visualised by itself as shown above. In addition, we can also aggregate the network, by dropping the order of events, yielding a standard network object. Let's do this next."
   ]
  },
  {
   "cell_type": "code",
   "execution_count": 8,
   "metadata": {
    "ExecuteTime": {
     "end_time": "2021-09-21T15:15:03.718069Z",
     "start_time": "2021-09-21T15:15:03.711331Z"
    }
   },
   "outputs": [
    {
     "data": {
      "text/html": [
       "<style>\n",
       "    text.label_RiSTtGEO {\n",
       "        text-anchor: middle;\n",
       "        font-size: 8px;\n",
       "        font-family: Arial, Helvetica, sans-serif;\n",
       "        fill: #999999;\n",
       "        stroke: #ffffff;\n",
       "        stroke-width: 0.1px;\n",
       "        opacity: 1.0;\n",
       "    }\n",
       "    .links_RiSTtGEO line {\n",
       "    stroke-opacity: 1.0;\n",
       "    }\n",
       "    .arrows svg:path {\n",
       "        stroke: #666;\n",
       "    }\n",
       "    .nodes_RiSTtGEO circle {\n",
       "    stroke: #fff;\n",
       "    stroke-width: 0.5px;\n",
       "    }\n",
       "</style>\n",
       "\n",
       "<svg width=\"400\" height=\"400\" id=\"RiSTtGEO\">        \n",
       "    <text x=\"20\" y=\"20\" font-family=\"sans-serif\" font-size=\"14px\" fill=\"#666\" style=\"cursor: pointer\"\n",
       "        id='RiSTtGEO_svg_txt'>[save svg]</text>\n",
       "</svg>\n",
       "\n",
       "<script charset=\"utf-8\" src=\"https://d3js.org/d3.v4.min.js\"></script>\n",
       "<script charset=\"utf-8\">\n",
       "\n",
       "// Load via requireJS if available (jupyter notebook environment)\n",
       "try {\n",
       "    // Problem: require.config will raise an exception when called for the second time \n",
       "    require.config({\n",
       "        paths: {\n",
       "            //d3: \"https://d3js.org/d3.v4.min\"\n",
       "            d3: \"https://d3js.org/d3.v4.min.js\".replace(\".js\", \"\")\n",
       "        }\n",
       "    });\n",
       "    console.log(\"Detected requireJS\");\n",
       "}\n",
       "catch(err){\n",
       "    // a reference error indicates that requireJS does not exist. \n",
       "    // other errors may occur due to multiple calls to config\n",
       "    if (err instanceof ReferenceError){\n",
       "        console.log(\"Detected no requireJS\");\n",
       "\n",
       "        // Helper function that waits for d3js to be loaded\n",
       "        require = function require(symbols, callback) {\n",
       "            var ms = 5;\n",
       "            window.setTimeout(function(t) {\n",
       "                if (window[symbols[0]])\n",
       "                    callback(window[symbols[0]]);\n",
       "                else \n",
       "                    window.setTimeout(arguments.callee, ms);\n",
       "            }, ms);\n",
       "        }\n",
       "    }\n",
       "}\n",
       "\n",
       "// wait until d3js has been loaded\n",
       "require([\"d3\"], function(d3) {\n",
       "    var svg = d3.select(\"#\"+\"RiSTtGEO\"), radius = 6, width = +svg.attr(\"width\"), height = +svg.attr(\"height\");\n",
       "\n",
       "    var color = d3.scaleOrdinal(d3.schemeCategory20);\n",
       "\n",
       "    var graph = {\"links\": [{\"source\": \"n_1\", \"target\": \"n_0.0\", \"color\": \"#999999\", \"width\": 0.5, \"weight\": 1.0}, {\"source\": \"n_2\", \"target\": \"n_1.0\", \"color\": \"#999999\", \"width\": 0.5, \"weight\": 0.5585585585585585}, {\"source\": \"n_1\", \"target\": \"n_2.0\", \"color\": \"#999999\", \"width\": 0.5, \"weight\": 0.44144144144144143}, {\"source\": \"n_3\", \"target\": \"n_1.0\", \"color\": \"#999999\", \"width\": 0.5, \"weight\": 1.0}, {\"source\": \"n_4\", \"target\": \"n_1.0\", \"color\": \"#999999\", \"width\": 0.5, \"weight\": 1.0}, {\"source\": \"n_5\", \"target\": \"n_1.0\", \"color\": \"#999999\", \"width\": 0.5, \"weight\": 1.0}], \"nodes\": [{\"id\": \"n_1\", \"text\": \"n_1\", \"color\": \"#99ccff\", \"size\": 5.0}, {\"id\": \"n_0.0\", \"text\": \"n_0.0\", \"color\": \"#99ccff\", \"size\": 5.0}, {\"id\": \"n_2\", \"text\": \"n_2\", \"color\": \"#99ccff\", \"size\": 5.0}, {\"id\": \"n_3\", \"text\": \"n_3\", \"color\": \"#99ccff\", \"size\": 5.0}, {\"id\": \"n_4\", \"text\": \"n_4\", \"color\": \"#99ccff\", \"size\": 5.0}, {\"id\": \"n_5\", \"text\": \"n_5\", \"color\": \"#99ccff\", \"size\": 5.0}]};\n",
       "    var directed = true;\n",
       "\n",
       "    var simulation = d3.forceSimulation()        \n",
       "       .force(\"link\", d3.forceLink().id(function(d) { return d.id; }).strength(function(d){return d.weight;}))\n",
       "        .force(\"charge\", d3.forceManyBody().strength(-20).distanceMax(400))\n",
       "       .force(\"repelForce\", d3.forceManyBody().strength(-200).distanceMax(100))\n",
       "       .force(\"center\", d3.forceCenter(400 / 2, 400 / 2))\n",
       "       .alphaTarget(0.0);\n",
       "\n",
       "    svg.append(\"defs\").selectAll(\"marker\")\n",
       "        .data([\"end\"])\n",
       "    .enter().append(\"marker\")\n",
       "        .attr(\"id\", String)\n",
       "        .attr(\"viewBox\", \"0 -5 20 20\")\n",
       "        .attr(\"refX\", 34)\n",
       "        .attr(\"refY\", 0)\n",
       "        .attr(\"markerWidth\", 15)\n",
       "        .attr(\"markerHeight\", 15)\n",
       "        .attr(\"orient\", \"auto\")\n",
       "    .append(\"path\")\n",
       "        // draws a filled path (triangle) between three points\n",
       "        .attr(\"d\", \"M0,-5 L20,0 L0,5 z\")\n",
       "        .attr(\"fill\", '#999')\n",
       "        .attr(\"stroke\", 'none');\n",
       "\n",
       "    var g = svg.append(\"g\")\n",
       "        .attr(\"class\", \"everything\");\n",
       "\n",
       "    var link = g.append(\"g\")\n",
       "        .attr(\"class\", \"links_RiSTtGEO\")\n",
       "        .selectAll(\"line\")\n",
       "        .data(graph.links)\n",
       "        .enter().append(\"line\")\n",
       "        .attr(\"stroke-width\", function(d) { return d.width; })\n",
       "        .attr(\"stroke\", function(d) { return d.color; } );\n",
       "\n",
       "    if (directed)\n",
       "        link.attr(\"marker-end\", \"url(#end)\");\n",
       "\n",
       "    var node_g = g.append(\"g\")\n",
       "        .attr(\"class\", \"nodes_RiSTtGEO\")\n",
       "        .selectAll(\"circle\")\n",
       "        .data(graph.nodes)\n",
       "        .enter()\n",
       "        .append(\"g\"); \n",
       "\n",
       "    var node = node_g.append(\"circle\")\n",
       "        .attr('id', function(d) { return d.id; })\n",
       "        .attr(\"r\", function(d) { return d.size; })\n",
       "        .attr(\"fill\", function(d) { return d.color; })\n",
       "        .call(d3.drag()\n",
       "            .on(\"start\", dragstarted)\n",
       "            .on(\"drag\", dragged)\n",
       "            .on(\"end\", dragended));\n",
       "\n",
       "    var text = node_g.append(\"text\")\n",
       "    .attr(\"x\", [0, -10][0])\n",
       "    .attr(\"y\", [0, -10][1]+3)\n",
       "    .attr(\"id\", function(d) {return d.id; })\n",
       "    .attr(\"class\", \"label_RiSTtGEO\")\n",
       "    .text(function(d) { return d.id; });\n",
       "\n",
       "    node.append(\"title\")\n",
       "        .text(function(d) { return d.text; });\n",
       "\n",
       "    var zoom_handler = d3.zoom()\n",
       "        .on(\"zoom\", zoom_actions);\n",
       "    zoom_handler(svg);\n",
       "\n",
       "    // attach event handler for svg export\n",
       "    d3.select('#RiSTtGEO_svg_txt').on(\"click\", save_svg);\n",
       "\n",
       "    simulation\n",
       "        .nodes(graph.nodes)\n",
       "        .on(\"tick\", ticked);\n",
       "\n",
       "    simulation.force(\"link\")\n",
       "        .links(graph.links);\n",
       "\n",
       "    function ticked() {\n",
       "        link.attr(\"x1\", function(d) { return d.source.x; })\n",
       "            .attr(\"y1\", function(d) { return d.source.y; })\n",
       "            .attr(\"x2\", function(d) { return d.target.x; })\n",
       "            .attr(\"y2\", function(d) { return d.target.y; });\n",
       "\n",
       "         text.attr(\"transform\", transform);\n",
       "\n",
       "\n",
       "        text.attr(\"cx\", function(d) { return d.x; })\n",
       "            .attr(\"cy\", function(d) { return d.y; });\n",
       "\n",
       "        node.attr(\"cx\", function(d) { return d.x; })\n",
       "            .attr(\"cy\", function(d) { return d.y; });\n",
       "    }\n",
       "\n",
       "    function transform(d) {\n",
       "        return \"translate(\" + d.x + \",\" + d.y + \")\";\n",
       "    }\n",
       "\n",
       "    function dragstarted(d) {\n",
       "    if (!d3.event.active) simulation.alphaTarget(0.3).restart();\n",
       "    d.fx = d.x;\n",
       "    d.fy = d.y;\n",
       "    }\n",
       "\n",
       "    function zoom_actions(){\n",
       "        g.attr(\"transform\", d3.event.transform)\n",
       "    }    \n",
       "\n",
       "    function dragged(d) {\n",
       "    d.fx = d3.event.x;\n",
       "    d.fy = d3.event.y;\n",
       "    }\n",
       "\n",
       "    function dragended(d) {\n",
       "    if (!d3.event.active) simulation.alphaTarget(0);\n",
       "    d.fx = null;\n",
       "    d.fy = null;\n",
       "    }\n",
       "\n",
       "    function to_svg() {\n",
       "        // Returns a SVG representation of the current state of the visualisation\n",
       "\t    var svg  = document.getElementById('RiSTtGEO');\n",
       "\t    var xml = (new XMLSerializer).serializeToString(svg);\n",
       "        return xml;\n",
       "    }\n",
       "\n",
       "    function save_svg() {\n",
       "        var svg  = document.getElementById('RiSTtGEO');\n",
       "        var xml = (new XMLSerializer).serializeToString(svg);        \n",
       "        var blob = new Blob([xml], {type: 'text/xml'});\n",
       "        if(window.navigator.msSaveOrOpenBlob) {\n",
       "            window.navigator.msSaveBlob(blob, 'network.svg');\n",
       "        }\n",
       "        else{\n",
       "            var elem = window.document.createElement('a');\n",
       "            elem.href = window.URL.createObjectURL(blob);\n",
       "            elem.download = 'network.svg';\n",
       "            document.body.appendChild(elem);\n",
       "            elem.click();\n",
       "            document.body.removeChild(elem);\n",
       "        }\n",
       "    }\n",
       "});\n",
       "</script>"
      ],
      "text/plain": [
       "<pathpy.classes.network.Network at 0x7ffab86e0610>"
      ]
     },
     "execution_count": 8,
     "metadata": {},
     "output_type": "execute_result"
    }
   ],
   "source": [
    "import pathpy as pp\n",
    "pp.Network.from_temporal_network(t)"
   ]
  },
  {
   "cell_type": "markdown",
   "metadata": {},
   "source": [
    "In both the temporal and aggregated network, a node represents an author, whereas edges point from the person changing a line of code to the person who was the original author.\n",
    "\n",
    "Next, we could ask the question which those files were that authors collaborated on. Therefore, we can plot a bipartite network containing both files and authors as nodes."
   ]
  },
  {
   "cell_type": "code",
   "execution_count": 9,
   "metadata": {
    "ExecuteTime": {
     "end_time": "2021-09-21T15:15:03.805701Z",
     "start_time": "2021-09-21T15:15:03.719833Z"
    }
   },
   "outputs": [
    {
     "data": {
      "text/html": [
       "<style>\n",
       "    text.label_dktacSDv {\n",
       "        text-anchor: middle;\n",
       "        font-size: 8px;\n",
       "        font-family: Arial, Helvetica, sans-serif;\n",
       "        fill: #999999;\n",
       "        stroke: #ffffff;\n",
       "        stroke-width: 0.1px;\n",
       "        opacity: 1.0;\n",
       "    }\n",
       "    .links_dktacSDv line {\n",
       "    stroke-opacity: 1.0;\n",
       "    }\n",
       "    .arrows svg:path {\n",
       "        stroke: #666;\n",
       "    }\n",
       "    .nodes_dktacSDv circle {\n",
       "    stroke: #fff;\n",
       "    stroke-width: 0.5px;\n",
       "    }\n",
       "</style>\n",
       "\n",
       "<svg width=\"400\" height=\"400\" id=\"dktacSDv\">        \n",
       "    <text x=\"20\" y=\"20\" font-family=\"sans-serif\" font-size=\"14px\" fill=\"#666\" style=\"cursor: pointer\"\n",
       "        id='dktacSDv_svg_txt'>[save svg]</text>\n",
       "</svg>\n",
       "\n",
       "<script charset=\"utf-8\" src=\"https://d3js.org/d3.v4.min.js\"></script>\n",
       "<script charset=\"utf-8\">\n",
       "\n",
       "// Load via requireJS if available (jupyter notebook environment)\n",
       "try {\n",
       "    // Problem: require.config will raise an exception when called for the second time \n",
       "    require.config({\n",
       "        paths: {\n",
       "            //d3: \"https://d3js.org/d3.v4.min\"\n",
       "            d3: \"https://d3js.org/d3.v4.min.js\".replace(\".js\", \"\")\n",
       "        }\n",
       "    });\n",
       "    console.log(\"Detected requireJS\");\n",
       "}\n",
       "catch(err){\n",
       "    // a reference error indicates that requireJS does not exist. \n",
       "    // other errors may occur due to multiple calls to config\n",
       "    if (err instanceof ReferenceError){\n",
       "        console.log(\"Detected no requireJS\");\n",
       "\n",
       "        // Helper function that waits for d3js to be loaded\n",
       "        require = function require(symbols, callback) {\n",
       "            var ms = 5;\n",
       "            window.setTimeout(function(t) {\n",
       "                if (window[symbols[0]])\n",
       "                    callback(window[symbols[0]]);\n",
       "                else \n",
       "                    window.setTimeout(arguments.callee, ms);\n",
       "            }, ms);\n",
       "        }\n",
       "    }\n",
       "}\n",
       "\n",
       "// wait until d3js has been loaded\n",
       "require([\"d3\"], function(d3) {\n",
       "    var svg = d3.select(\"#\"+\"dktacSDv\"), radius = 6, width = +svg.attr(\"width\"), height = +svg.attr(\"height\");\n",
       "\n",
       "    var color = d3.scaleOrdinal(d3.schemeCategory20);\n",
       "\n",
       "    var graph = {\"links\": [{\"source\": \"n_0\", \"target\": \"test.py\", \"color\": \"#999999\", \"width\": 0.5, \"weight\": 1.0}, {\"source\": \"n_0\", \"target\": \"ignore\", \"color\": \"#999999\", \"width\": 0.5, \"weight\": 0.5}, {\"source\": \"n_0\", \"target\": \"pyce.py\", \"color\": \"#999999\", \"width\": 0.5, \"weight\": 0.3}, {\"source\": \"n_1\", \"target\": \"pyce.py\", \"color\": \"#999999\", \"width\": 0.5, \"weight\": 0.7272727272727273}, {\"source\": \"n_0\", \"target\": \"anonymize.py\", \"color\": \"#999999\", \"width\": 0.5, \"weight\": 0.6666666666666666}, {\"source\": \"n_1\", \"target\": \"git2net.py\", \"color\": \"#999999\", \"width\": 0.5, \"weight\": 1.0}, {\"source\": \"n_1\", \"target\": \".gitignore\", \"color\": \"#999999\", \"width\": 0.5, \"weight\": 1.0}, {\"source\": \"n_1\", \"target\": \"test_git2net.py\", \"color\": \"#999999\", \"width\": 0.5, \"weight\": 1.0}, {\"source\": \"n_1\", \"target\": \"README.md\", \"color\": \"#999999\", \"width\": 0.5, \"weight\": 1.0}, {\"source\": \"n_1\", \"target\": \"test_repo_1.zip\", \"color\": \"#999999\", \"width\": 0.5, \"weight\": 1.0}, {\"source\": \"n_1\", \"target\": \"get_original_line_number.md\", \"color\": \"#999999\", \"width\": 0.5, \"weight\": 1.0}, {\"source\": \"n_1\", \"target\": \"anonymize.py\", \"color\": \"#999999\", \"width\": 0.5, \"weight\": 0.3333333333333333}, {\"source\": \"n_1\", \"target\": \"extraction.py\", \"color\": \"#999999\", \"width\": 0.5, \"weight\": 0.9705882352941176}, {\"source\": \"n_1\", \"target\": \"__init__.py\", \"color\": \"#999999\", \"width\": 0.5, \"weight\": 1.0}, {\"source\": \"n_1\", \"target\": \"visualisation.py\", \"color\": \"#999999\", \"width\": 0.5, \"weight\": 1.0}, {\"source\": \"n_1\", \"target\": \"LICENSE.txt\", \"color\": \"#999999\", \"width\": 0.5, \"weight\": 1.0}, {\"source\": \"n_1\", \"target\": \"requirements.txt\", \"color\": \"#999999\", \"width\": 0.5, \"weight\": 1.0}, {\"source\": \"n_1\", \"target\": \"TUTORIAL.ipynb\", \"color\": \"#999999\", \"width\": 0.5, \"weight\": 0.7777777777777778}, {\"source\": \"n_2\", \"target\": \"extraction.py\", \"color\": \"#999999\", \"width\": 0.5, \"weight\": 1.0}, {\"source\": \"n_1\", \"target\": \"test_functions.py\", \"color\": \"#999999\", \"width\": 0.5, \"weight\": 1.0}, {\"source\": \"n_3\", \"target\": \"TUTORIAL.ipynb\", \"color\": \"#999999\", \"width\": 0.5, \"weight\": 1.0}, {\"source\": \"n_4\", \"target\": \"command_line.py\", \"color\": \"#999999\", \"width\": 0.5, \"weight\": 1.0}, {\"source\": \"n_5\", \"target\": \"extraction.py\", \"color\": \"#999999\", \"width\": 0.5, \"weight\": 1.0}, {\"source\": \"n_1\", \"target\": \"test_extract_coedits.py\", \"color\": \"#999999\", \"width\": 0.5, \"weight\": 1.0}, {\"source\": \"n_1\", \"target\": \"test_identify_edits.py\", \"color\": \"#999999\", \"width\": 0.5, \"weight\": 1.0}, {\"source\": \"n_1\", \"target\": \"test_visualisation.py\", \"color\": \"#999999\", \"width\": 0.5, \"weight\": 1.0}, {\"source\": \"n_1\", \"target\": \"ignore\", \"color\": \"#999999\", \"width\": 0.5, \"weight\": 0.5}, {\"source\": \"n_1\", \"target\": \"test_extract_editing_paths.py\", \"color\": \"#999999\", \"width\": 0.5, \"weight\": 1.0}, {\"source\": \"n_1\", \"target\": \"test_get_original_line_number.py\", \"color\": \"#999999\", \"width\": 0.5, \"weight\": 1.0}, {\"source\": \"n_1\", \"target\": \"test_extract_edits.py\", \"color\": \"#999999\", \"width\": 0.5, \"weight\": 1.0}, {\"source\": \"n_1\", \"target\": \"test_get_paths_to_origin.py\", \"color\": \"#999999\", \"width\": 0.5, \"weight\": 1.0}, {\"source\": \"n_1\", \"target\": \"get_previous_names.py\", \"color\": \"#999999\", \"width\": 0.5, \"weight\": 1.0}, {\"source\": \"n_1\", \"target\": \"test_get_unified_changes.py\", \"color\": \"#999999\", \"width\": 0.5, \"weight\": 1.0}, {\"source\": \"n_1\", \"target\": \"setup.py\", \"color\": \"#999999\", \"width\": 0.5, \"weight\": 1.0}, {\"source\": \"n_1\", \"target\": \"bug_report.md\", \"color\": \"#999999\", \"width\": 0.5, \"weight\": 1.0}, {\"source\": \"n_1\", \"target\": \"feature_request.md\", \"color\": \"#999999\", \"width\": 0.5, \"weight\": 1.0}, {\"source\": \"n_1\", \"target\": \"test_get_path_to_origin.py\", \"color\": \"#999999\", \"width\": 0.5, \"weight\": 1.0}, {\"source\": \"n_1\", \"target\": \"test_identify_file_renaming.py\", \"color\": \"#999999\", \"width\": 0.5, \"weight\": 1.0}, {\"source\": \"n_1\", \"target\": \".gitmodules\", \"color\": \"#999999\", \"width\": 0.5, \"weight\": 1.0}, {\"source\": \"n_1\", \"target\": \"command_line.py\", \"color\": \"#999999\", \"width\": 0.5, \"weight\": 0.6666666666666666}, {\"source\": \"n_1\", \"target\": \"_test_extract_editing_paths.py\", \"color\": \"#999999\", \"width\": 0.5, \"weight\": 1.0}, {\"source\": \"n_1\", \"target\": \"_test_extract_edits.py\", \"color\": \"#999999\", \"width\": 0.5, \"weight\": 1.0}, {\"source\": \"n_1\", \"target\": \"_test_get_original_line_number.py\", \"color\": \"#999999\", \"width\": 0.5, \"weight\": 1.0}, {\"source\": \"n_1\", \"target\": \"_test_get_paths_to_origin.py\", \"color\": \"#999999\", \"width\": 0.5, \"weight\": 1.0}, {\"source\": \"n_1\", \"target\": \"_test_get_unified_changes.py\", \"color\": \"#999999\", \"width\": 0.5, \"weight\": 1.0}, {\"source\": \"n_1\", \"target\": \"_test_git2net.py\", \"color\": \"#999999\", \"width\": 0.5, \"weight\": 1.0}, {\"source\": \"n_1\", \"target\": \"_test_identify_edits.py\", \"color\": \"#999999\", \"width\": 0.5, \"weight\": 1.0}, {\"source\": \"n_1\", \"target\": \"_test_identify_file_renaming.py\", \"color\": \"#999999\", \"width\": 0.5, \"weight\": 1.0}, {\"source\": \"n_1\", \"target\": \"_test_visualisation.py\", \"color\": \"#999999\", \"width\": 0.5, \"weight\": 1.0}], \"nodes\": [{\"id\": \"n_0\", \"text\": \"n_0\", \"color\": \"#99ccff\", \"size\": 5.0}, {\"id\": \"test.py\", \"text\": \"test.py\", \"color\": \"#99ccff\", \"size\": 5.0}, {\"id\": \"ignore\", \"text\": \"ignore\", \"color\": \"#99ccff\", \"size\": 5.0}, {\"id\": \"pyce.py\", \"text\": \"pyce.py\", \"color\": \"#99ccff\", \"size\": 5.0}, {\"id\": \"n_1\", \"text\": \"n_1\", \"color\": \"#99ccff\", \"size\": 5.0}, {\"id\": \"anonymize.py\", \"text\": \"anonymize.py\", \"color\": \"#99ccff\", \"size\": 5.0}, {\"id\": \"git2net.py\", \"text\": \"git2net.py\", \"color\": \"#99ccff\", \"size\": 5.0}, {\"id\": \".gitignore\", \"text\": \".gitignore\", \"color\": \"#99ccff\", \"size\": 5.0}, {\"id\": \"test_git2net.py\", \"text\": \"test_git2net.py\", \"color\": \"#99ccff\", \"size\": 5.0}, {\"id\": \"README.md\", \"text\": \"README.md\", \"color\": \"#99ccff\", \"size\": 5.0}, {\"id\": \"test_repo_1.zip\", \"text\": \"test_repo_1.zip\", \"color\": \"#99ccff\", \"size\": 5.0}, {\"id\": \"get_original_line_number.md\", \"text\": \"get_original_line_number.md\", \"color\": \"#99ccff\", \"size\": 5.0}, {\"id\": \"extraction.py\", \"text\": \"extraction.py\", \"color\": \"#99ccff\", \"size\": 5.0}, {\"id\": \"__init__.py\", \"text\": \"__init__.py\", \"color\": \"#99ccff\", \"size\": 5.0}, {\"id\": \"visualisation.py\", \"text\": \"visualisation.py\", \"color\": \"#99ccff\", \"size\": 5.0}, {\"id\": \"LICENSE.txt\", \"text\": \"LICENSE.txt\", \"color\": \"#99ccff\", \"size\": 5.0}, {\"id\": \"requirements.txt\", \"text\": \"requirements.txt\", \"color\": \"#99ccff\", \"size\": 5.0}, {\"id\": \"TUTORIAL.ipynb\", \"text\": \"TUTORIAL.ipynb\", \"color\": \"#99ccff\", \"size\": 5.0}, {\"id\": \"n_2\", \"text\": \"n_2\", \"color\": \"#99ccff\", \"size\": 5.0}, {\"id\": \"test_functions.py\", \"text\": \"test_functions.py\", \"color\": \"#99ccff\", \"size\": 5.0}, {\"id\": \"n_3\", \"text\": \"n_3\", \"color\": \"#99ccff\", \"size\": 5.0}, {\"id\": \"n_4\", \"text\": \"n_4\", \"color\": \"#99ccff\", \"size\": 5.0}, {\"id\": \"command_line.py\", \"text\": \"command_line.py\", \"color\": \"#99ccff\", \"size\": 5.0}, {\"id\": \"n_5\", \"text\": \"n_5\", \"color\": \"#99ccff\", \"size\": 5.0}, {\"id\": \"test_extract_coedits.py\", \"text\": \"test_extract_coedits.py\", \"color\": \"#99ccff\", \"size\": 5.0}, {\"id\": \"test_identify_edits.py\", \"text\": \"test_identify_edits.py\", \"color\": \"#99ccff\", \"size\": 5.0}, {\"id\": \"test_visualisation.py\", \"text\": \"test_visualisation.py\", \"color\": \"#99ccff\", \"size\": 5.0}, {\"id\": \"test_extract_editing_paths.py\", \"text\": \"test_extract_editing_paths.py\", \"color\": \"#99ccff\", \"size\": 5.0}, {\"id\": \"test_get_original_line_number.py\", \"text\": \"test_get_original_line_number.py\", \"color\": \"#99ccff\", \"size\": 5.0}, {\"id\": \"test_extract_edits.py\", \"text\": \"test_extract_edits.py\", \"color\": \"#99ccff\", \"size\": 5.0}, {\"id\": \"test_get_paths_to_origin.py\", \"text\": \"test_get_paths_to_origin.py\", \"color\": \"#99ccff\", \"size\": 5.0}, {\"id\": \"get_previous_names.py\", \"text\": \"get_previous_names.py\", \"color\": \"#99ccff\", \"size\": 5.0}, {\"id\": \"test_get_unified_changes.py\", \"text\": \"test_get_unified_changes.py\", \"color\": \"#99ccff\", \"size\": 5.0}, {\"id\": \"setup.py\", \"text\": \"setup.py\", \"color\": \"#99ccff\", \"size\": 5.0}, {\"id\": \"bug_report.md\", \"text\": \"bug_report.md\", \"color\": \"#99ccff\", \"size\": 5.0}, {\"id\": \"feature_request.md\", \"text\": \"feature_request.md\", \"color\": \"#99ccff\", \"size\": 5.0}, {\"id\": \"test_get_path_to_origin.py\", \"text\": \"test_get_path_to_origin.py\", \"color\": \"#99ccff\", \"size\": 5.0}, {\"id\": \"test_identify_file_renaming.py\", \"text\": \"test_identify_file_renaming.py\", \"color\": \"#99ccff\", \"size\": 5.0}, {\"id\": \".gitmodules\", \"text\": \".gitmodules\", \"color\": \"#99ccff\", \"size\": 5.0}, {\"id\": \"_test_extract_editing_paths.py\", \"text\": \"_test_extract_editing_paths.py\", \"color\": \"#99ccff\", \"size\": 5.0}, {\"id\": \"_test_extract_edits.py\", \"text\": \"_test_extract_edits.py\", \"color\": \"#99ccff\", \"size\": 5.0}, {\"id\": \"_test_get_original_line_number.py\", \"text\": \"_test_get_original_line_number.py\", \"color\": \"#99ccff\", \"size\": 5.0}, {\"id\": \"_test_get_paths_to_origin.py\", \"text\": \"_test_get_paths_to_origin.py\", \"color\": \"#99ccff\", \"size\": 5.0}, {\"id\": \"_test_get_unified_changes.py\", \"text\": \"_test_get_unified_changes.py\", \"color\": \"#99ccff\", \"size\": 5.0}, {\"id\": \"_test_git2net.py\", \"text\": \"_test_git2net.py\", \"color\": \"#99ccff\", \"size\": 5.0}, {\"id\": \"_test_identify_edits.py\", \"text\": \"_test_identify_edits.py\", \"color\": \"#99ccff\", \"size\": 5.0}, {\"id\": \"_test_identify_file_renaming.py\", \"text\": \"_test_identify_file_renaming.py\", \"color\": \"#99ccff\", \"size\": 5.0}, {\"id\": \"_test_visualisation.py\", \"text\": \"_test_visualisation.py\", \"color\": \"#99ccff\", \"size\": 5.0}]};\n",
       "    var directed = true;\n",
       "\n",
       "    var simulation = d3.forceSimulation()        \n",
       "       .force(\"link\", d3.forceLink().id(function(d) { return d.id; }).strength(function(d){return d.weight;}))\n",
       "        .force(\"charge\", d3.forceManyBody().strength(-20).distanceMax(400))\n",
       "       .force(\"repelForce\", d3.forceManyBody().strength(-200).distanceMax(100))\n",
       "       .force(\"center\", d3.forceCenter(400 / 2, 400 / 2))\n",
       "       .alphaTarget(0.0);\n",
       "\n",
       "    svg.append(\"defs\").selectAll(\"marker\")\n",
       "        .data([\"end\"])\n",
       "    .enter().append(\"marker\")\n",
       "        .attr(\"id\", String)\n",
       "        .attr(\"viewBox\", \"0 -5 20 20\")\n",
       "        .attr(\"refX\", 34)\n",
       "        .attr(\"refY\", 0)\n",
       "        .attr(\"markerWidth\", 15)\n",
       "        .attr(\"markerHeight\", 15)\n",
       "        .attr(\"orient\", \"auto\")\n",
       "    .append(\"path\")\n",
       "        // draws a filled path (triangle) between three points\n",
       "        .attr(\"d\", \"M0,-5 L20,0 L0,5 z\")\n",
       "        .attr(\"fill\", '#999')\n",
       "        .attr(\"stroke\", 'none');\n",
       "\n",
       "    var g = svg.append(\"g\")\n",
       "        .attr(\"class\", \"everything\");\n",
       "\n",
       "    var link = g.append(\"g\")\n",
       "        .attr(\"class\", \"links_dktacSDv\")\n",
       "        .selectAll(\"line\")\n",
       "        .data(graph.links)\n",
       "        .enter().append(\"line\")\n",
       "        .attr(\"stroke-width\", function(d) { return d.width; })\n",
       "        .attr(\"stroke\", function(d) { return d.color; } );\n",
       "\n",
       "    if (directed)\n",
       "        link.attr(\"marker-end\", \"url(#end)\");\n",
       "\n",
       "    var node_g = g.append(\"g\")\n",
       "        .attr(\"class\", \"nodes_dktacSDv\")\n",
       "        .selectAll(\"circle\")\n",
       "        .data(graph.nodes)\n",
       "        .enter()\n",
       "        .append(\"g\"); \n",
       "\n",
       "    var node = node_g.append(\"circle\")\n",
       "        .attr('id', function(d) { return d.id; })\n",
       "        .attr(\"r\", function(d) { return d.size; })\n",
       "        .attr(\"fill\", function(d) { return d.color; })\n",
       "        .call(d3.drag()\n",
       "            .on(\"start\", dragstarted)\n",
       "            .on(\"drag\", dragged)\n",
       "            .on(\"end\", dragended));\n",
       "\n",
       "    var text = node_g.append(\"text\")\n",
       "    .attr(\"x\", [0, -10][0])\n",
       "    .attr(\"y\", [0, -10][1]+3)\n",
       "    .attr(\"id\", function(d) {return d.id; })\n",
       "    .attr(\"class\", \"label_dktacSDv\")\n",
       "    .text(function(d) { return d.id; });\n",
       "\n",
       "    node.append(\"title\")\n",
       "        .text(function(d) { return d.text; });\n",
       "\n",
       "    var zoom_handler = d3.zoom()\n",
       "        .on(\"zoom\", zoom_actions);\n",
       "    zoom_handler(svg);\n",
       "\n",
       "    // attach event handler for svg export\n",
       "    d3.select('#dktacSDv_svg_txt').on(\"click\", save_svg);\n",
       "\n",
       "    simulation\n",
       "        .nodes(graph.nodes)\n",
       "        .on(\"tick\", ticked);\n",
       "\n",
       "    simulation.force(\"link\")\n",
       "        .links(graph.links);\n",
       "\n",
       "    function ticked() {\n",
       "        link.attr(\"x1\", function(d) { return d.source.x; })\n",
       "            .attr(\"y1\", function(d) { return d.source.y; })\n",
       "            .attr(\"x2\", function(d) { return d.target.x; })\n",
       "            .attr(\"y2\", function(d) { return d.target.y; });\n",
       "\n",
       "         text.attr(\"transform\", transform);\n",
       "\n",
       "\n",
       "        text.attr(\"cx\", function(d) { return d.x; })\n",
       "            .attr(\"cy\", function(d) { return d.y; });\n",
       "\n",
       "        node.attr(\"cx\", function(d) { return d.x; })\n",
       "            .attr(\"cy\", function(d) { return d.y; });\n",
       "    }\n",
       "\n",
       "    function transform(d) {\n",
       "        return \"translate(\" + d.x + \",\" + d.y + \")\";\n",
       "    }\n",
       "\n",
       "    function dragstarted(d) {\n",
       "    if (!d3.event.active) simulation.alphaTarget(0.3).restart();\n",
       "    d.fx = d.x;\n",
       "    d.fy = d.y;\n",
       "    }\n",
       "\n",
       "    function zoom_actions(){\n",
       "        g.attr(\"transform\", d3.event.transform)\n",
       "    }    \n",
       "\n",
       "    function dragged(d) {\n",
       "    d.fx = d3.event.x;\n",
       "    d.fy = d3.event.y;\n",
       "    }\n",
       "\n",
       "    function dragended(d) {\n",
       "    if (!d3.event.active) simulation.alphaTarget(0);\n",
       "    d.fx = null;\n",
       "    d.fy = null;\n",
       "    }\n",
       "\n",
       "    function to_svg() {\n",
       "        // Returns a SVG representation of the current state of the visualisation\n",
       "\t    var svg  = document.getElementById('dktacSDv');\n",
       "\t    var xml = (new XMLSerializer).serializeToString(svg);\n",
       "        return xml;\n",
       "    }\n",
       "\n",
       "    function save_svg() {\n",
       "        var svg  = document.getElementById('dktacSDv');\n",
       "        var xml = (new XMLSerializer).serializeToString(svg);        \n",
       "        var blob = new Blob([xml], {type: 'text/xml'});\n",
       "        if(window.navigator.msSaveOrOpenBlob) {\n",
       "            window.navigator.msSaveBlob(blob, 'network.svg');\n",
       "        }\n",
       "        else{\n",
       "            var elem = window.document.createElement('a');\n",
       "            elem.href = window.URL.createObjectURL(blob);\n",
       "            elem.download = 'network.svg';\n",
       "            document.body.appendChild(elem);\n",
       "            elem.click();\n",
       "            document.body.removeChild(elem);\n",
       "        }\n",
       "    }\n",
       "});\n",
       "</script>"
      ],
      "text/plain": [
       "<pathpy.classes.network.Network at 0x7ffaaa19e250>"
      ]
     },
     "execution_count": 9,
     "metadata": {},
     "output_type": "execute_result"
    }
   ],
   "source": [
    "t, node_info, edge_info = git2net.get_bipartite_network(sqlite_db_file)\n",
    "n = pp.Network.from_temporal_network(t)\n",
    "n"
   ]
  },
  {
   "cell_type": "markdown",
   "metadata": {},
   "source": [
    "For this network, `node_info` contains the classes of authors in the network. These can e.g. be used to color nodes as shown below."
   ]
  },
  {
   "cell_type": "code",
   "execution_count": 10,
   "metadata": {
    "ExecuteTime": {
     "end_time": "2021-09-21T15:15:03.812637Z",
     "start_time": "2021-09-21T15:15:03.806977Z"
    }
   },
   "outputs": [
    {
     "data": {
      "text/html": [
       "<style>\n",
       "    text.label_DqJLAjMv {\n",
       "        text-anchor: middle;\n",
       "        font-size: 8px;\n",
       "        font-family: Arial, Helvetica, sans-serif;\n",
       "        fill: #999999;\n",
       "        stroke: #ffffff;\n",
       "        stroke-width: 0.1px;\n",
       "        opacity: 1.0;\n",
       "    }\n",
       "    .links_DqJLAjMv line {\n",
       "    stroke-opacity: 1.0;\n",
       "    }\n",
       "    .arrows svg:path {\n",
       "        stroke: #666;\n",
       "    }\n",
       "    .nodes_DqJLAjMv circle {\n",
       "    stroke: #fff;\n",
       "    stroke-width: 0.5px;\n",
       "    }\n",
       "</style>\n",
       "\n",
       "<svg width=\"400\" height=\"400\" id=\"DqJLAjMv\">        \n",
       "    <text x=\"20\" y=\"20\" font-family=\"sans-serif\" font-size=\"14px\" fill=\"#666\" style=\"cursor: pointer\"\n",
       "        id='DqJLAjMv_svg_txt'>[save svg]</text>\n",
       "</svg>\n",
       "\n",
       "<script charset=\"utf-8\" src=\"https://d3js.org/d3.v4.min.js\"></script>\n",
       "<script charset=\"utf-8\">\n",
       "\n",
       "// Load via requireJS if available (jupyter notebook environment)\n",
       "try {\n",
       "    // Problem: require.config will raise an exception when called for the second time \n",
       "    require.config({\n",
       "        paths: {\n",
       "            //d3: \"https://d3js.org/d3.v4.min\"\n",
       "            d3: \"https://d3js.org/d3.v4.min.js\".replace(\".js\", \"\")\n",
       "        }\n",
       "    });\n",
       "    console.log(\"Detected requireJS\");\n",
       "}\n",
       "catch(err){\n",
       "    // a reference error indicates that requireJS does not exist. \n",
       "    // other errors may occur due to multiple calls to config\n",
       "    if (err instanceof ReferenceError){\n",
       "        console.log(\"Detected no requireJS\");\n",
       "\n",
       "        // Helper function that waits for d3js to be loaded\n",
       "        require = function require(symbols, callback) {\n",
       "            var ms = 5;\n",
       "            window.setTimeout(function(t) {\n",
       "                if (window[symbols[0]])\n",
       "                    callback(window[symbols[0]]);\n",
       "                else \n",
       "                    window.setTimeout(arguments.callee, ms);\n",
       "            }, ms);\n",
       "        }\n",
       "    }\n",
       "}\n",
       "\n",
       "// wait until d3js has been loaded\n",
       "require([\"d3\"], function(d3) {\n",
       "    var svg = d3.select(\"#\"+\"DqJLAjMv\"), radius = 6, width = +svg.attr(\"width\"), height = +svg.attr(\"height\");\n",
       "\n",
       "    var color = d3.scaleOrdinal(d3.schemeCategory20);\n",
       "\n",
       "    var graph = {\"links\": [{\"source\": \"n_0\", \"target\": \"test.py\", \"color\": \"#999999\", \"width\": 0.5, \"weight\": 1.0}, {\"source\": \"n_0\", \"target\": \"ignore\", \"color\": \"#999999\", \"width\": 0.5, \"weight\": 0.5}, {\"source\": \"n_0\", \"target\": \"pyce.py\", \"color\": \"#999999\", \"width\": 0.5, \"weight\": 0.3}, {\"source\": \"n_1\", \"target\": \"pyce.py\", \"color\": \"#999999\", \"width\": 0.5, \"weight\": 0.7272727272727273}, {\"source\": \"n_0\", \"target\": \"anonymize.py\", \"color\": \"#999999\", \"width\": 0.5, \"weight\": 0.6666666666666666}, {\"source\": \"n_1\", \"target\": \"git2net.py\", \"color\": \"#999999\", \"width\": 0.5, \"weight\": 1.0}, {\"source\": \"n_1\", \"target\": \".gitignore\", \"color\": \"#999999\", \"width\": 0.5, \"weight\": 1.0}, {\"source\": \"n_1\", \"target\": \"test_git2net.py\", \"color\": \"#999999\", \"width\": 0.5, \"weight\": 1.0}, {\"source\": \"n_1\", \"target\": \"README.md\", \"color\": \"#999999\", \"width\": 0.5, \"weight\": 1.0}, {\"source\": \"n_1\", \"target\": \"test_repo_1.zip\", \"color\": \"#999999\", \"width\": 0.5, \"weight\": 1.0}, {\"source\": \"n_1\", \"target\": \"get_original_line_number.md\", \"color\": \"#999999\", \"width\": 0.5, \"weight\": 1.0}, {\"source\": \"n_1\", \"target\": \"anonymize.py\", \"color\": \"#999999\", \"width\": 0.5, \"weight\": 0.3333333333333333}, {\"source\": \"n_1\", \"target\": \"extraction.py\", \"color\": \"#999999\", \"width\": 0.5, \"weight\": 0.9705882352941176}, {\"source\": \"n_1\", \"target\": \"__init__.py\", \"color\": \"#999999\", \"width\": 0.5, \"weight\": 1.0}, {\"source\": \"n_1\", \"target\": \"visualisation.py\", \"color\": \"#999999\", \"width\": 0.5, \"weight\": 1.0}, {\"source\": \"n_1\", \"target\": \"LICENSE.txt\", \"color\": \"#999999\", \"width\": 0.5, \"weight\": 1.0}, {\"source\": \"n_1\", \"target\": \"requirements.txt\", \"color\": \"#999999\", \"width\": 0.5, \"weight\": 1.0}, {\"source\": \"n_1\", \"target\": \"TUTORIAL.ipynb\", \"color\": \"#999999\", \"width\": 0.5, \"weight\": 0.7777777777777778}, {\"source\": \"n_2\", \"target\": \"extraction.py\", \"color\": \"#999999\", \"width\": 0.5, \"weight\": 1.0}, {\"source\": \"n_1\", \"target\": \"test_functions.py\", \"color\": \"#999999\", \"width\": 0.5, \"weight\": 1.0}, {\"source\": \"n_3\", \"target\": \"TUTORIAL.ipynb\", \"color\": \"#999999\", \"width\": 0.5, \"weight\": 1.0}, {\"source\": \"n_4\", \"target\": \"command_line.py\", \"color\": \"#999999\", \"width\": 0.5, \"weight\": 1.0}, {\"source\": \"n_5\", \"target\": \"extraction.py\", \"color\": \"#999999\", \"width\": 0.5, \"weight\": 1.0}, {\"source\": \"n_1\", \"target\": \"test_extract_coedits.py\", \"color\": \"#999999\", \"width\": 0.5, \"weight\": 1.0}, {\"source\": \"n_1\", \"target\": \"test_identify_edits.py\", \"color\": \"#999999\", \"width\": 0.5, \"weight\": 1.0}, {\"source\": \"n_1\", \"target\": \"test_visualisation.py\", \"color\": \"#999999\", \"width\": 0.5, \"weight\": 1.0}, {\"source\": \"n_1\", \"target\": \"ignore\", \"color\": \"#999999\", \"width\": 0.5, \"weight\": 0.5}, {\"source\": \"n_1\", \"target\": \"test_extract_editing_paths.py\", \"color\": \"#999999\", \"width\": 0.5, \"weight\": 1.0}, {\"source\": \"n_1\", \"target\": \"test_get_original_line_number.py\", \"color\": \"#999999\", \"width\": 0.5, \"weight\": 1.0}, {\"source\": \"n_1\", \"target\": \"test_extract_edits.py\", \"color\": \"#999999\", \"width\": 0.5, \"weight\": 1.0}, {\"source\": \"n_1\", \"target\": \"test_get_paths_to_origin.py\", \"color\": \"#999999\", \"width\": 0.5, \"weight\": 1.0}, {\"source\": \"n_1\", \"target\": \"get_previous_names.py\", \"color\": \"#999999\", \"width\": 0.5, \"weight\": 1.0}, {\"source\": \"n_1\", \"target\": \"test_get_unified_changes.py\", \"color\": \"#999999\", \"width\": 0.5, \"weight\": 1.0}, {\"source\": \"n_1\", \"target\": \"setup.py\", \"color\": \"#999999\", \"width\": 0.5, \"weight\": 1.0}, {\"source\": \"n_1\", \"target\": \"bug_report.md\", \"color\": \"#999999\", \"width\": 0.5, \"weight\": 1.0}, {\"source\": \"n_1\", \"target\": \"feature_request.md\", \"color\": \"#999999\", \"width\": 0.5, \"weight\": 1.0}, {\"source\": \"n_1\", \"target\": \"test_get_path_to_origin.py\", \"color\": \"#999999\", \"width\": 0.5, \"weight\": 1.0}, {\"source\": \"n_1\", \"target\": \"test_identify_file_renaming.py\", \"color\": \"#999999\", \"width\": 0.5, \"weight\": 1.0}, {\"source\": \"n_1\", \"target\": \".gitmodules\", \"color\": \"#999999\", \"width\": 0.5, \"weight\": 1.0}, {\"source\": \"n_1\", \"target\": \"command_line.py\", \"color\": \"#999999\", \"width\": 0.5, \"weight\": 0.6666666666666666}, {\"source\": \"n_1\", \"target\": \"_test_extract_editing_paths.py\", \"color\": \"#999999\", \"width\": 0.5, \"weight\": 1.0}, {\"source\": \"n_1\", \"target\": \"_test_extract_edits.py\", \"color\": \"#999999\", \"width\": 0.5, \"weight\": 1.0}, {\"source\": \"n_1\", \"target\": \"_test_get_original_line_number.py\", \"color\": \"#999999\", \"width\": 0.5, \"weight\": 1.0}, {\"source\": \"n_1\", \"target\": \"_test_get_paths_to_origin.py\", \"color\": \"#999999\", \"width\": 0.5, \"weight\": 1.0}, {\"source\": \"n_1\", \"target\": \"_test_get_unified_changes.py\", \"color\": \"#999999\", \"width\": 0.5, \"weight\": 1.0}, {\"source\": \"n_1\", \"target\": \"_test_git2net.py\", \"color\": \"#999999\", \"width\": 0.5, \"weight\": 1.0}, {\"source\": \"n_1\", \"target\": \"_test_identify_edits.py\", \"color\": \"#999999\", \"width\": 0.5, \"weight\": 1.0}, {\"source\": \"n_1\", \"target\": \"_test_identify_file_renaming.py\", \"color\": \"#999999\", \"width\": 0.5, \"weight\": 1.0}, {\"source\": \"n_1\", \"target\": \"_test_visualisation.py\", \"color\": \"#999999\", \"width\": 0.5, \"weight\": 1.0}], \"nodes\": [{\"id\": \"n_0\", \"text\": \"n_0\", \"color\": \"#73D2DE\", \"size\": 5.0}, {\"id\": \"test.py\", \"text\": \"test.py\", \"color\": \"#2E5EAA\", \"size\": 5.0}, {\"id\": \"ignore\", \"text\": \"ignore\", \"color\": \"#2E5EAA\", \"size\": 5.0}, {\"id\": \"pyce.py\", \"text\": \"pyce.py\", \"color\": \"#2E5EAA\", \"size\": 5.0}, {\"id\": \"n_1\", \"text\": \"n_1\", \"color\": \"#73D2DE\", \"size\": 5.0}, {\"id\": \"anonymize.py\", \"text\": \"anonymize.py\", \"color\": \"#2E5EAA\", \"size\": 5.0}, {\"id\": \"git2net.py\", \"text\": \"git2net.py\", \"color\": \"#2E5EAA\", \"size\": 5.0}, {\"id\": \".gitignore\", \"text\": \".gitignore\", \"color\": \"#2E5EAA\", \"size\": 5.0}, {\"id\": \"test_git2net.py\", \"text\": \"test_git2net.py\", \"color\": \"#2E5EAA\", \"size\": 5.0}, {\"id\": \"README.md\", \"text\": \"README.md\", \"color\": \"#2E5EAA\", \"size\": 5.0}, {\"id\": \"test_repo_1.zip\", \"text\": \"test_repo_1.zip\", \"color\": \"#2E5EAA\", \"size\": 5.0}, {\"id\": \"get_original_line_number.md\", \"text\": \"get_original_line_number.md\", \"color\": \"#2E5EAA\", \"size\": 5.0}, {\"id\": \"extraction.py\", \"text\": \"extraction.py\", \"color\": \"#2E5EAA\", \"size\": 5.0}, {\"id\": \"__init__.py\", \"text\": \"__init__.py\", \"color\": \"#2E5EAA\", \"size\": 5.0}, {\"id\": \"visualisation.py\", \"text\": \"visualisation.py\", \"color\": \"#2E5EAA\", \"size\": 5.0}, {\"id\": \"LICENSE.txt\", \"text\": \"LICENSE.txt\", \"color\": \"#2E5EAA\", \"size\": 5.0}, {\"id\": \"requirements.txt\", \"text\": \"requirements.txt\", \"color\": \"#2E5EAA\", \"size\": 5.0}, {\"id\": \"TUTORIAL.ipynb\", \"text\": \"TUTORIAL.ipynb\", \"color\": \"#2E5EAA\", \"size\": 5.0}, {\"id\": \"n_2\", \"text\": \"n_2\", \"color\": \"#73D2DE\", \"size\": 5.0}, {\"id\": \"test_functions.py\", \"text\": \"test_functions.py\", \"color\": \"#2E5EAA\", \"size\": 5.0}, {\"id\": \"n_3\", \"text\": \"n_3\", \"color\": \"#73D2DE\", \"size\": 5.0}, {\"id\": \"n_4\", \"text\": \"n_4\", \"color\": \"#73D2DE\", \"size\": 5.0}, {\"id\": \"command_line.py\", \"text\": \"command_line.py\", \"color\": \"#2E5EAA\", \"size\": 5.0}, {\"id\": \"n_5\", \"text\": \"n_5\", \"color\": \"#73D2DE\", \"size\": 5.0}, {\"id\": \"test_extract_coedits.py\", \"text\": \"test_extract_coedits.py\", \"color\": \"#2E5EAA\", \"size\": 5.0}, {\"id\": \"test_identify_edits.py\", \"text\": \"test_identify_edits.py\", \"color\": \"#2E5EAA\", \"size\": 5.0}, {\"id\": \"test_visualisation.py\", \"text\": \"test_visualisation.py\", \"color\": \"#2E5EAA\", \"size\": 5.0}, {\"id\": \"test_extract_editing_paths.py\", \"text\": \"test_extract_editing_paths.py\", \"color\": \"#2E5EAA\", \"size\": 5.0}, {\"id\": \"test_get_original_line_number.py\", \"text\": \"test_get_original_line_number.py\", \"color\": \"#2E5EAA\", \"size\": 5.0}, {\"id\": \"test_extract_edits.py\", \"text\": \"test_extract_edits.py\", \"color\": \"#2E5EAA\", \"size\": 5.0}, {\"id\": \"test_get_paths_to_origin.py\", \"text\": \"test_get_paths_to_origin.py\", \"color\": \"#2E5EAA\", \"size\": 5.0}, {\"id\": \"get_previous_names.py\", \"text\": \"get_previous_names.py\", \"color\": \"#2E5EAA\", \"size\": 5.0}, {\"id\": \"test_get_unified_changes.py\", \"text\": \"test_get_unified_changes.py\", \"color\": \"#2E5EAA\", \"size\": 5.0}, {\"id\": \"setup.py\", \"text\": \"setup.py\", \"color\": \"#2E5EAA\", \"size\": 5.0}, {\"id\": \"bug_report.md\", \"text\": \"bug_report.md\", \"color\": \"#2E5EAA\", \"size\": 5.0}, {\"id\": \"feature_request.md\", \"text\": \"feature_request.md\", \"color\": \"#2E5EAA\", \"size\": 5.0}, {\"id\": \"test_get_path_to_origin.py\", \"text\": \"test_get_path_to_origin.py\", \"color\": \"#2E5EAA\", \"size\": 5.0}, {\"id\": \"test_identify_file_renaming.py\", \"text\": \"test_identify_file_renaming.py\", \"color\": \"#2E5EAA\", \"size\": 5.0}, {\"id\": \".gitmodules\", \"text\": \".gitmodules\", \"color\": \"#2E5EAA\", \"size\": 5.0}, {\"id\": \"_test_extract_editing_paths.py\", \"text\": \"_test_extract_editing_paths.py\", \"color\": \"#2E5EAA\", \"size\": 5.0}, {\"id\": \"_test_extract_edits.py\", \"text\": \"_test_extract_edits.py\", \"color\": \"#2E5EAA\", \"size\": 5.0}, {\"id\": \"_test_get_original_line_number.py\", \"text\": \"_test_get_original_line_number.py\", \"color\": \"#2E5EAA\", \"size\": 5.0}, {\"id\": \"_test_get_paths_to_origin.py\", \"text\": \"_test_get_paths_to_origin.py\", \"color\": \"#2E5EAA\", \"size\": 5.0}, {\"id\": \"_test_get_unified_changes.py\", \"text\": \"_test_get_unified_changes.py\", \"color\": \"#2E5EAA\", \"size\": 5.0}, {\"id\": \"_test_git2net.py\", \"text\": \"_test_git2net.py\", \"color\": \"#2E5EAA\", \"size\": 5.0}, {\"id\": \"_test_identify_edits.py\", \"text\": \"_test_identify_edits.py\", \"color\": \"#2E5EAA\", \"size\": 5.0}, {\"id\": \"_test_identify_file_renaming.py\", \"text\": \"_test_identify_file_renaming.py\", \"color\": \"#2E5EAA\", \"size\": 5.0}, {\"id\": \"_test_visualisation.py\", \"text\": \"_test_visualisation.py\", \"color\": \"#2E5EAA\", \"size\": 5.0}]};\n",
       "    var directed = true;\n",
       "\n",
       "    var simulation = d3.forceSimulation()        \n",
       "       .force(\"link\", d3.forceLink().id(function(d) { return d.id; }).strength(function(d){return d.weight;}))\n",
       "        .force(\"charge\", d3.forceManyBody().strength(-20).distanceMax(400))\n",
       "       .force(\"repelForce\", d3.forceManyBody().strength(-200).distanceMax(100))\n",
       "       .force(\"center\", d3.forceCenter(400 / 2, 400 / 2))\n",
       "       .alphaTarget(0.0);\n",
       "\n",
       "    svg.append(\"defs\").selectAll(\"marker\")\n",
       "        .data([\"end\"])\n",
       "    .enter().append(\"marker\")\n",
       "        .attr(\"id\", String)\n",
       "        .attr(\"viewBox\", \"0 -5 20 20\")\n",
       "        .attr(\"refX\", 34)\n",
       "        .attr(\"refY\", 0)\n",
       "        .attr(\"markerWidth\", 15)\n",
       "        .attr(\"markerHeight\", 15)\n",
       "        .attr(\"orient\", \"auto\")\n",
       "    .append(\"path\")\n",
       "        // draws a filled path (triangle) between three points\n",
       "        .attr(\"d\", \"M0,-5 L20,0 L0,5 z\")\n",
       "        .attr(\"fill\", '#999')\n",
       "        .attr(\"stroke\", 'none');\n",
       "\n",
       "    var g = svg.append(\"g\")\n",
       "        .attr(\"class\", \"everything\");\n",
       "\n",
       "    var link = g.append(\"g\")\n",
       "        .attr(\"class\", \"links_DqJLAjMv\")\n",
       "        .selectAll(\"line\")\n",
       "        .data(graph.links)\n",
       "        .enter().append(\"line\")\n",
       "        .attr(\"stroke-width\", function(d) { return d.width; })\n",
       "        .attr(\"stroke\", function(d) { return d.color; } );\n",
       "\n",
       "    if (directed)\n",
       "        link.attr(\"marker-end\", \"url(#end)\");\n",
       "\n",
       "    var node_g = g.append(\"g\")\n",
       "        .attr(\"class\", \"nodes_DqJLAjMv\")\n",
       "        .selectAll(\"circle\")\n",
       "        .data(graph.nodes)\n",
       "        .enter()\n",
       "        .append(\"g\"); \n",
       "\n",
       "    var node = node_g.append(\"circle\")\n",
       "        .attr('id', function(d) { return d.id; })\n",
       "        .attr(\"r\", function(d) { return d.size; })\n",
       "        .attr(\"fill\", function(d) { return d.color; })\n",
       "        .call(d3.drag()\n",
       "            .on(\"start\", dragstarted)\n",
       "            .on(\"drag\", dragged)\n",
       "            .on(\"end\", dragended));\n",
       "\n",
       "    var text = node_g.append(\"text\")\n",
       "    .attr(\"x\", [0, -10][0])\n",
       "    .attr(\"y\", [0, -10][1]+3)\n",
       "    .attr(\"id\", function(d) {return d.id; })\n",
       "    .attr(\"class\", \"label_DqJLAjMv\")\n",
       "    .text(function(d) { return d.id; });\n",
       "\n",
       "    node.append(\"title\")\n",
       "        .text(function(d) { return d.text; });\n",
       "\n",
       "    var zoom_handler = d3.zoom()\n",
       "        .on(\"zoom\", zoom_actions);\n",
       "    zoom_handler(svg);\n",
       "\n",
       "    // attach event handler for svg export\n",
       "    d3.select('#DqJLAjMv_svg_txt').on(\"click\", save_svg);\n",
       "\n",
       "    simulation\n",
       "        .nodes(graph.nodes)\n",
       "        .on(\"tick\", ticked);\n",
       "\n",
       "    simulation.force(\"link\")\n",
       "        .links(graph.links);\n",
       "\n",
       "    function ticked() {\n",
       "        link.attr(\"x1\", function(d) { return d.source.x; })\n",
       "            .attr(\"y1\", function(d) { return d.source.y; })\n",
       "            .attr(\"x2\", function(d) { return d.target.x; })\n",
       "            .attr(\"y2\", function(d) { return d.target.y; });\n",
       "\n",
       "         text.attr(\"transform\", transform);\n",
       "\n",
       "\n",
       "        text.attr(\"cx\", function(d) { return d.x; })\n",
       "            .attr(\"cy\", function(d) { return d.y; });\n",
       "\n",
       "        node.attr(\"cx\", function(d) { return d.x; })\n",
       "            .attr(\"cy\", function(d) { return d.y; });\n",
       "    }\n",
       "\n",
       "    function transform(d) {\n",
       "        return \"translate(\" + d.x + \",\" + d.y + \")\";\n",
       "    }\n",
       "\n",
       "    function dragstarted(d) {\n",
       "    if (!d3.event.active) simulation.alphaTarget(0.3).restart();\n",
       "    d.fx = d.x;\n",
       "    d.fy = d.y;\n",
       "    }\n",
       "\n",
       "    function zoom_actions(){\n",
       "        g.attr(\"transform\", d3.event.transform)\n",
       "    }    \n",
       "\n",
       "    function dragged(d) {\n",
       "    d.fx = d3.event.x;\n",
       "    d.fy = d3.event.y;\n",
       "    }\n",
       "\n",
       "    function dragended(d) {\n",
       "    if (!d3.event.active) simulation.alphaTarget(0);\n",
       "    d.fx = null;\n",
       "    d.fy = null;\n",
       "    }\n",
       "\n",
       "    function to_svg() {\n",
       "        // Returns a SVG representation of the current state of the visualisation\n",
       "\t    var svg  = document.getElementById('DqJLAjMv');\n",
       "\t    var xml = (new XMLSerializer).serializeToString(svg);\n",
       "        return xml;\n",
       "    }\n",
       "\n",
       "    function save_svg() {\n",
       "        var svg  = document.getElementById('DqJLAjMv');\n",
       "        var xml = (new XMLSerializer).serializeToString(svg);        \n",
       "        var blob = new Blob([xml], {type: 'text/xml'});\n",
       "        if(window.navigator.msSaveOrOpenBlob) {\n",
       "            window.navigator.msSaveBlob(blob, 'network.svg');\n",
       "        }\n",
       "        else{\n",
       "            var elem = window.document.createElement('a');\n",
       "            elem.href = window.URL.createObjectURL(blob);\n",
       "            elem.download = 'network.svg';\n",
       "            document.body.appendChild(elem);\n",
       "            elem.click();\n",
       "            document.body.removeChild(elem);\n",
       "        }\n",
       "    }\n",
       "});\n",
       "</script>"
      ],
      "text/plain": [
       "<IPython.core.display.HTML object>"
      ]
     },
     "metadata": {},
     "output_type": "display_data"
    }
   ],
   "source": [
    "colour_map = {'author': '#73D2DE', 'file': '#2E5EAA'}\n",
    "node_color = {node: colour_map[node_info['class'][node]] for node in n.nodes}\n",
    "pp.visualisation.plot(n, node_color=node_color)"
   ]
  },
  {
   "cell_type": "markdown",
   "metadata": {},
   "source": [
    "The projection of this network that links authors editing the same file is the co-authorship network."
   ]
  },
  {
   "cell_type": "code",
   "execution_count": 11,
   "metadata": {
    "ExecuteTime": {
     "end_time": "2021-09-21T15:15:04.384901Z",
     "start_time": "2021-09-21T15:15:03.813732Z"
    }
   },
   "outputs": [
    {
     "data": {
      "text/html": [
       "<style>\n",
       "    text.label_qfLPQIYV {\n",
       "        text-anchor: middle;\n",
       "        font-size: 8px;\n",
       "        font-family: Arial, Helvetica, sans-serif;\n",
       "        fill: #999999;\n",
       "        stroke: #ffffff;\n",
       "        stroke-width: 0.1px;\n",
       "        opacity: 1.0;\n",
       "    }\n",
       "    .links_qfLPQIYV line {\n",
       "    stroke-opacity: 1.0;\n",
       "    }\n",
       "    .arrows svg:path {\n",
       "        stroke: #666;\n",
       "    }\n",
       "    .nodes_qfLPQIYV circle {\n",
       "    stroke: #fff;\n",
       "    stroke-width: 0.5px;\n",
       "    }\n",
       "</style>\n",
       "\n",
       "<svg width=\"400\" height=\"400\" id=\"qfLPQIYV\">        \n",
       "    <text x=\"20\" y=\"20\" font-family=\"sans-serif\" font-size=\"14px\" fill=\"#666\" style=\"cursor: pointer\"\n",
       "        id='qfLPQIYV_svg_txt'>[save svg]</text>\n",
       "</svg>\n",
       "\n",
       "<script charset=\"utf-8\" src=\"https://d3js.org/d3.v4.min.js\"></script>\n",
       "<script charset=\"utf-8\">\n",
       "\n",
       "// Load via requireJS if available (jupyter notebook environment)\n",
       "try {\n",
       "    // Problem: require.config will raise an exception when called for the second time \n",
       "    require.config({\n",
       "        paths: {\n",
       "            //d3: \"https://d3js.org/d3.v4.min\"\n",
       "            d3: \"https://d3js.org/d3.v4.min.js\".replace(\".js\", \"\")\n",
       "        }\n",
       "    });\n",
       "    console.log(\"Detected requireJS\");\n",
       "}\n",
       "catch(err){\n",
       "    // a reference error indicates that requireJS does not exist. \n",
       "    // other errors may occur due to multiple calls to config\n",
       "    if (err instanceof ReferenceError){\n",
       "        console.log(\"Detected no requireJS\");\n",
       "\n",
       "        // Helper function that waits for d3js to be loaded\n",
       "        require = function require(symbols, callback) {\n",
       "            var ms = 5;\n",
       "            window.setTimeout(function(t) {\n",
       "                if (window[symbols[0]])\n",
       "                    callback(window[symbols[0]]);\n",
       "                else \n",
       "                    window.setTimeout(arguments.callee, ms);\n",
       "            }, ms);\n",
       "        }\n",
       "    }\n",
       "}\n",
       "\n",
       "// wait until d3js has been loaded\n",
       "require([\"d3\"], function(d3) {\n",
       "    var svg = d3.select(\"#\"+\"qfLPQIYV\"), radius = 6, width = +svg.attr(\"width\"), height = +svg.attr(\"height\");\n",
       "\n",
       "    var color = d3.scaleOrdinal(d3.schemeCategory20);\n",
       "\n",
       "    var graph = {\"links\": [{\"source\": \"n_0.0\", \"target\": \"n_1.0\", \"color\": \"#999999\", \"width\": 0.5, \"weight\": 0.5}, {\"source\": \"n_1.0\", \"target\": \"n_2.0\", \"color\": \"#999999\", \"width\": 0.5, \"weight\": 0.25}, {\"source\": \"n_1.0\", \"target\": \"n_5.0\", \"color\": \"#999999\", \"width\": 0.5, \"weight\": 0.25}, {\"source\": \"n_2.0\", \"target\": \"n_5.0\", \"color\": \"#999999\", \"width\": 0.5, \"weight\": 0.25}, {\"source\": \"n_1.0\", \"target\": \"n_3.0\", \"color\": \"#999999\", \"width\": 0.5, \"weight\": 0.5}, {\"source\": \"n_1.0\", \"target\": \"n_4.0\", \"color\": \"#999999\", \"width\": 0.5, \"weight\": 0.5}], \"nodes\": [{\"id\": \"n_0.0\", \"text\": \"n_0.0\", \"color\": \"#99ccff\", \"size\": 5.0}, {\"id\": \"n_1.0\", \"text\": \"n_1.0\", \"color\": \"#99ccff\", \"size\": 5.0}, {\"id\": \"n_2.0\", \"text\": \"n_2.0\", \"color\": \"#99ccff\", \"size\": 5.0}, {\"id\": \"n_5.0\", \"text\": \"n_5.0\", \"color\": \"#99ccff\", \"size\": 5.0}, {\"id\": \"n_3.0\", \"text\": \"n_3.0\", \"color\": \"#99ccff\", \"size\": 5.0}, {\"id\": \"n_4.0\", \"text\": \"n_4.0\", \"color\": \"#99ccff\", \"size\": 5.0}]};\n",
       "    var directed = false;\n",
       "\n",
       "    var simulation = d3.forceSimulation()        \n",
       "       .force(\"link\", d3.forceLink().id(function(d) { return d.id; }).strength(function(d){return d.weight;}))\n",
       "        .force(\"charge\", d3.forceManyBody().strength(-20).distanceMax(400))\n",
       "       .force(\"repelForce\", d3.forceManyBody().strength(-200).distanceMax(100))\n",
       "       .force(\"center\", d3.forceCenter(400 / 2, 400 / 2))\n",
       "       .alphaTarget(0.0);\n",
       "\n",
       "    svg.append(\"defs\").selectAll(\"marker\")\n",
       "        .data([\"end\"])\n",
       "    .enter().append(\"marker\")\n",
       "        .attr(\"id\", String)\n",
       "        .attr(\"viewBox\", \"0 -5 20 20\")\n",
       "        .attr(\"refX\", 34)\n",
       "        .attr(\"refY\", 0)\n",
       "        .attr(\"markerWidth\", 15)\n",
       "        .attr(\"markerHeight\", 15)\n",
       "        .attr(\"orient\", \"auto\")\n",
       "    .append(\"path\")\n",
       "        // draws a filled path (triangle) between three points\n",
       "        .attr(\"d\", \"M0,-5 L20,0 L0,5 z\")\n",
       "        .attr(\"fill\", '#999')\n",
       "        .attr(\"stroke\", 'none');\n",
       "\n",
       "    var g = svg.append(\"g\")\n",
       "        .attr(\"class\", \"everything\");\n",
       "\n",
       "    var link = g.append(\"g\")\n",
       "        .attr(\"class\", \"links_qfLPQIYV\")\n",
       "        .selectAll(\"line\")\n",
       "        .data(graph.links)\n",
       "        .enter().append(\"line\")\n",
       "        .attr(\"stroke-width\", function(d) { return d.width; })\n",
       "        .attr(\"stroke\", function(d) { return d.color; } );\n",
       "\n",
       "    if (directed)\n",
       "        link.attr(\"marker-end\", \"url(#end)\");\n",
       "\n",
       "    var node_g = g.append(\"g\")\n",
       "        .attr(\"class\", \"nodes_qfLPQIYV\")\n",
       "        .selectAll(\"circle\")\n",
       "        .data(graph.nodes)\n",
       "        .enter()\n",
       "        .append(\"g\"); \n",
       "\n",
       "    var node = node_g.append(\"circle\")\n",
       "        .attr('id', function(d) { return d.id; })\n",
       "        .attr(\"r\", function(d) { return d.size; })\n",
       "        .attr(\"fill\", function(d) { return d.color; })\n",
       "        .call(d3.drag()\n",
       "            .on(\"start\", dragstarted)\n",
       "            .on(\"drag\", dragged)\n",
       "            .on(\"end\", dragended));\n",
       "\n",
       "    var text = node_g.append(\"text\")\n",
       "    .attr(\"x\", [0, -10][0])\n",
       "    .attr(\"y\", [0, -10][1]+3)\n",
       "    .attr(\"id\", function(d) {return d.id; })\n",
       "    .attr(\"class\", \"label_qfLPQIYV\")\n",
       "    .text(function(d) { return d.id; });\n",
       "\n",
       "    node.append(\"title\")\n",
       "        .text(function(d) { return d.text; });\n",
       "\n",
       "    var zoom_handler = d3.zoom()\n",
       "        .on(\"zoom\", zoom_actions);\n",
       "    zoom_handler(svg);\n",
       "\n",
       "    // attach event handler for svg export\n",
       "    d3.select('#qfLPQIYV_svg_txt').on(\"click\", save_svg);\n",
       "\n",
       "    simulation\n",
       "        .nodes(graph.nodes)\n",
       "        .on(\"tick\", ticked);\n",
       "\n",
       "    simulation.force(\"link\")\n",
       "        .links(graph.links);\n",
       "\n",
       "    function ticked() {\n",
       "        link.attr(\"x1\", function(d) { return d.source.x; })\n",
       "            .attr(\"y1\", function(d) { return d.source.y; })\n",
       "            .attr(\"x2\", function(d) { return d.target.x; })\n",
       "            .attr(\"y2\", function(d) { return d.target.y; });\n",
       "\n",
       "         text.attr(\"transform\", transform);\n",
       "\n",
       "\n",
       "        text.attr(\"cx\", function(d) { return d.x; })\n",
       "            .attr(\"cy\", function(d) { return d.y; });\n",
       "\n",
       "        node.attr(\"cx\", function(d) { return d.x; })\n",
       "            .attr(\"cy\", function(d) { return d.y; });\n",
       "    }\n",
       "\n",
       "    function transform(d) {\n",
       "        return \"translate(\" + d.x + \",\" + d.y + \")\";\n",
       "    }\n",
       "\n",
       "    function dragstarted(d) {\n",
       "    if (!d3.event.active) simulation.alphaTarget(0.3).restart();\n",
       "    d.fx = d.x;\n",
       "    d.fy = d.y;\n",
       "    }\n",
       "\n",
       "    function zoom_actions(){\n",
       "        g.attr(\"transform\", d3.event.transform)\n",
       "    }    \n",
       "\n",
       "    function dragged(d) {\n",
       "    d.fx = d3.event.x;\n",
       "    d.fy = d3.event.y;\n",
       "    }\n",
       "\n",
       "    function dragended(d) {\n",
       "    if (!d3.event.active) simulation.alphaTarget(0);\n",
       "    d.fx = null;\n",
       "    d.fy = null;\n",
       "    }\n",
       "\n",
       "    function to_svg() {\n",
       "        // Returns a SVG representation of the current state of the visualisation\n",
       "\t    var svg  = document.getElementById('qfLPQIYV');\n",
       "\t    var xml = (new XMLSerializer).serializeToString(svg);\n",
       "        return xml;\n",
       "    }\n",
       "\n",
       "    function save_svg() {\n",
       "        var svg  = document.getElementById('qfLPQIYV');\n",
       "        var xml = (new XMLSerializer).serializeToString(svg);        \n",
       "        var blob = new Blob([xml], {type: 'text/xml'});\n",
       "        if(window.navigator.msSaveOrOpenBlob) {\n",
       "            window.navigator.msSaveBlob(blob, 'network.svg');\n",
       "        }\n",
       "        else{\n",
       "            var elem = window.document.createElement('a');\n",
       "            elem.href = window.URL.createObjectURL(blob);\n",
       "            elem.download = 'network.svg';\n",
       "            document.body.appendChild(elem);\n",
       "            elem.click();\n",
       "            document.body.removeChild(elem);\n",
       "        }\n",
       "    }\n",
       "});\n",
       "</script>"
      ],
      "text/plain": [
       "<pathpy.classes.network.Network at 0x7ffaa9f37b90>"
      ]
     },
     "execution_count": 11,
     "metadata": {},
     "output_type": "execute_result"
    }
   ],
   "source": [
    "n, node_info, edge_info = git2net.get_coauthorship_network(sqlite_db_file)\n",
    "n"
   ]
  },
  {
   "cell_type": "markdown",
   "metadata": {},
   "source": [
    "Note that it looks similar, however, all information on the direction of interactions is lost.\n",
    "\n",
    "If we are interested in e.g more recently edited files, we can filter the database by providing the `time_from` and `time_to` options. Let's check the files edited since May 2019."
   ]
  },
  {
   "cell_type": "code",
   "execution_count": 12,
   "metadata": {
    "ExecuteTime": {
     "end_time": "2021-09-21T15:15:04.461733Z",
     "start_time": "2021-09-21T15:15:04.386244Z"
    }
   },
   "outputs": [
    {
     "data": {
      "text/html": [
       "<style>\n",
       "    text.label_fdnQLvQO {\n",
       "        text-anchor: middle;\n",
       "        font-size: 8px;\n",
       "        font-family: Arial, Helvetica, sans-serif;\n",
       "        fill: #999999;\n",
       "        stroke: #ffffff;\n",
       "        stroke-width: 0.1px;\n",
       "        opacity: 1.0;\n",
       "    }\n",
       "    .links_fdnQLvQO line {\n",
       "    stroke-opacity: 1.0;\n",
       "    }\n",
       "    .arrows svg:path {\n",
       "        stroke: #666;\n",
       "    }\n",
       "    .nodes_fdnQLvQO circle {\n",
       "    stroke: #fff;\n",
       "    stroke-width: 0.5px;\n",
       "    }\n",
       "</style>\n",
       "\n",
       "<svg width=\"400\" height=\"400\" id=\"fdnQLvQO\">        \n",
       "    <text x=\"20\" y=\"20\" font-family=\"sans-serif\" font-size=\"14px\" fill=\"#666\" style=\"cursor: pointer\"\n",
       "        id='fdnQLvQO_svg_txt'>[save svg]</text>\n",
       "</svg>\n",
       "\n",
       "<script charset=\"utf-8\" src=\"https://d3js.org/d3.v4.min.js\"></script>\n",
       "<script charset=\"utf-8\">\n",
       "\n",
       "// Load via requireJS if available (jupyter notebook environment)\n",
       "try {\n",
       "    // Problem: require.config will raise an exception when called for the second time \n",
       "    require.config({\n",
       "        paths: {\n",
       "            //d3: \"https://d3js.org/d3.v4.min\"\n",
       "            d3: \"https://d3js.org/d3.v4.min.js\".replace(\".js\", \"\")\n",
       "        }\n",
       "    });\n",
       "    console.log(\"Detected requireJS\");\n",
       "}\n",
       "catch(err){\n",
       "    // a reference error indicates that requireJS does not exist. \n",
       "    // other errors may occur due to multiple calls to config\n",
       "    if (err instanceof ReferenceError){\n",
       "        console.log(\"Detected no requireJS\");\n",
       "\n",
       "        // Helper function that waits for d3js to be loaded\n",
       "        require = function require(symbols, callback) {\n",
       "            var ms = 5;\n",
       "            window.setTimeout(function(t) {\n",
       "                if (window[symbols[0]])\n",
       "                    callback(window[symbols[0]]);\n",
       "                else \n",
       "                    window.setTimeout(arguments.callee, ms);\n",
       "            }, ms);\n",
       "        }\n",
       "    }\n",
       "}\n",
       "\n",
       "// wait until d3js has been loaded\n",
       "require([\"d3\"], function(d3) {\n",
       "    var svg = d3.select(\"#\"+\"fdnQLvQO\"), radius = 6, width = +svg.attr(\"width\"), height = +svg.attr(\"height\");\n",
       "\n",
       "    var color = d3.scaleOrdinal(d3.schemeCategory20);\n",
       "\n",
       "    var graph = {\"links\": [{\"source\": \"n_1\", \"target\": \"extraction.py\", \"color\": \"#999999\", \"width\": 0.5, \"weight\": 0.9705882352941176}, {\"source\": \"n_1\", \"target\": \"__init__.py\", \"color\": \"#999999\", \"width\": 0.5, \"weight\": 1.0}, {\"source\": \"n_1\", \"target\": \"README.md\", \"color\": \"#999999\", \"width\": 0.5, \"weight\": 1.0}, {\"source\": \"n_1\", \"target\": \"visualisation.py\", \"color\": \"#999999\", \"width\": 0.5, \"weight\": 1.0}, {\"source\": \"n_1\", \"target\": \"requirements.txt\", \"color\": \"#999999\", \"width\": 0.5, \"weight\": 1.0}, {\"source\": \"n_1\", \"target\": \"TUTORIAL.ipynb\", \"color\": \"#999999\", \"width\": 0.5, \"weight\": 0.7777777777777778}, {\"source\": \"n_2\", \"target\": \"extraction.py\", \"color\": \"#999999\", \"width\": 0.5, \"weight\": 1.0}, {\"source\": \"n_1\", \"target\": \"test_functions.py\", \"color\": \"#999999\", \"width\": 0.5, \"weight\": 1.0}, {\"source\": \"n_1\", \"target\": \"git2net.py\", \"color\": \"#999999\", \"width\": 0.5, \"weight\": 1.0}, {\"source\": \"n_3\", \"target\": \"TUTORIAL.ipynb\", \"color\": \"#999999\", \"width\": 0.5, \"weight\": 1.0}, {\"source\": \"n_4\", \"target\": \"command_line.py\", \"color\": \"#999999\", \"width\": 0.5, \"weight\": 1.0}, {\"source\": \"n_5\", \"target\": \"extraction.py\", \"color\": \"#999999\", \"width\": 0.5, \"weight\": 1.0}, {\"source\": \"n_1\", \"target\": \".gitmodules\", \"color\": \"#999999\", \"width\": 0.5, \"weight\": 1.0}, {\"source\": \"n_1\", \"target\": \"command_line.py\", \"color\": \"#999999\", \"width\": 0.5, \"weight\": 0.6666666666666666}, {\"source\": \"n_1\", \"target\": \"setup.py\", \"color\": \"#999999\", \"width\": 0.5, \"weight\": 1.0}], \"nodes\": [{\"id\": \"n_1\", \"text\": \"n_1\", \"color\": \"#73D2DE\", \"size\": 5.0}, {\"id\": \"extraction.py\", \"text\": \"extraction.py\", \"color\": \"#2E5EAA\", \"size\": 5.0}, {\"id\": \"__init__.py\", \"text\": \"__init__.py\", \"color\": \"#2E5EAA\", \"size\": 5.0}, {\"id\": \"README.md\", \"text\": \"README.md\", \"color\": \"#2E5EAA\", \"size\": 5.0}, {\"id\": \"visualisation.py\", \"text\": \"visualisation.py\", \"color\": \"#2E5EAA\", \"size\": 5.0}, {\"id\": \"requirements.txt\", \"text\": \"requirements.txt\", \"color\": \"#2E5EAA\", \"size\": 5.0}, {\"id\": \"TUTORIAL.ipynb\", \"text\": \"TUTORIAL.ipynb\", \"color\": \"#2E5EAA\", \"size\": 5.0}, {\"id\": \"n_2\", \"text\": \"n_2\", \"color\": \"#73D2DE\", \"size\": 5.0}, {\"id\": \"test_functions.py\", \"text\": \"test_functions.py\", \"color\": \"#2E5EAA\", \"size\": 5.0}, {\"id\": \"git2net.py\", \"text\": \"git2net.py\", \"color\": \"#2E5EAA\", \"size\": 5.0}, {\"id\": \"n_3\", \"text\": \"n_3\", \"color\": \"#73D2DE\", \"size\": 5.0}, {\"id\": \"n_4\", \"text\": \"n_4\", \"color\": \"#73D2DE\", \"size\": 5.0}, {\"id\": \"command_line.py\", \"text\": \"command_line.py\", \"color\": \"#2E5EAA\", \"size\": 5.0}, {\"id\": \"n_5\", \"text\": \"n_5\", \"color\": \"#73D2DE\", \"size\": 5.0}, {\"id\": \".gitmodules\", \"text\": \".gitmodules\", \"color\": \"#2E5EAA\", \"size\": 5.0}, {\"id\": \"setup.py\", \"text\": \"setup.py\", \"color\": \"#2E5EAA\", \"size\": 5.0}]};\n",
       "    var directed = true;\n",
       "\n",
       "    var simulation = d3.forceSimulation()        \n",
       "       .force(\"link\", d3.forceLink().id(function(d) { return d.id; }).strength(function(d){return d.weight;}))\n",
       "        .force(\"charge\", d3.forceManyBody().strength(-20).distanceMax(400))\n",
       "       .force(\"repelForce\", d3.forceManyBody().strength(-200).distanceMax(100))\n",
       "       .force(\"center\", d3.forceCenter(400 / 2, 400 / 2))\n",
       "       .alphaTarget(0.0);\n",
       "\n",
       "    svg.append(\"defs\").selectAll(\"marker\")\n",
       "        .data([\"end\"])\n",
       "    .enter().append(\"marker\")\n",
       "        .attr(\"id\", String)\n",
       "        .attr(\"viewBox\", \"0 -5 20 20\")\n",
       "        .attr(\"refX\", 34)\n",
       "        .attr(\"refY\", 0)\n",
       "        .attr(\"markerWidth\", 15)\n",
       "        .attr(\"markerHeight\", 15)\n",
       "        .attr(\"orient\", \"auto\")\n",
       "    .append(\"path\")\n",
       "        // draws a filled path (triangle) between three points\n",
       "        .attr(\"d\", \"M0,-5 L20,0 L0,5 z\")\n",
       "        .attr(\"fill\", '#999')\n",
       "        .attr(\"stroke\", 'none');\n",
       "\n",
       "    var g = svg.append(\"g\")\n",
       "        .attr(\"class\", \"everything\");\n",
       "\n",
       "    var link = g.append(\"g\")\n",
       "        .attr(\"class\", \"links_fdnQLvQO\")\n",
       "        .selectAll(\"line\")\n",
       "        .data(graph.links)\n",
       "        .enter().append(\"line\")\n",
       "        .attr(\"stroke-width\", function(d) { return d.width; })\n",
       "        .attr(\"stroke\", function(d) { return d.color; } );\n",
       "\n",
       "    if (directed)\n",
       "        link.attr(\"marker-end\", \"url(#end)\");\n",
       "\n",
       "    var node_g = g.append(\"g\")\n",
       "        .attr(\"class\", \"nodes_fdnQLvQO\")\n",
       "        .selectAll(\"circle\")\n",
       "        .data(graph.nodes)\n",
       "        .enter()\n",
       "        .append(\"g\"); \n",
       "\n",
       "    var node = node_g.append(\"circle\")\n",
       "        .attr('id', function(d) { return d.id; })\n",
       "        .attr(\"r\", function(d) { return d.size; })\n",
       "        .attr(\"fill\", function(d) { return d.color; })\n",
       "        .call(d3.drag()\n",
       "            .on(\"start\", dragstarted)\n",
       "            .on(\"drag\", dragged)\n",
       "            .on(\"end\", dragended));\n",
       "\n",
       "    var text = node_g.append(\"text\")\n",
       "    .attr(\"x\", [0, -10][0])\n",
       "    .attr(\"y\", [0, -10][1]+3)\n",
       "    .attr(\"id\", function(d) {return d.id; })\n",
       "    .attr(\"class\", \"label_fdnQLvQO\")\n",
       "    .text(function(d) { return d.id; });\n",
       "\n",
       "    node.append(\"title\")\n",
       "        .text(function(d) { return d.text; });\n",
       "\n",
       "    var zoom_handler = d3.zoom()\n",
       "        .on(\"zoom\", zoom_actions);\n",
       "    zoom_handler(svg);\n",
       "\n",
       "    // attach event handler for svg export\n",
       "    d3.select('#fdnQLvQO_svg_txt').on(\"click\", save_svg);\n",
       "\n",
       "    simulation\n",
       "        .nodes(graph.nodes)\n",
       "        .on(\"tick\", ticked);\n",
       "\n",
       "    simulation.force(\"link\")\n",
       "        .links(graph.links);\n",
       "\n",
       "    function ticked() {\n",
       "        link.attr(\"x1\", function(d) { return d.source.x; })\n",
       "            .attr(\"y1\", function(d) { return d.source.y; })\n",
       "            .attr(\"x2\", function(d) { return d.target.x; })\n",
       "            .attr(\"y2\", function(d) { return d.target.y; });\n",
       "\n",
       "         text.attr(\"transform\", transform);\n",
       "\n",
       "\n",
       "        text.attr(\"cx\", function(d) { return d.x; })\n",
       "            .attr(\"cy\", function(d) { return d.y; });\n",
       "\n",
       "        node.attr(\"cx\", function(d) { return d.x; })\n",
       "            .attr(\"cy\", function(d) { return d.y; });\n",
       "    }\n",
       "\n",
       "    function transform(d) {\n",
       "        return \"translate(\" + d.x + \",\" + d.y + \")\";\n",
       "    }\n",
       "\n",
       "    function dragstarted(d) {\n",
       "    if (!d3.event.active) simulation.alphaTarget(0.3).restart();\n",
       "    d.fx = d.x;\n",
       "    d.fy = d.y;\n",
       "    }\n",
       "\n",
       "    function zoom_actions(){\n",
       "        g.attr(\"transform\", d3.event.transform)\n",
       "    }    \n",
       "\n",
       "    function dragged(d) {\n",
       "    d.fx = d3.event.x;\n",
       "    d.fy = d3.event.y;\n",
       "    }\n",
       "\n",
       "    function dragended(d) {\n",
       "    if (!d3.event.active) simulation.alphaTarget(0);\n",
       "    d.fx = null;\n",
       "    d.fy = null;\n",
       "    }\n",
       "\n",
       "    function to_svg() {\n",
       "        // Returns a SVG representation of the current state of the visualisation\n",
       "\t    var svg  = document.getElementById('fdnQLvQO');\n",
       "\t    var xml = (new XMLSerializer).serializeToString(svg);\n",
       "        return xml;\n",
       "    }\n",
       "\n",
       "    function save_svg() {\n",
       "        var svg  = document.getElementById('fdnQLvQO');\n",
       "        var xml = (new XMLSerializer).serializeToString(svg);        \n",
       "        var blob = new Blob([xml], {type: 'text/xml'});\n",
       "        if(window.navigator.msSaveOrOpenBlob) {\n",
       "            window.navigator.msSaveBlob(blob, 'network.svg');\n",
       "        }\n",
       "        else{\n",
       "            var elem = window.document.createElement('a');\n",
       "            elem.href = window.URL.createObjectURL(blob);\n",
       "            elem.download = 'network.svg';\n",
       "            document.body.appendChild(elem);\n",
       "            elem.click();\n",
       "            document.body.removeChild(elem);\n",
       "        }\n",
       "    }\n",
       "});\n",
       "</script>"
      ],
      "text/plain": [
       "<IPython.core.display.HTML object>"
      ]
     },
     "metadata": {},
     "output_type": "display_data"
    }
   ],
   "source": [
    "from datetime import datetime\n",
    "time_from = datetime(2019, 5, 1)\n",
    "t, node_info, edge_info = git2net.get_bipartite_network(sqlite_db_file, time_from=time_from)\n",
    "n = pp.Network.from_temporal_network(t)\n",
    "colour_map = {'author': '#73D2DE', 'file': '#2E5EAA'}\n",
    "node_color = {node: colour_map[node_info['class'][node]] for node in n.nodes}\n",
    "pp.visualisation.plot(n, node_color=node_color)"
   ]
  },
  {
   "cell_type": "markdown",
   "metadata": {},
   "source": [
    "`git2net` allows the extraction of editing paths on the level of individual lines. I.e. we are able to track consecutive changes made to a single line over time&mdash;even if these lines move up or down in a file, or even across files. This is very powerful, as it allows us to determine editing sequences as well as find lines that require more editing than others. These could either be very difficult lines to implement or contain very important information, such as the version number in an `__init__.py` file.\n",
    "\n",
    "To extract these paths, we can use the `get_line_editing_paths` function. As these networks tend be very large we limit the analysis to a very small file for this tutorial. To only look at a specific set of file paths we can use the `file_paths` option."
   ]
  },
  {
   "cell_type": "code",
   "execution_count": 13,
   "metadata": {
    "ExecuteTime": {
     "end_time": "2021-09-21T15:15:04.785244Z",
     "start_time": "2021-09-21T15:15:04.462991Z"
    }
   },
   "outputs": [
    {
     "name": "stderr",
     "output_type": "stream",
     "text": [
      " 39%|███▉      | 7/18 [00:00<00:00, 61.61it/s]"
     ]
    },
    {
     "name": "stdout",
     "output_type": "stream",
     "text": [
      "Querying commits\n",
      "Querying edits\n"
     ]
    },
    {
     "name": "stderr",
     "output_type": "stream",
     "text": [
      "100%|██████████| 18/18 [00:00<00:00, 59.46it/s]\n",
      "100%|██████████| 52/52 [00:00<00:00, 123431.70it/s]"
     ]
    },
    {
     "name": "stdout",
     "output_type": "stream",
     "text": [
      "2021-09-21 15:15:04 [Severity.INFO]\tCreating paths from directed acyclic graph\n",
      "2021-09-21 15:15:04 [Severity.INFO]\tExpanding Subpaths\n",
      "2021-09-21 15:15:04 [Severity.INFO]\tCalculating sub path statistics ... \n",
      "2021-09-21 15:15:04 [Severity.INFO]\tfinished.\n"
     ]
    },
    {
     "name": "stderr",
     "output_type": "stream",
     "text": [
      "\n"
     ]
    },
    {
     "data": {
      "text/html": [
       "<style>\n",
       "    text.label_vtathWlv {\n",
       "        text-anchor: middle;\n",
       "        font-size: 8px;\n",
       "        font-family: Arial, Helvetica, sans-serif;\n",
       "        fill: #999999;\n",
       "        stroke: #ffffff;\n",
       "        stroke-width: 0.1px;\n",
       "        opacity: 1.0;\n",
       "    }\n",
       "    .links_vtathWlv line {\n",
       "    stroke-opacity: 1.0;\n",
       "    }\n",
       "    .arrows svg:path {\n",
       "        stroke: #666;\n",
       "    }\n",
       "    .nodes_vtathWlv circle {\n",
       "    stroke: #fff;\n",
       "    stroke-width: 0.5px;\n",
       "    }\n",
       "</style>\n",
       "\n",
       "<svg width=\"400\" height=\"400\" id=\"vtathWlv\">        \n",
       "    <text x=\"20\" y=\"20\" font-family=\"sans-serif\" font-size=\"14px\" fill=\"#666\" style=\"cursor: pointer\"\n",
       "        id='vtathWlv_svg_txt'>[save svg]</text>\n",
       "</svg>\n",
       "\n",
       "<script charset=\"utf-8\" src=\"https://d3js.org/d3.v4.min.js\"></script>\n",
       "<script charset=\"utf-8\">\n",
       "\n",
       "// Load via requireJS if available (jupyter notebook environment)\n",
       "try {\n",
       "    // Problem: require.config will raise an exception when called for the second time \n",
       "    require.config({\n",
       "        paths: {\n",
       "            //d3: \"https://d3js.org/d3.v4.min\"\n",
       "            d3: \"https://d3js.org/d3.v4.min.js\".replace(\".js\", \"\")\n",
       "        }\n",
       "    });\n",
       "    console.log(\"Detected requireJS\");\n",
       "}\n",
       "catch(err){\n",
       "    // a reference error indicates that requireJS does not exist. \n",
       "    // other errors may occur due to multiple calls to config\n",
       "    if (err instanceof ReferenceError){\n",
       "        console.log(\"Detected no requireJS\");\n",
       "\n",
       "        // Helper function that waits for d3js to be loaded\n",
       "        require = function require(symbols, callback) {\n",
       "            var ms = 5;\n",
       "            window.setTimeout(function(t) {\n",
       "                if (window[symbols[0]])\n",
       "                    callback(window[symbols[0]]);\n",
       "                else \n",
       "                    window.setTimeout(arguments.callee, ms);\n",
       "            }, ms);\n",
       "        }\n",
       "    }\n",
       "}\n",
       "\n",
       "// wait until d3js has been loaded\n",
       "require([\"d3\"], function(d3) {\n",
       "    var svg = d3.select(\"#\"+\"vtathWlv\"), radius = 6, width = +svg.attr(\"width\"), height = +svg.attr(\"height\");\n",
       "\n",
       "    var color = d3.scaleOrdinal(d3.schemeCategory20);\n",
       "\n",
       "    var graph = {\"links\": [{\"source\": \"L1 setup.py a3213cd995e850c8966355755c4ac2ff61f65503\", \"target\": \"L1 setup.py 806fc44d2250c316c75692601362aecabc63d137\", \"color\": \"#999999\", \"width\": 0.5, \"weight\": 1.0}, {\"source\": \"L2 setup.py a3213cd995e850c8966355755c4ac2ff61f65503\", \"target\": \"L2 setup.py 806fc44d2250c316c75692601362aecabc63d137\", \"color\": \"#999999\", \"width\": 0.5, \"weight\": 1.0}, {\"source\": \"L3 setup.py a3213cd995e850c8966355755c4ac2ff61f65503\", \"target\": \"L3 setup.py 806fc44d2250c316c75692601362aecabc63d137\", \"color\": \"#999999\", \"width\": 0.5, \"weight\": 1.0}, {\"source\": \"L4 setup.py a3213cd995e850c8966355755c4ac2ff61f65503\", \"target\": \"L4 setup.py 806fc44d2250c316c75692601362aecabc63d137\", \"color\": \"#999999\", \"width\": 0.5, \"weight\": 1.0}, {\"source\": \"L5 setup.py a3213cd995e850c8966355755c4ac2ff61f65503\", \"target\": \"L5 setup.py 806fc44d2250c316c75692601362aecabc63d137\", \"color\": \"#999999\", \"width\": 0.5, \"weight\": 1.0}, {\"source\": \"L6 setup.py a3213cd995e850c8966355755c4ac2ff61f65503\", \"target\": \"L6 setup.py 806fc44d2250c316c75692601362aecabc63d137\", \"color\": \"#999999\", \"width\": 0.5, \"weight\": 1.0}, {\"source\": \"L7 setup.py a3213cd995e850c8966355755c4ac2ff61f65503\", \"target\": \"L7 setup.py 806fc44d2250c316c75692601362aecabc63d137\", \"color\": \"#999999\", \"width\": 0.5, \"weight\": 1.0}, {\"source\": \"L8 setup.py a3213cd995e850c8966355755c4ac2ff61f65503\", \"target\": \"L8 setup.py 806fc44d2250c316c75692601362aecabc63d137\", \"color\": \"#999999\", \"width\": 0.5, \"weight\": 1.0}, {\"source\": \"L9 setup.py a3213cd995e850c8966355755c4ac2ff61f65503\", \"target\": \"L9 setup.py 806fc44d2250c316c75692601362aecabc63d137\", \"color\": \"#999999\", \"width\": 0.5, \"weight\": 1.0}, {\"source\": \"L10 setup.py a3213cd995e850c8966355755c4ac2ff61f65503\", \"target\": \"L10 setup.py 806fc44d2250c316c75692601362aecabc63d137\", \"color\": \"#999999\", \"width\": 0.5, \"weight\": 1.0}, {\"source\": \"L11 setup.py a3213cd995e850c8966355755c4ac2ff61f65503\", \"target\": \"L11 setup.py 806fc44d2250c316c75692601362aecabc63d137\", \"color\": \"#999999\", \"width\": 0.5, \"weight\": 1.0}, {\"source\": \"setup.py\", \"target\": \"L12 setup.py 806fc44d2250c316c75692601362aecabc63d137\", \"color\": \"#999999\", \"width\": 0.5, \"weight\": 1.0}, {\"source\": \"setup.py\", \"target\": \"L13 setup.py 806fc44d2250c316c75692601362aecabc63d137\", \"color\": \"#999999\", \"width\": 0.5, \"weight\": 1.0}, {\"source\": \"setup.py\", \"target\": \"L14 setup.py 806fc44d2250c316c75692601362aecabc63d137\", \"color\": \"#999999\", \"width\": 0.5, \"weight\": 1.0}, {\"source\": \"setup.py\", \"target\": \"L15 setup.py 806fc44d2250c316c75692601362aecabc63d137\", \"color\": \"#999999\", \"width\": 0.5, \"weight\": 1.0}, {\"source\": \"setup.py\", \"target\": \"L16 setup.py 806fc44d2250c316c75692601362aecabc63d137\", \"color\": \"#999999\", \"width\": 0.5, \"weight\": 1.0}, {\"source\": \"setup.py\", \"target\": \"L17 setup.py 806fc44d2250c316c75692601362aecabc63d137\", \"color\": \"#999999\", \"width\": 0.5, \"weight\": 1.0}, {\"source\": \"setup.py\", \"target\": \"L18 setup.py 806fc44d2250c316c75692601362aecabc63d137\", \"color\": \"#999999\", \"width\": 0.5, \"weight\": 1.0}, {\"source\": \"setup.py\", \"target\": \"L19 setup.py 806fc44d2250c316c75692601362aecabc63d137\", \"color\": \"#999999\", \"width\": 0.5, \"weight\": 1.0}, {\"source\": \"setup.py\", \"target\": \"L20 setup.py 806fc44d2250c316c75692601362aecabc63d137\", \"color\": \"#999999\", \"width\": 0.5, \"weight\": 1.0}, {\"source\": \"setup.py\", \"target\": \"L21 setup.py 806fc44d2250c316c75692601362aecabc63d137\", \"color\": \"#999999\", \"width\": 0.5, \"weight\": 1.0}, {\"source\": \"setup.py\", \"target\": \"L22 setup.py 806fc44d2250c316c75692601362aecabc63d137\", \"color\": \"#999999\", \"width\": 0.5, \"weight\": 1.0}, {\"source\": \"setup.py\", \"target\": \"L23 setup.py 806fc44d2250c316c75692601362aecabc63d137\", \"color\": \"#999999\", \"width\": 0.5, \"weight\": 1.0}, {\"source\": \"setup.py\", \"target\": \"L24 setup.py 806fc44d2250c316c75692601362aecabc63d137\", \"color\": \"#999999\", \"width\": 0.5, \"weight\": 1.0}, {\"source\": \"setup.py\", \"target\": \"L25 setup.py 806fc44d2250c316c75692601362aecabc63d137\", \"color\": \"#999999\", \"width\": 0.5, \"weight\": 1.0}, {\"source\": \"setup.py\", \"target\": \"L26 setup.py 806fc44d2250c316c75692601362aecabc63d137\", \"color\": \"#999999\", \"width\": 0.5, \"weight\": 1.0}, {\"source\": \"setup.py\", \"target\": \"L27 setup.py 806fc44d2250c316c75692601362aecabc63d137\", \"color\": \"#999999\", \"width\": 0.5, \"weight\": 0.5}, {\"source\": \"setup.py\", \"target\": \"L28 setup.py 806fc44d2250c316c75692601362aecabc63d137\", \"color\": \"#999999\", \"width\": 0.5, \"weight\": 1.0}, {\"source\": \"setup.py\", \"target\": \"L29 setup.py 806fc44d2250c316c75692601362aecabc63d137\", \"color\": \"#999999\", \"width\": 0.5, \"weight\": 1.0}, {\"source\": \"setup.py\", \"target\": \"L30 setup.py 806fc44d2250c316c75692601362aecabc63d137\", \"color\": \"#999999\", \"width\": 0.5, \"weight\": 1.0}, {\"source\": \"setup.py\", \"target\": \"L31 setup.py 806fc44d2250c316c75692601362aecabc63d137\", \"color\": \"#999999\", \"width\": 0.5, \"weight\": 1.0}, {\"source\": \"setup.py\", \"target\": \"L32 setup.py 806fc44d2250c316c75692601362aecabc63d137\", \"color\": \"#999999\", \"width\": 0.5, \"weight\": 1.0}, {\"source\": \"setup.py\", \"target\": \"L33 setup.py 806fc44d2250c316c75692601362aecabc63d137\", \"color\": \"#999999\", \"width\": 0.5, \"weight\": 1.0}, {\"source\": \"setup.py\", \"target\": \"L34 setup.py 806fc44d2250c316c75692601362aecabc63d137\", \"color\": \"#999999\", \"width\": 0.5, \"weight\": 1.0}, {\"source\": \"L27 setup.py 806fc44d2250c316c75692601362aecabc63d137\", \"target\": \"L27 setup.py 509e1394637f74a357ef2bf0c567dc6520a80eb6\", \"color\": \"#999999\", \"width\": 0.5, \"weight\": 1.0}, {\"source\": \"setup.py\", \"target\": \"L33 setup.py 256e113a3592167b10456496d804a04592395d09\", \"color\": \"#999999\", \"width\": 0.5, \"weight\": 1.0}, {\"source\": \"setup.py\", \"target\": \"L34 setup.py 256e113a3592167b10456496d804a04592395d09\", \"color\": \"#999999\", \"width\": 0.5, \"weight\": 1.0}, {\"source\": \"setup.py\", \"target\": \"L35 setup.py 256e113a3592167b10456496d804a04592395d09\", \"color\": \"#999999\", \"width\": 0.5, \"weight\": 1.0}, {\"source\": \"setup.py\", \"target\": \"L36 setup.py 256e113a3592167b10456496d804a04592395d09\", \"color\": \"#999999\", \"width\": 0.5, \"weight\": 1.0}, {\"source\": \"setup.py\", \"target\": \"L37 setup.py 256e113a3592167b10456496d804a04592395d09\", \"color\": \"#999999\", \"width\": 0.5, \"weight\": 1.0}], \"nodes\": [{\"id\": \"L1 setup.py a3213cd995e850c8966355755c4ac2ff61f65503\", \"text\": \"L1 setup.py a3213cd995e850c8966355755c4ac2ff61f65503\", \"color\": \"#73D2DE\", \"size\": 5.0}, {\"id\": \"L1 setup.py 806fc44d2250c316c75692601362aecabc63d137\", \"text\": \"L1 setup.py 806fc44d2250c316c75692601362aecabc63d137\", \"color\": \"#2E5EAA\", \"size\": 5.0}, {\"id\": \"L2 setup.py a3213cd995e850c8966355755c4ac2ff61f65503\", \"text\": \"L2 setup.py a3213cd995e850c8966355755c4ac2ff61f65503\", \"color\": \"#73D2DE\", \"size\": 5.0}, {\"id\": \"L2 setup.py 806fc44d2250c316c75692601362aecabc63d137\", \"text\": \"L2 setup.py 806fc44d2250c316c75692601362aecabc63d137\", \"color\": \"#2E5EAA\", \"size\": 5.0}, {\"id\": \"L3 setup.py a3213cd995e850c8966355755c4ac2ff61f65503\", \"text\": \"L3 setup.py a3213cd995e850c8966355755c4ac2ff61f65503\", \"color\": \"#73D2DE\", \"size\": 5.0}, {\"id\": \"L3 setup.py 806fc44d2250c316c75692601362aecabc63d137\", \"text\": \"L3 setup.py 806fc44d2250c316c75692601362aecabc63d137\", \"color\": \"#2E5EAA\", \"size\": 5.0}, {\"id\": \"L4 setup.py a3213cd995e850c8966355755c4ac2ff61f65503\", \"text\": \"L4 setup.py a3213cd995e850c8966355755c4ac2ff61f65503\", \"color\": \"#73D2DE\", \"size\": 5.0}, {\"id\": \"L4 setup.py 806fc44d2250c316c75692601362aecabc63d137\", \"text\": \"L4 setup.py 806fc44d2250c316c75692601362aecabc63d137\", \"color\": \"#2E5EAA\", \"size\": 5.0}, {\"id\": \"L5 setup.py a3213cd995e850c8966355755c4ac2ff61f65503\", \"text\": \"L5 setup.py a3213cd995e850c8966355755c4ac2ff61f65503\", \"color\": \"#73D2DE\", \"size\": 5.0}, {\"id\": \"L5 setup.py 806fc44d2250c316c75692601362aecabc63d137\", \"text\": \"L5 setup.py 806fc44d2250c316c75692601362aecabc63d137\", \"color\": \"#2E5EAA\", \"size\": 5.0}, {\"id\": \"L6 setup.py a3213cd995e850c8966355755c4ac2ff61f65503\", \"text\": \"L6 setup.py a3213cd995e850c8966355755c4ac2ff61f65503\", \"color\": \"#73D2DE\", \"size\": 5.0}, {\"id\": \"L6 setup.py 806fc44d2250c316c75692601362aecabc63d137\", \"text\": \"L6 setup.py 806fc44d2250c316c75692601362aecabc63d137\", \"color\": \"#2E5EAA\", \"size\": 5.0}, {\"id\": \"L7 setup.py a3213cd995e850c8966355755c4ac2ff61f65503\", \"text\": \"L7 setup.py a3213cd995e850c8966355755c4ac2ff61f65503\", \"color\": \"#73D2DE\", \"size\": 5.0}, {\"id\": \"L7 setup.py 806fc44d2250c316c75692601362aecabc63d137\", \"text\": \"L7 setup.py 806fc44d2250c316c75692601362aecabc63d137\", \"color\": \"#2E5EAA\", \"size\": 5.0}, {\"id\": \"L8 setup.py a3213cd995e850c8966355755c4ac2ff61f65503\", \"text\": \"L8 setup.py a3213cd995e850c8966355755c4ac2ff61f65503\", \"color\": \"#73D2DE\", \"size\": 5.0}, {\"id\": \"L8 setup.py 806fc44d2250c316c75692601362aecabc63d137\", \"text\": \"L8 setup.py 806fc44d2250c316c75692601362aecabc63d137\", \"color\": \"#2E5EAA\", \"size\": 5.0}, {\"id\": \"L9 setup.py a3213cd995e850c8966355755c4ac2ff61f65503\", \"text\": \"L9 setup.py a3213cd995e850c8966355755c4ac2ff61f65503\", \"color\": \"#73D2DE\", \"size\": 5.0}, {\"id\": \"L9 setup.py 806fc44d2250c316c75692601362aecabc63d137\", \"text\": \"L9 setup.py 806fc44d2250c316c75692601362aecabc63d137\", \"color\": \"#2E5EAA\", \"size\": 5.0}, {\"id\": \"L10 setup.py a3213cd995e850c8966355755c4ac2ff61f65503\", \"text\": \"L10 setup.py a3213cd995e850c8966355755c4ac2ff61f65503\", \"color\": \"#73D2DE\", \"size\": 5.0}, {\"id\": \"L10 setup.py 806fc44d2250c316c75692601362aecabc63d137\", \"text\": \"L10 setup.py 806fc44d2250c316c75692601362aecabc63d137\", \"color\": \"#2E5EAA\", \"size\": 5.0}, {\"id\": \"L11 setup.py a3213cd995e850c8966355755c4ac2ff61f65503\", \"text\": \"L11 setup.py a3213cd995e850c8966355755c4ac2ff61f65503\", \"color\": \"#73D2DE\", \"size\": 5.0}, {\"id\": \"L11 setup.py 806fc44d2250c316c75692601362aecabc63d137\", \"text\": \"L11 setup.py 806fc44d2250c316c75692601362aecabc63d137\", \"color\": \"#2E5EAA\", \"size\": 5.0}, {\"id\": \"setup.py\", \"text\": \"setup.py\", \"color\": \"#2E5EAA\", \"size\": 5.0}, {\"id\": \"L12 setup.py 806fc44d2250c316c75692601362aecabc63d137\", \"text\": \"L12 setup.py 806fc44d2250c316c75692601362aecabc63d137\", \"color\": \"#2E5EAA\", \"size\": 5.0}, {\"id\": \"L13 setup.py 806fc44d2250c316c75692601362aecabc63d137\", \"text\": \"L13 setup.py 806fc44d2250c316c75692601362aecabc63d137\", \"color\": \"#2E5EAA\", \"size\": 5.0}, {\"id\": \"L14 setup.py 806fc44d2250c316c75692601362aecabc63d137\", \"text\": \"L14 setup.py 806fc44d2250c316c75692601362aecabc63d137\", \"color\": \"#2E5EAA\", \"size\": 5.0}, {\"id\": \"L15 setup.py 806fc44d2250c316c75692601362aecabc63d137\", \"text\": \"L15 setup.py 806fc44d2250c316c75692601362aecabc63d137\", \"color\": \"#2E5EAA\", \"size\": 5.0}, {\"id\": \"L16 setup.py 806fc44d2250c316c75692601362aecabc63d137\", \"text\": \"L16 setup.py 806fc44d2250c316c75692601362aecabc63d137\", \"color\": \"#2E5EAA\", \"size\": 5.0}, {\"id\": \"L17 setup.py 806fc44d2250c316c75692601362aecabc63d137\", \"text\": \"L17 setup.py 806fc44d2250c316c75692601362aecabc63d137\", \"color\": \"#2E5EAA\", \"size\": 5.0}, {\"id\": \"L18 setup.py 806fc44d2250c316c75692601362aecabc63d137\", \"text\": \"L18 setup.py 806fc44d2250c316c75692601362aecabc63d137\", \"color\": \"#2E5EAA\", \"size\": 5.0}, {\"id\": \"L19 setup.py 806fc44d2250c316c75692601362aecabc63d137\", \"text\": \"L19 setup.py 806fc44d2250c316c75692601362aecabc63d137\", \"color\": \"#2E5EAA\", \"size\": 5.0}, {\"id\": \"L20 setup.py 806fc44d2250c316c75692601362aecabc63d137\", \"text\": \"L20 setup.py 806fc44d2250c316c75692601362aecabc63d137\", \"color\": \"#2E5EAA\", \"size\": 5.0}, {\"id\": \"L21 setup.py 806fc44d2250c316c75692601362aecabc63d137\", \"text\": \"L21 setup.py 806fc44d2250c316c75692601362aecabc63d137\", \"color\": \"#2E5EAA\", \"size\": 5.0}, {\"id\": \"L22 setup.py 806fc44d2250c316c75692601362aecabc63d137\", \"text\": \"L22 setup.py 806fc44d2250c316c75692601362aecabc63d137\", \"color\": \"#2E5EAA\", \"size\": 5.0}, {\"id\": \"L23 setup.py 806fc44d2250c316c75692601362aecabc63d137\", \"text\": \"L23 setup.py 806fc44d2250c316c75692601362aecabc63d137\", \"color\": \"#2E5EAA\", \"size\": 5.0}, {\"id\": \"L24 setup.py 806fc44d2250c316c75692601362aecabc63d137\", \"text\": \"L24 setup.py 806fc44d2250c316c75692601362aecabc63d137\", \"color\": \"#2E5EAA\", \"size\": 5.0}, {\"id\": \"L25 setup.py 806fc44d2250c316c75692601362aecabc63d137\", \"text\": \"L25 setup.py 806fc44d2250c316c75692601362aecabc63d137\", \"color\": \"#2E5EAA\", \"size\": 5.0}, {\"id\": \"L26 setup.py 806fc44d2250c316c75692601362aecabc63d137\", \"text\": \"L26 setup.py 806fc44d2250c316c75692601362aecabc63d137\", \"color\": \"#2E5EAA\", \"size\": 5.0}, {\"id\": \"L27 setup.py 806fc44d2250c316c75692601362aecabc63d137\", \"text\": \"L27 setup.py 806fc44d2250c316c75692601362aecabc63d137\", \"color\": \"#73D2DE\", \"size\": 5.0}, {\"id\": \"L28 setup.py 806fc44d2250c316c75692601362aecabc63d137\", \"text\": \"L28 setup.py 806fc44d2250c316c75692601362aecabc63d137\", \"color\": \"#2E5EAA\", \"size\": 5.0}, {\"id\": \"L29 setup.py 806fc44d2250c316c75692601362aecabc63d137\", \"text\": \"L29 setup.py 806fc44d2250c316c75692601362aecabc63d137\", \"color\": \"#2E5EAA\", \"size\": 5.0}, {\"id\": \"L30 setup.py 806fc44d2250c316c75692601362aecabc63d137\", \"text\": \"L30 setup.py 806fc44d2250c316c75692601362aecabc63d137\", \"color\": \"#2E5EAA\", \"size\": 5.0}, {\"id\": \"L31 setup.py 806fc44d2250c316c75692601362aecabc63d137\", \"text\": \"L31 setup.py 806fc44d2250c316c75692601362aecabc63d137\", \"color\": \"#2E5EAA\", \"size\": 5.0}, {\"id\": \"L32 setup.py 806fc44d2250c316c75692601362aecabc63d137\", \"text\": \"L32 setup.py 806fc44d2250c316c75692601362aecabc63d137\", \"color\": \"#2E5EAA\", \"size\": 5.0}, {\"id\": \"L33 setup.py 806fc44d2250c316c75692601362aecabc63d137\", \"text\": \"L33 setup.py 806fc44d2250c316c75692601362aecabc63d137\", \"color\": \"#2E5EAA\", \"size\": 5.0}, {\"id\": \"L34 setup.py 806fc44d2250c316c75692601362aecabc63d137\", \"text\": \"L34 setup.py 806fc44d2250c316c75692601362aecabc63d137\", \"color\": \"#2E5EAA\", \"size\": 5.0}, {\"id\": \"L27 setup.py 509e1394637f74a357ef2bf0c567dc6520a80eb6\", \"text\": \"L27 setup.py 509e1394637f74a357ef2bf0c567dc6520a80eb6\", \"color\": \"#2E5EAA\", \"size\": 5.0}, {\"id\": \"L33 setup.py 256e113a3592167b10456496d804a04592395d09\", \"text\": \"L33 setup.py 256e113a3592167b10456496d804a04592395d09\", \"color\": \"#2E5EAA\", \"size\": 5.0}, {\"id\": \"L34 setup.py 256e113a3592167b10456496d804a04592395d09\", \"text\": \"L34 setup.py 256e113a3592167b10456496d804a04592395d09\", \"color\": \"#2E5EAA\", \"size\": 5.0}, {\"id\": \"L35 setup.py 256e113a3592167b10456496d804a04592395d09\", \"text\": \"L35 setup.py 256e113a3592167b10456496d804a04592395d09\", \"color\": \"#2E5EAA\", \"size\": 5.0}, {\"id\": \"L36 setup.py 256e113a3592167b10456496d804a04592395d09\", \"text\": \"L36 setup.py 256e113a3592167b10456496d804a04592395d09\", \"color\": \"#2E5EAA\", \"size\": 5.0}, {\"id\": \"L37 setup.py 256e113a3592167b10456496d804a04592395d09\", \"text\": \"L37 setup.py 256e113a3592167b10456496d804a04592395d09\", \"color\": \"#2E5EAA\", \"size\": 5.0}]};\n",
       "    var directed = true;\n",
       "\n",
       "    var simulation = d3.forceSimulation()        \n",
       "       .force(\"link\", d3.forceLink().id(function(d) { return d.id; }).strength(function(d){return d.weight;}))\n",
       "        .force(\"charge\", d3.forceManyBody().strength(-20).distanceMax(400))\n",
       "       .force(\"repelForce\", d3.forceManyBody().strength(-200).distanceMax(100))\n",
       "       .force(\"center\", d3.forceCenter(400 / 2, 400 / 2))\n",
       "       .alphaTarget(0.0);\n",
       "\n",
       "    svg.append(\"defs\").selectAll(\"marker\")\n",
       "        .data([\"end\"])\n",
       "    .enter().append(\"marker\")\n",
       "        .attr(\"id\", String)\n",
       "        .attr(\"viewBox\", \"0 -5 20 20\")\n",
       "        .attr(\"refX\", 34)\n",
       "        .attr(\"refY\", 0)\n",
       "        .attr(\"markerWidth\", 15)\n",
       "        .attr(\"markerHeight\", 15)\n",
       "        .attr(\"orient\", \"auto\")\n",
       "    .append(\"path\")\n",
       "        // draws a filled path (triangle) between three points\n",
       "        .attr(\"d\", \"M0,-5 L20,0 L0,5 z\")\n",
       "        .attr(\"fill\", '#999')\n",
       "        .attr(\"stroke\", 'none');\n",
       "\n",
       "    var g = svg.append(\"g\")\n",
       "        .attr(\"class\", \"everything\");\n",
       "\n",
       "    var link = g.append(\"g\")\n",
       "        .attr(\"class\", \"links_vtathWlv\")\n",
       "        .selectAll(\"line\")\n",
       "        .data(graph.links)\n",
       "        .enter().append(\"line\")\n",
       "        .attr(\"stroke-width\", function(d) { return d.width; })\n",
       "        .attr(\"stroke\", function(d) { return d.color; } );\n",
       "\n",
       "    if (directed)\n",
       "        link.attr(\"marker-end\", \"url(#end)\");\n",
       "\n",
       "    var node_g = g.append(\"g\")\n",
       "        .attr(\"class\", \"nodes_vtathWlv\")\n",
       "        .selectAll(\"circle\")\n",
       "        .data(graph.nodes)\n",
       "        .enter()\n",
       "        .append(\"g\"); \n",
       "\n",
       "    var node = node_g.append(\"circle\")\n",
       "        .attr('id', function(d) { return d.id; })\n",
       "        .attr(\"r\", function(d) { return d.size; })\n",
       "        .attr(\"fill\", function(d) { return d.color; })\n",
       "        .call(d3.drag()\n",
       "            .on(\"start\", dragstarted)\n",
       "            .on(\"drag\", dragged)\n",
       "            .on(\"end\", dragended));\n",
       "\n",
       "    var text = node_g.append(\"text\")\n",
       "    .attr(\"x\", [0, -10][0])\n",
       "    .attr(\"y\", [0, -10][1]+3)\n",
       "    .attr(\"id\", function(d) {return d.id; })\n",
       "    .attr(\"class\", \"label_vtathWlv\")\n",
       "    .text(function(d) { return d.id; });\n",
       "\n",
       "    node.append(\"title\")\n",
       "        .text(function(d) { return d.text; });\n",
       "\n",
       "    var zoom_handler = d3.zoom()\n",
       "        .on(\"zoom\", zoom_actions);\n",
       "    zoom_handler(svg);\n",
       "\n",
       "    // attach event handler for svg export\n",
       "    d3.select('#vtathWlv_svg_txt').on(\"click\", save_svg);\n",
       "\n",
       "    simulation\n",
       "        .nodes(graph.nodes)\n",
       "        .on(\"tick\", ticked);\n",
       "\n",
       "    simulation.force(\"link\")\n",
       "        .links(graph.links);\n",
       "\n",
       "    function ticked() {\n",
       "        link.attr(\"x1\", function(d) { return d.source.x; })\n",
       "            .attr(\"y1\", function(d) { return d.source.y; })\n",
       "            .attr(\"x2\", function(d) { return d.target.x; })\n",
       "            .attr(\"y2\", function(d) { return d.target.y; });\n",
       "\n",
       "         text.attr(\"transform\", transform);\n",
       "\n",
       "\n",
       "        text.attr(\"cx\", function(d) { return d.x; })\n",
       "            .attr(\"cy\", function(d) { return d.y; });\n",
       "\n",
       "        node.attr(\"cx\", function(d) { return d.x; })\n",
       "            .attr(\"cy\", function(d) { return d.y; });\n",
       "    }\n",
       "\n",
       "    function transform(d) {\n",
       "        return \"translate(\" + d.x + \",\" + d.y + \")\";\n",
       "    }\n",
       "\n",
       "    function dragstarted(d) {\n",
       "    if (!d3.event.active) simulation.alphaTarget(0.3).restart();\n",
       "    d.fx = d.x;\n",
       "    d.fy = d.y;\n",
       "    }\n",
       "\n",
       "    function zoom_actions(){\n",
       "        g.attr(\"transform\", d3.event.transform)\n",
       "    }    \n",
       "\n",
       "    function dragged(d) {\n",
       "    d.fx = d3.event.x;\n",
       "    d.fy = d3.event.y;\n",
       "    }\n",
       "\n",
       "    function dragended(d) {\n",
       "    if (!d3.event.active) simulation.alphaTarget(0);\n",
       "    d.fx = null;\n",
       "    d.fy = null;\n",
       "    }\n",
       "\n",
       "    function to_svg() {\n",
       "        // Returns a SVG representation of the current state of the visualisation\n",
       "\t    var svg  = document.getElementById('vtathWlv');\n",
       "\t    var xml = (new XMLSerializer).serializeToString(svg);\n",
       "        return xml;\n",
       "    }\n",
       "\n",
       "    function save_svg() {\n",
       "        var svg  = document.getElementById('vtathWlv');\n",
       "        var xml = (new XMLSerializer).serializeToString(svg);        \n",
       "        var blob = new Blob([xml], {type: 'text/xml'});\n",
       "        if(window.navigator.msSaveOrOpenBlob) {\n",
       "            window.navigator.msSaveBlob(blob, 'network.svg');\n",
       "        }\n",
       "        else{\n",
       "            var elem = window.document.createElement('a');\n",
       "            elem.href = window.URL.createObjectURL(blob);\n",
       "            elem.download = 'network.svg';\n",
       "            document.body.appendChild(elem);\n",
       "            elem.click();\n",
       "            document.body.removeChild(elem);\n",
       "        }\n",
       "    }\n",
       "});\n",
       "</script>"
      ],
      "text/plain": [
       "<IPython.core.display.HTML object>"
      ]
     },
     "metadata": {},
     "output_type": "display_data"
    }
   ],
   "source": [
    "file_paths = ['setup.py']\n",
    "paths, dag, node_info, edge_info = git2net.get_line_editing_paths(sqlite_db_file, git_repo_dir,\n",
    "                                                                  file_paths=file_paths)\n",
    "pp.visualisation.plot(dag, node_color=node_info['colors'])"
   ]
  },
  {
   "cell_type": "markdown",
   "metadata": {},
   "source": [
    "Notice, that despite only looking at a single file the network shown above is not connected. This is due to our database not being complete. Let's fix this now and try again."
   ]
  },
  {
   "cell_type": "code",
   "execution_count": 14,
   "metadata": {
    "ExecuteTime": {
     "end_time": "2021-09-21T15:15:12.836123Z",
     "start_time": "2021-09-21T15:15:04.786450Z"
    }
   },
   "outputs": [
    {
     "name": "stdout",
     "output_type": "stream",
     "text": [
      "Found a matching database on provided path. Skipping 211 (95.91%) of 220 commits. 9 commits remaining.\n"
     ]
    },
    {
     "name": "stderr",
     "output_type": "stream",
     "text": [
      "Parallel (32 processes): 100%|██████████| 9/9 [00:07<00:00,  1.17it/s]\n"
     ]
    }
   ],
   "source": [
    "git2net.mine_git_repo(git_repo_dir, sqlite_db_file)"
   ]
  },
  {
   "cell_type": "code",
   "execution_count": 15,
   "metadata": {
    "ExecuteTime": {
     "end_time": "2021-09-21T15:15:13.377984Z",
     "start_time": "2021-09-21T15:15:12.838611Z"
    }
   },
   "outputs": [
    {
     "name": "stderr",
     "output_type": "stream",
     "text": [
      " 22%|██▏       | 7/32 [00:00<00:00, 63.21it/s]"
     ]
    },
    {
     "name": "stdout",
     "output_type": "stream",
     "text": [
      "Querying commits\n",
      "Querying edits\n"
     ]
    },
    {
     "name": "stderr",
     "output_type": "stream",
     "text": [
      "100%|██████████| 32/32 [00:00<00:00, 62.28it/s]\n",
      "100%|██████████| 60/60 [00:00<00:00, 129121.72it/s]"
     ]
    },
    {
     "name": "stdout",
     "output_type": "stream",
     "text": [
      "2021-09-21 15:15:13 [Severity.INFO]\tCreating paths from directed acyclic graph\n",
      "2021-09-21 15:15:13 [Severity.INFO]\tExpanding Subpaths\n",
      "2021-09-21 15:15:13 [Severity.INFO]\tCalculating sub path statistics ... \n",
      "2021-09-21 15:15:13 [Severity.INFO]\tfinished.\n"
     ]
    },
    {
     "name": "stderr",
     "output_type": "stream",
     "text": [
      "\n"
     ]
    },
    {
     "data": {
      "text/html": [
       "<style>\n",
       "    text.label_WJaaDwQR {\n",
       "        text-anchor: middle;\n",
       "        font-size: 8px;\n",
       "        font-family: Arial, Helvetica, sans-serif;\n",
       "        fill: #999999;\n",
       "        stroke: #ffffff;\n",
       "        stroke-width: 0.1px;\n",
       "        opacity: 1.0;\n",
       "    }\n",
       "    .links_WJaaDwQR line {\n",
       "    stroke-opacity: 1.0;\n",
       "    }\n",
       "    .arrows svg:path {\n",
       "        stroke: #666;\n",
       "    }\n",
       "    .nodes_WJaaDwQR circle {\n",
       "    stroke: #fff;\n",
       "    stroke-width: 0.5px;\n",
       "    }\n",
       "</style>\n",
       "\n",
       "<svg width=\"1000\" height=\"1000\" id=\"WJaaDwQR\">        \n",
       "    <text x=\"20\" y=\"20\" font-family=\"sans-serif\" font-size=\"14px\" fill=\"#666\" style=\"cursor: pointer\"\n",
       "        id='WJaaDwQR_svg_txt'>[save svg]</text>\n",
       "</svg>\n",
       "\n",
       "<script charset=\"utf-8\" src=\"https://d3js.org/d3.v4.min.js\"></script>\n",
       "<script charset=\"utf-8\">\n",
       "\n",
       "// Load via requireJS if available (jupyter notebook environment)\n",
       "try {\n",
       "    // Problem: require.config will raise an exception when called for the second time \n",
       "    require.config({\n",
       "        paths: {\n",
       "            //d3: \"https://d3js.org/d3.v4.min\"\n",
       "            d3: \"https://d3js.org/d3.v4.min.js\".replace(\".js\", \"\")\n",
       "        }\n",
       "    });\n",
       "    console.log(\"Detected requireJS\");\n",
       "}\n",
       "catch(err){\n",
       "    // a reference error indicates that requireJS does not exist. \n",
       "    // other errors may occur due to multiple calls to config\n",
       "    if (err instanceof ReferenceError){\n",
       "        console.log(\"Detected no requireJS\");\n",
       "\n",
       "        // Helper function that waits for d3js to be loaded\n",
       "        require = function require(symbols, callback) {\n",
       "            var ms = 5;\n",
       "            window.setTimeout(function(t) {\n",
       "                if (window[symbols[0]])\n",
       "                    callback(window[symbols[0]]);\n",
       "                else \n",
       "                    window.setTimeout(arguments.callee, ms);\n",
       "            }, ms);\n",
       "        }\n",
       "    }\n",
       "}\n",
       "\n",
       "// wait until d3js has been loaded\n",
       "require([\"d3\"], function(d3) {\n",
       "    var svg = d3.select(\"#\"+\"WJaaDwQR\"), radius = 6, width = +svg.attr(\"width\"), height = +svg.attr(\"height\");\n",
       "\n",
       "    var color = d3.scaleOrdinal(d3.schemeCategory20);\n",
       "\n",
       "    var graph = {\"links\": [{\"source\": \"L1 setup.py a3213cd995e850c8966355755c4ac2ff61f65503\", \"target\": \"L1 setup.py 806fc44d2250c316c75692601362aecabc63d137\", \"color\": \"#999999\", \"width\": 0.5, \"weight\": 1.0}, {\"source\": \"L2 setup.py a3213cd995e850c8966355755c4ac2ff61f65503\", \"target\": \"L2 setup.py 806fc44d2250c316c75692601362aecabc63d137\", \"color\": \"#999999\", \"width\": 0.5, \"weight\": 1.0}, {\"source\": \"L3 setup.py a3213cd995e850c8966355755c4ac2ff61f65503\", \"target\": \"L3 setup.py 806fc44d2250c316c75692601362aecabc63d137\", \"color\": \"#999999\", \"width\": 0.5, \"weight\": 1.0}, {\"source\": \"L4 setup.py a3213cd995e850c8966355755c4ac2ff61f65503\", \"target\": \"L4 setup.py 806fc44d2250c316c75692601362aecabc63d137\", \"color\": \"#999999\", \"width\": 0.5, \"weight\": 1.0}, {\"source\": \"L5 setup.py a3213cd995e850c8966355755c4ac2ff61f65503\", \"target\": \"L5 setup.py 806fc44d2250c316c75692601362aecabc63d137\", \"color\": \"#999999\", \"width\": 0.5, \"weight\": 1.0}, {\"source\": \"L6 setup.py a3213cd995e850c8966355755c4ac2ff61f65503\", \"target\": \"L6 setup.py 806fc44d2250c316c75692601362aecabc63d137\", \"color\": \"#999999\", \"width\": 0.5, \"weight\": 1.0}, {\"source\": \"L7 setup.py a3213cd995e850c8966355755c4ac2ff61f65503\", \"target\": \"L7 setup.py 806fc44d2250c316c75692601362aecabc63d137\", \"color\": \"#999999\", \"width\": 0.5, \"weight\": 0.5}, {\"source\": \"L8 setup.py a3213cd995e850c8966355755c4ac2ff61f65503\", \"target\": \"L8 setup.py 806fc44d2250c316c75692601362aecabc63d137\", \"color\": \"#999999\", \"width\": 0.5, \"weight\": 0.5}, {\"source\": \"L9 setup.py a3213cd995e850c8966355755c4ac2ff61f65503\", \"target\": \"L9 setup.py 806fc44d2250c316c75692601362aecabc63d137\", \"color\": \"#999999\", \"width\": 0.5, \"weight\": 1.0}, {\"source\": \"L10 setup.py a3213cd995e850c8966355755c4ac2ff61f65503\", \"target\": \"L10 setup.py 806fc44d2250c316c75692601362aecabc63d137\", \"color\": \"#999999\", \"width\": 0.5, \"weight\": 0.5}, {\"source\": \"L11 setup.py a3213cd995e850c8966355755c4ac2ff61f65503\", \"target\": \"L11 setup.py 806fc44d2250c316c75692601362aecabc63d137\", \"color\": \"#999999\", \"width\": 0.5, \"weight\": 0.5}, {\"source\": \"setup.py\", \"target\": \"L12 setup.py 806fc44d2250c316c75692601362aecabc63d137\", \"color\": \"#999999\", \"width\": 0.5, \"weight\": 1.0}, {\"source\": \"setup.py\", \"target\": \"L13 setup.py 806fc44d2250c316c75692601362aecabc63d137\", \"color\": \"#999999\", \"width\": 0.5, \"weight\": 1.0}, {\"source\": \"setup.py\", \"target\": \"L14 setup.py 806fc44d2250c316c75692601362aecabc63d137\", \"color\": \"#999999\", \"width\": 0.5, \"weight\": 1.0}, {\"source\": \"setup.py\", \"target\": \"L15 setup.py 806fc44d2250c316c75692601362aecabc63d137\", \"color\": \"#999999\", \"width\": 0.5, \"weight\": 1.0}, {\"source\": \"setup.py\", \"target\": \"L16 setup.py 806fc44d2250c316c75692601362aecabc63d137\", \"color\": \"#999999\", \"width\": 0.5, \"weight\": 1.0}, {\"source\": \"setup.py\", \"target\": \"L17 setup.py 806fc44d2250c316c75692601362aecabc63d137\", \"color\": \"#999999\", \"width\": 0.5, \"weight\": 1.0}, {\"source\": \"setup.py\", \"target\": \"L18 setup.py 806fc44d2250c316c75692601362aecabc63d137\", \"color\": \"#999999\", \"width\": 0.5, \"weight\": 1.0}, {\"source\": \"setup.py\", \"target\": \"L19 setup.py 806fc44d2250c316c75692601362aecabc63d137\", \"color\": \"#999999\", \"width\": 0.5, \"weight\": 1.0}, {\"source\": \"setup.py\", \"target\": \"L20 setup.py 806fc44d2250c316c75692601362aecabc63d137\", \"color\": \"#999999\", \"width\": 0.5, \"weight\": 1.0}, {\"source\": \"setup.py\", \"target\": \"L21 setup.py 806fc44d2250c316c75692601362aecabc63d137\", \"color\": \"#999999\", \"width\": 0.5, \"weight\": 1.0}, {\"source\": \"setup.py\", \"target\": \"L22 setup.py 806fc44d2250c316c75692601362aecabc63d137\", \"color\": \"#999999\", \"width\": 0.5, \"weight\": 1.0}, {\"source\": \"setup.py\", \"target\": \"L23 setup.py 806fc44d2250c316c75692601362aecabc63d137\", \"color\": \"#999999\", \"width\": 0.5, \"weight\": 1.0}, {\"source\": \"setup.py\", \"target\": \"L24 setup.py 806fc44d2250c316c75692601362aecabc63d137\", \"color\": \"#999999\", \"width\": 0.5, \"weight\": 1.0}, {\"source\": \"setup.py\", \"target\": \"L25 setup.py 806fc44d2250c316c75692601362aecabc63d137\", \"color\": \"#999999\", \"width\": 0.5, \"weight\": 1.0}, {\"source\": \"setup.py\", \"target\": \"L26 setup.py 806fc44d2250c316c75692601362aecabc63d137\", \"color\": \"#999999\", \"width\": 0.5, \"weight\": 1.0}, {\"source\": \"setup.py\", \"target\": \"L27 setup.py 806fc44d2250c316c75692601362aecabc63d137\", \"color\": \"#999999\", \"width\": 0.5, \"weight\": 0.5}, {\"source\": \"setup.py\", \"target\": \"L28 setup.py 806fc44d2250c316c75692601362aecabc63d137\", \"color\": \"#999999\", \"width\": 0.5, \"weight\": 1.0}, {\"source\": \"setup.py\", \"target\": \"L29 setup.py 806fc44d2250c316c75692601362aecabc63d137\", \"color\": \"#999999\", \"width\": 0.5, \"weight\": 1.0}, {\"source\": \"setup.py\", \"target\": \"L30 setup.py 806fc44d2250c316c75692601362aecabc63d137\", \"color\": \"#999999\", \"width\": 0.5, \"weight\": 1.0}, {\"source\": \"setup.py\", \"target\": \"L31 setup.py 806fc44d2250c316c75692601362aecabc63d137\", \"color\": \"#999999\", \"width\": 0.5, \"weight\": 1.0}, {\"source\": \"setup.py\", \"target\": \"L32 setup.py 806fc44d2250c316c75692601362aecabc63d137\", \"color\": \"#999999\", \"width\": 0.5, \"weight\": 0.5}, {\"source\": \"setup.py\", \"target\": \"L33 setup.py 806fc44d2250c316c75692601362aecabc63d137\", \"color\": \"#999999\", \"width\": 0.5, \"weight\": 0.5}, {\"source\": \"setup.py\", \"target\": \"L34 setup.py 806fc44d2250c316c75692601362aecabc63d137\", \"color\": \"#999999\", \"width\": 0.5, \"weight\": 1.0}, {\"source\": \"L27 setup.py 806fc44d2250c316c75692601362aecabc63d137\", \"target\": \"L27 setup.py 509e1394637f74a357ef2bf0c567dc6520a80eb6\", \"color\": \"#999999\", \"width\": 0.5, \"weight\": 1.0}, {\"source\": \"setup.py\", \"target\": \"L33 setup.py 256e113a3592167b10456496d804a04592395d09\", \"color\": \"#999999\", \"width\": 0.5, \"weight\": 1.0}, {\"source\": \"setup.py\", \"target\": \"L34 setup.py 256e113a3592167b10456496d804a04592395d09\", \"color\": \"#999999\", \"width\": 0.5, \"weight\": 1.0}, {\"source\": \"setup.py\", \"target\": \"L35 setup.py 256e113a3592167b10456496d804a04592395d09\", \"color\": \"#999999\", \"width\": 0.5, \"weight\": 1.0}, {\"source\": \"setup.py\", \"target\": \"L36 setup.py 256e113a3592167b10456496d804a04592395d09\", \"color\": \"#999999\", \"width\": 0.5, \"weight\": 1.0}, {\"source\": \"setup.py\", \"target\": \"L37 setup.py 256e113a3592167b10456496d804a04592395d09\", \"color\": \"#999999\", \"width\": 0.5, \"weight\": 1.0}, {\"source\": \"L32 setup.py 9e72df61bf300b42c3fbc16d94153e8edbbe6dd6\", \"target\": \"L32 setup.py ed7b0b70e6062c4ab9f5f66d99f3413b3b983d94\", \"color\": \"#999999\", \"width\": 0.5, \"weight\": 1.0}, {\"source\": \"setup.py\", \"target\": \"L33 setup.py ed7b0b70e6062c4ab9f5f66d99f3413b3b983d94\", \"color\": \"#999999\", \"width\": 0.5, \"weight\": 1.0}, {\"source\": \"L7 setup.py 806fc44d2250c316c75692601362aecabc63d137\", \"target\": \"L7 setup.py 9e72df61bf300b42c3fbc16d94153e8edbbe6dd6\", \"color\": \"#999999\", \"width\": 0.5, \"weight\": 1.0}, {\"source\": \"L8 setup.py 806fc44d2250c316c75692601362aecabc63d137\", \"target\": \"L8 setup.py 9e72df61bf300b42c3fbc16d94153e8edbbe6dd6\", \"color\": \"#999999\", \"width\": 0.5, \"weight\": 1.0}, {\"source\": \"L10 setup.py 806fc44d2250c316c75692601362aecabc63d137\", \"target\": \"L10 setup.py 9e72df61bf300b42c3fbc16d94153e8edbbe6dd6\", \"color\": \"#999999\", \"width\": 0.5, \"weight\": 1.0}, {\"source\": \"L11 setup.py 806fc44d2250c316c75692601362aecabc63d137\", \"target\": \"L11 setup.py 9e72df61bf300b42c3fbc16d94153e8edbbe6dd6\", \"color\": \"#999999\", \"width\": 0.5, \"weight\": 1.0}, {\"source\": \"L32 setup.py 806fc44d2250c316c75692601362aecabc63d137\", \"target\": \"L32 setup.py 9e72df61bf300b42c3fbc16d94153e8edbbe6dd6\", \"color\": \"#999999\", \"width\": 0.5, \"weight\": 0.5}, {\"source\": \"L33 setup.py 806fc44d2250c316c75692601362aecabc63d137\", \"target\": \"deleted L33 setup.py 806fc44d2250c316c75692601362aecabc63d137\", \"color\": \"#999999\", \"width\": 0.5, \"weight\": 1.0}, {\"source\": \"setup.py\", \"target\": \"L1 setup.py a3213cd995e850c8966355755c4ac2ff61f65503\", \"color\": \"#999999\", \"width\": 0.5, \"weight\": 0.5}, {\"source\": \"setup.py\", \"target\": \"L2 setup.py a3213cd995e850c8966355755c4ac2ff61f65503\", \"color\": \"#999999\", \"width\": 0.5, \"weight\": 0.5}, {\"source\": \"setup.py\", \"target\": \"L3 setup.py a3213cd995e850c8966355755c4ac2ff61f65503\", \"color\": \"#999999\", \"width\": 0.5, \"weight\": 0.5}, {\"source\": \"setup.py\", \"target\": \"L4 setup.py a3213cd995e850c8966355755c4ac2ff61f65503\", \"color\": \"#999999\", \"width\": 0.5, \"weight\": 0.5}, {\"source\": \"setup.py\", \"target\": \"L5 setup.py a3213cd995e850c8966355755c4ac2ff61f65503\", \"color\": \"#999999\", \"width\": 0.5, \"weight\": 0.5}, {\"source\": \"setup.py\", \"target\": \"L6 setup.py a3213cd995e850c8966355755c4ac2ff61f65503\", \"color\": \"#999999\", \"width\": 0.5, \"weight\": 0.5}, {\"source\": \"setup.py\", \"target\": \"L7 setup.py a3213cd995e850c8966355755c4ac2ff61f65503\", \"color\": \"#999999\", \"width\": 0.5, \"weight\": 0.5}, {\"source\": \"setup.py\", \"target\": \"L8 setup.py a3213cd995e850c8966355755c4ac2ff61f65503\", \"color\": \"#999999\", \"width\": 0.5, \"weight\": 0.5}, {\"source\": \"setup.py\", \"target\": \"L9 setup.py a3213cd995e850c8966355755c4ac2ff61f65503\", \"color\": \"#999999\", \"width\": 0.5, \"weight\": 0.5}, {\"source\": \"setup.py\", \"target\": \"L10 setup.py a3213cd995e850c8966355755c4ac2ff61f65503\", \"color\": \"#999999\", \"width\": 0.5, \"weight\": 0.5}, {\"source\": \"setup.py\", \"target\": \"L11 setup.py a3213cd995e850c8966355755c4ac2ff61f65503\", \"color\": \"#999999\", \"width\": 0.5, \"weight\": 0.5}], \"nodes\": [{\"id\": \"L1 setup.py a3213cd995e850c8966355755c4ac2ff61f65503\", \"text\": \"L1 setup.py a3213cd995e850c8966355755c4ac2ff61f65503\", \"color\": \"#73D2DE\", \"size\": 5.0}, {\"id\": \"L1 setup.py 806fc44d2250c316c75692601362aecabc63d137\", \"text\": \"L1 setup.py 806fc44d2250c316c75692601362aecabc63d137\", \"color\": \"#2E5EAA\", \"size\": 5.0}, {\"id\": \"L2 setup.py a3213cd995e850c8966355755c4ac2ff61f65503\", \"text\": \"L2 setup.py a3213cd995e850c8966355755c4ac2ff61f65503\", \"color\": \"#73D2DE\", \"size\": 5.0}, {\"id\": \"L2 setup.py 806fc44d2250c316c75692601362aecabc63d137\", \"text\": \"L2 setup.py 806fc44d2250c316c75692601362aecabc63d137\", \"color\": \"#2E5EAA\", \"size\": 5.0}, {\"id\": \"L3 setup.py a3213cd995e850c8966355755c4ac2ff61f65503\", \"text\": \"L3 setup.py a3213cd995e850c8966355755c4ac2ff61f65503\", \"color\": \"#73D2DE\", \"size\": 5.0}, {\"id\": \"L3 setup.py 806fc44d2250c316c75692601362aecabc63d137\", \"text\": \"L3 setup.py 806fc44d2250c316c75692601362aecabc63d137\", \"color\": \"#2E5EAA\", \"size\": 5.0}, {\"id\": \"L4 setup.py a3213cd995e850c8966355755c4ac2ff61f65503\", \"text\": \"L4 setup.py a3213cd995e850c8966355755c4ac2ff61f65503\", \"color\": \"#73D2DE\", \"size\": 5.0}, {\"id\": \"L4 setup.py 806fc44d2250c316c75692601362aecabc63d137\", \"text\": \"L4 setup.py 806fc44d2250c316c75692601362aecabc63d137\", \"color\": \"#2E5EAA\", \"size\": 5.0}, {\"id\": \"L5 setup.py a3213cd995e850c8966355755c4ac2ff61f65503\", \"text\": \"L5 setup.py a3213cd995e850c8966355755c4ac2ff61f65503\", \"color\": \"#73D2DE\", \"size\": 5.0}, {\"id\": \"L5 setup.py 806fc44d2250c316c75692601362aecabc63d137\", \"text\": \"L5 setup.py 806fc44d2250c316c75692601362aecabc63d137\", \"color\": \"#2E5EAA\", \"size\": 5.0}, {\"id\": \"L6 setup.py a3213cd995e850c8966355755c4ac2ff61f65503\", \"text\": \"L6 setup.py a3213cd995e850c8966355755c4ac2ff61f65503\", \"color\": \"#73D2DE\", \"size\": 5.0}, {\"id\": \"L6 setup.py 806fc44d2250c316c75692601362aecabc63d137\", \"text\": \"L6 setup.py 806fc44d2250c316c75692601362aecabc63d137\", \"color\": \"#2E5EAA\", \"size\": 5.0}, {\"id\": \"L7 setup.py a3213cd995e850c8966355755c4ac2ff61f65503\", \"text\": \"L7 setup.py a3213cd995e850c8966355755c4ac2ff61f65503\", \"color\": \"#73D2DE\", \"size\": 5.0}, {\"id\": \"L7 setup.py 806fc44d2250c316c75692601362aecabc63d137\", \"text\": \"L7 setup.py 806fc44d2250c316c75692601362aecabc63d137\", \"color\": \"#73D2DE\", \"size\": 5.0}, {\"id\": \"L8 setup.py a3213cd995e850c8966355755c4ac2ff61f65503\", \"text\": \"L8 setup.py a3213cd995e850c8966355755c4ac2ff61f65503\", \"color\": \"#73D2DE\", \"size\": 5.0}, {\"id\": \"L8 setup.py 806fc44d2250c316c75692601362aecabc63d137\", \"text\": \"L8 setup.py 806fc44d2250c316c75692601362aecabc63d137\", \"color\": \"#73D2DE\", \"size\": 5.0}, {\"id\": \"L9 setup.py a3213cd995e850c8966355755c4ac2ff61f65503\", \"text\": \"L9 setup.py a3213cd995e850c8966355755c4ac2ff61f65503\", \"color\": \"#73D2DE\", \"size\": 5.0}, {\"id\": \"L9 setup.py 806fc44d2250c316c75692601362aecabc63d137\", \"text\": \"L9 setup.py 806fc44d2250c316c75692601362aecabc63d137\", \"color\": \"#2E5EAA\", \"size\": 5.0}, {\"id\": \"L10 setup.py a3213cd995e850c8966355755c4ac2ff61f65503\", \"text\": \"L10 setup.py a3213cd995e850c8966355755c4ac2ff61f65503\", \"color\": \"#73D2DE\", \"size\": 5.0}, {\"id\": \"L10 setup.py 806fc44d2250c316c75692601362aecabc63d137\", \"text\": \"L10 setup.py 806fc44d2250c316c75692601362aecabc63d137\", \"color\": \"#73D2DE\", \"size\": 5.0}, {\"id\": \"L11 setup.py a3213cd995e850c8966355755c4ac2ff61f65503\", \"text\": \"L11 setup.py a3213cd995e850c8966355755c4ac2ff61f65503\", \"color\": \"#73D2DE\", \"size\": 5.0}, {\"id\": \"L11 setup.py 806fc44d2250c316c75692601362aecabc63d137\", \"text\": \"L11 setup.py 806fc44d2250c316c75692601362aecabc63d137\", \"color\": \"#73D2DE\", \"size\": 5.0}, {\"id\": \"setup.py\", \"text\": \"setup.py\", \"color\": \"#2E5EAA\", \"size\": 5.0}, {\"id\": \"L12 setup.py 806fc44d2250c316c75692601362aecabc63d137\", \"text\": \"L12 setup.py 806fc44d2250c316c75692601362aecabc63d137\", \"color\": \"#2E5EAA\", \"size\": 5.0}, {\"id\": \"L13 setup.py 806fc44d2250c316c75692601362aecabc63d137\", \"text\": \"L13 setup.py 806fc44d2250c316c75692601362aecabc63d137\", \"color\": \"#2E5EAA\", \"size\": 5.0}, {\"id\": \"L14 setup.py 806fc44d2250c316c75692601362aecabc63d137\", \"text\": \"L14 setup.py 806fc44d2250c316c75692601362aecabc63d137\", \"color\": \"#2E5EAA\", \"size\": 5.0}, {\"id\": \"L15 setup.py 806fc44d2250c316c75692601362aecabc63d137\", \"text\": \"L15 setup.py 806fc44d2250c316c75692601362aecabc63d137\", \"color\": \"#2E5EAA\", \"size\": 5.0}, {\"id\": \"L16 setup.py 806fc44d2250c316c75692601362aecabc63d137\", \"text\": \"L16 setup.py 806fc44d2250c316c75692601362aecabc63d137\", \"color\": \"#2E5EAA\", \"size\": 5.0}, {\"id\": \"L17 setup.py 806fc44d2250c316c75692601362aecabc63d137\", \"text\": \"L17 setup.py 806fc44d2250c316c75692601362aecabc63d137\", \"color\": \"#2E5EAA\", \"size\": 5.0}, {\"id\": \"L18 setup.py 806fc44d2250c316c75692601362aecabc63d137\", \"text\": \"L18 setup.py 806fc44d2250c316c75692601362aecabc63d137\", \"color\": \"#2E5EAA\", \"size\": 5.0}, {\"id\": \"L19 setup.py 806fc44d2250c316c75692601362aecabc63d137\", \"text\": \"L19 setup.py 806fc44d2250c316c75692601362aecabc63d137\", \"color\": \"#2E5EAA\", \"size\": 5.0}, {\"id\": \"L20 setup.py 806fc44d2250c316c75692601362aecabc63d137\", \"text\": \"L20 setup.py 806fc44d2250c316c75692601362aecabc63d137\", \"color\": \"#2E5EAA\", \"size\": 5.0}, {\"id\": \"L21 setup.py 806fc44d2250c316c75692601362aecabc63d137\", \"text\": \"L21 setup.py 806fc44d2250c316c75692601362aecabc63d137\", \"color\": \"#2E5EAA\", \"size\": 5.0}, {\"id\": \"L22 setup.py 806fc44d2250c316c75692601362aecabc63d137\", \"text\": \"L22 setup.py 806fc44d2250c316c75692601362aecabc63d137\", \"color\": \"#2E5EAA\", \"size\": 5.0}, {\"id\": \"L23 setup.py 806fc44d2250c316c75692601362aecabc63d137\", \"text\": \"L23 setup.py 806fc44d2250c316c75692601362aecabc63d137\", \"color\": \"#2E5EAA\", \"size\": 5.0}, {\"id\": \"L24 setup.py 806fc44d2250c316c75692601362aecabc63d137\", \"text\": \"L24 setup.py 806fc44d2250c316c75692601362aecabc63d137\", \"color\": \"#2E5EAA\", \"size\": 5.0}, {\"id\": \"L25 setup.py 806fc44d2250c316c75692601362aecabc63d137\", \"text\": \"L25 setup.py 806fc44d2250c316c75692601362aecabc63d137\", \"color\": \"#2E5EAA\", \"size\": 5.0}, {\"id\": \"L26 setup.py 806fc44d2250c316c75692601362aecabc63d137\", \"text\": \"L26 setup.py 806fc44d2250c316c75692601362aecabc63d137\", \"color\": \"#2E5EAA\", \"size\": 5.0}, {\"id\": \"L27 setup.py 806fc44d2250c316c75692601362aecabc63d137\", \"text\": \"L27 setup.py 806fc44d2250c316c75692601362aecabc63d137\", \"color\": \"#73D2DE\", \"size\": 5.0}, {\"id\": \"L28 setup.py 806fc44d2250c316c75692601362aecabc63d137\", \"text\": \"L28 setup.py 806fc44d2250c316c75692601362aecabc63d137\", \"color\": \"#2E5EAA\", \"size\": 5.0}, {\"id\": \"L29 setup.py 806fc44d2250c316c75692601362aecabc63d137\", \"text\": \"L29 setup.py 806fc44d2250c316c75692601362aecabc63d137\", \"color\": \"#2E5EAA\", \"size\": 5.0}, {\"id\": \"L30 setup.py 806fc44d2250c316c75692601362aecabc63d137\", \"text\": \"L30 setup.py 806fc44d2250c316c75692601362aecabc63d137\", \"color\": \"#2E5EAA\", \"size\": 5.0}, {\"id\": \"L31 setup.py 806fc44d2250c316c75692601362aecabc63d137\", \"text\": \"L31 setup.py 806fc44d2250c316c75692601362aecabc63d137\", \"color\": \"#2E5EAA\", \"size\": 5.0}, {\"id\": \"L32 setup.py 806fc44d2250c316c75692601362aecabc63d137\", \"text\": \"L32 setup.py 806fc44d2250c316c75692601362aecabc63d137\", \"color\": \"#73D2DE\", \"size\": 5.0}, {\"id\": \"L33 setup.py 806fc44d2250c316c75692601362aecabc63d137\", \"text\": \"L33 setup.py 806fc44d2250c316c75692601362aecabc63d137\", \"color\": \"#73D2DE\", \"size\": 5.0}, {\"id\": \"L34 setup.py 806fc44d2250c316c75692601362aecabc63d137\", \"text\": \"L34 setup.py 806fc44d2250c316c75692601362aecabc63d137\", \"color\": \"#2E5EAA\", \"size\": 5.0}, {\"id\": \"L27 setup.py 509e1394637f74a357ef2bf0c567dc6520a80eb6\", \"text\": \"L27 setup.py 509e1394637f74a357ef2bf0c567dc6520a80eb6\", \"color\": \"#2E5EAA\", \"size\": 5.0}, {\"id\": \"L33 setup.py 256e113a3592167b10456496d804a04592395d09\", \"text\": \"L33 setup.py 256e113a3592167b10456496d804a04592395d09\", \"color\": \"#2E5EAA\", \"size\": 5.0}, {\"id\": \"L34 setup.py 256e113a3592167b10456496d804a04592395d09\", \"text\": \"L34 setup.py 256e113a3592167b10456496d804a04592395d09\", \"color\": \"#2E5EAA\", \"size\": 5.0}, {\"id\": \"L35 setup.py 256e113a3592167b10456496d804a04592395d09\", \"text\": \"L35 setup.py 256e113a3592167b10456496d804a04592395d09\", \"color\": \"#2E5EAA\", \"size\": 5.0}, {\"id\": \"L36 setup.py 256e113a3592167b10456496d804a04592395d09\", \"text\": \"L36 setup.py 256e113a3592167b10456496d804a04592395d09\", \"color\": \"#2E5EAA\", \"size\": 5.0}, {\"id\": \"L37 setup.py 256e113a3592167b10456496d804a04592395d09\", \"text\": \"L37 setup.py 256e113a3592167b10456496d804a04592395d09\", \"color\": \"#2E5EAA\", \"size\": 5.0}, {\"id\": \"L32 setup.py 9e72df61bf300b42c3fbc16d94153e8edbbe6dd6\", \"text\": \"L32 setup.py 9e72df61bf300b42c3fbc16d94153e8edbbe6dd6\", \"color\": \"#73D2DE\", \"size\": 5.0}, {\"id\": \"L32 setup.py ed7b0b70e6062c4ab9f5f66d99f3413b3b983d94\", \"text\": \"L32 setup.py ed7b0b70e6062c4ab9f5f66d99f3413b3b983d94\", \"color\": \"#2E5EAA\", \"size\": 5.0}, {\"id\": \"L33 setup.py ed7b0b70e6062c4ab9f5f66d99f3413b3b983d94\", \"text\": \"L33 setup.py ed7b0b70e6062c4ab9f5f66d99f3413b3b983d94\", \"color\": \"#2E5EAA\", \"size\": 5.0}, {\"id\": \"L7 setup.py 9e72df61bf300b42c3fbc16d94153e8edbbe6dd6\", \"text\": \"L7 setup.py 9e72df61bf300b42c3fbc16d94153e8edbbe6dd6\", \"color\": \"#2E5EAA\", \"size\": 5.0}, {\"id\": \"L8 setup.py 9e72df61bf300b42c3fbc16d94153e8edbbe6dd6\", \"text\": \"L8 setup.py 9e72df61bf300b42c3fbc16d94153e8edbbe6dd6\", \"color\": \"#2E5EAA\", \"size\": 5.0}, {\"id\": \"L10 setup.py 9e72df61bf300b42c3fbc16d94153e8edbbe6dd6\", \"text\": \"L10 setup.py 9e72df61bf300b42c3fbc16d94153e8edbbe6dd6\", \"color\": \"#2E5EAA\", \"size\": 5.0}, {\"id\": \"L11 setup.py 9e72df61bf300b42c3fbc16d94153e8edbbe6dd6\", \"text\": \"L11 setup.py 9e72df61bf300b42c3fbc16d94153e8edbbe6dd6\", \"color\": \"#2E5EAA\", \"size\": 5.0}, {\"id\": \"deleted L33 setup.py 806fc44d2250c316c75692601362aecabc63d137\", \"text\": \"deleted L33 setup.py 806fc44d2250c316c75692601362aecabc63d137\", \"color\": \"#A8322D\", \"size\": 5.0}]};\n",
       "    var directed = true;\n",
       "\n",
       "    var simulation = d3.forceSimulation()        \n",
       "       .force(\"link\", d3.forceLink().id(function(d) { return d.id; }).strength(function(d){return d.weight;}))\n",
       "        .force(\"charge\", d3.forceManyBody().strength(-20).distanceMax(1000))\n",
       "       .force(\"repelForce\", d3.forceManyBody().strength(-200).distanceMax(100))\n",
       "       .force(\"center\", d3.forceCenter(1000 / 2, 1000 / 2))\n",
       "       .alphaTarget(0.0);\n",
       "\n",
       "    svg.append(\"defs\").selectAll(\"marker\")\n",
       "        .data([\"end\"])\n",
       "    .enter().append(\"marker\")\n",
       "        .attr(\"id\", String)\n",
       "        .attr(\"viewBox\", \"0 -5 20 20\")\n",
       "        .attr(\"refX\", 34)\n",
       "        .attr(\"refY\", 0)\n",
       "        .attr(\"markerWidth\", 15)\n",
       "        .attr(\"markerHeight\", 15)\n",
       "        .attr(\"orient\", \"auto\")\n",
       "    .append(\"path\")\n",
       "        // draws a filled path (triangle) between three points\n",
       "        .attr(\"d\", \"M0,-5 L20,0 L0,5 z\")\n",
       "        .attr(\"fill\", '#999')\n",
       "        .attr(\"stroke\", 'none');\n",
       "\n",
       "    var g = svg.append(\"g\")\n",
       "        .attr(\"class\", \"everything\");\n",
       "\n",
       "    var link = g.append(\"g\")\n",
       "        .attr(\"class\", \"links_WJaaDwQR\")\n",
       "        .selectAll(\"line\")\n",
       "        .data(graph.links)\n",
       "        .enter().append(\"line\")\n",
       "        .attr(\"stroke-width\", function(d) { return d.width; })\n",
       "        .attr(\"stroke\", function(d) { return d.color; } );\n",
       "\n",
       "    if (directed)\n",
       "        link.attr(\"marker-end\", \"url(#end)\");\n",
       "\n",
       "    var node_g = g.append(\"g\")\n",
       "        .attr(\"class\", \"nodes_WJaaDwQR\")\n",
       "        .selectAll(\"circle\")\n",
       "        .data(graph.nodes)\n",
       "        .enter()\n",
       "        .append(\"g\"); \n",
       "\n",
       "    var node = node_g.append(\"circle\")\n",
       "        .attr('id', function(d) { return d.id; })\n",
       "        .attr(\"r\", function(d) { return d.size; })\n",
       "        .attr(\"fill\", function(d) { return d.color; })\n",
       "        .call(d3.drag()\n",
       "            .on(\"start\", dragstarted)\n",
       "            .on(\"drag\", dragged)\n",
       "            .on(\"end\", dragended));\n",
       "\n",
       "    var text = node_g.append(\"text\")\n",
       "    .attr(\"x\", [0, -10][0])\n",
       "    .attr(\"y\", [0, -10][1]+3)\n",
       "    .attr(\"id\", function(d) {return d.id; })\n",
       "    .attr(\"class\", \"label_WJaaDwQR\")\n",
       "    .text(function(d) { return d.id; });\n",
       "\n",
       "    node.append(\"title\")\n",
       "        .text(function(d) { return d.text; });\n",
       "\n",
       "    var zoom_handler = d3.zoom()\n",
       "        .on(\"zoom\", zoom_actions);\n",
       "    zoom_handler(svg);\n",
       "\n",
       "    // attach event handler for svg export\n",
       "    d3.select('#WJaaDwQR_svg_txt').on(\"click\", save_svg);\n",
       "\n",
       "    simulation\n",
       "        .nodes(graph.nodes)\n",
       "        .on(\"tick\", ticked);\n",
       "\n",
       "    simulation.force(\"link\")\n",
       "        .links(graph.links);\n",
       "\n",
       "    function ticked() {\n",
       "        link.attr(\"x1\", function(d) { return d.source.x; })\n",
       "            .attr(\"y1\", function(d) { return d.source.y; })\n",
       "            .attr(\"x2\", function(d) { return d.target.x; })\n",
       "            .attr(\"y2\", function(d) { return d.target.y; });\n",
       "\n",
       "         text.attr(\"transform\", transform);\n",
       "\n",
       "\n",
       "        text.attr(\"cx\", function(d) { return d.x; })\n",
       "            .attr(\"cy\", function(d) { return d.y; });\n",
       "\n",
       "        node.attr(\"cx\", function(d) { return d.x; })\n",
       "            .attr(\"cy\", function(d) { return d.y; });\n",
       "    }\n",
       "\n",
       "    function transform(d) {\n",
       "        return \"translate(\" + d.x + \",\" + d.y + \")\";\n",
       "    }\n",
       "\n",
       "    function dragstarted(d) {\n",
       "    if (!d3.event.active) simulation.alphaTarget(0.3).restart();\n",
       "    d.fx = d.x;\n",
       "    d.fy = d.y;\n",
       "    }\n",
       "\n",
       "    function zoom_actions(){\n",
       "        g.attr(\"transform\", d3.event.transform)\n",
       "    }    \n",
       "\n",
       "    function dragged(d) {\n",
       "    d.fx = d3.event.x;\n",
       "    d.fy = d3.event.y;\n",
       "    }\n",
       "\n",
       "    function dragended(d) {\n",
       "    if (!d3.event.active) simulation.alphaTarget(0);\n",
       "    d.fx = null;\n",
       "    d.fy = null;\n",
       "    }\n",
       "\n",
       "    function to_svg() {\n",
       "        // Returns a SVG representation of the current state of the visualisation\n",
       "\t    var svg  = document.getElementById('WJaaDwQR');\n",
       "\t    var xml = (new XMLSerializer).serializeToString(svg);\n",
       "        return xml;\n",
       "    }\n",
       "\n",
       "    function save_svg() {\n",
       "        var svg  = document.getElementById('WJaaDwQR');\n",
       "        var xml = (new XMLSerializer).serializeToString(svg);        \n",
       "        var blob = new Blob([xml], {type: 'text/xml'});\n",
       "        if(window.navigator.msSaveOrOpenBlob) {\n",
       "            window.navigator.msSaveBlob(blob, 'network.svg');\n",
       "        }\n",
       "        else{\n",
       "            var elem = window.document.createElement('a');\n",
       "            elem.href = window.URL.createObjectURL(blob);\n",
       "            elem.download = 'network.svg';\n",
       "            document.body.appendChild(elem);\n",
       "            elem.click();\n",
       "            document.body.removeChild(elem);\n",
       "        }\n",
       "    }\n",
       "});\n",
       "</script>"
      ],
      "text/plain": [
       "<IPython.core.display.HTML object>"
      ]
     },
     "metadata": {},
     "output_type": "display_data"
    }
   ],
   "source": [
    "paths, dag, node_info, edge_info = git2net.get_line_editing_paths(sqlite_db_file, git_repo_dir,\n",
    "                                                                  file_paths=file_paths)\n",
    "pp.visualisation.plot(dag, node_color=node_info['colors'], width=1000, height=1000)"
   ]
  },
  {
   "cell_type": "markdown",
   "metadata": {},
   "source": [
    "As mentioned before, these networks get very large very quickly. Therefore, it is often more useful to work with the `pathpy` path object that is also returned by the function. It cointains all paths and subpaths contained in the network shown above. More information regarding this object can be found in the documentation on [pathpy.net](http://www.pathpy.net/).\n",
    "\n",
    "This concludes this tutorial, which I hope you found useful. Enjoy using `git2net` and best of luck for your research! If you find any bugs with the code please let me know on [github.com](https://github.com/gotec/git2net).\n",
    "\n",
    "`git2net` has been developed as open source project. This means your ideas and inputs are highly welcome. Feel free to share the project and contribute yourself. You can imediately get started on the repository you just downloaded!"
   ]
  },
  {
   "cell_type": "markdown",
   "metadata": {},
   "source": [
    "## Data mining"
   ]
  },
  {
   "cell_type": "markdown",
   "metadata": {},
   "source": [
    "Let's take a view on data base content. Obviously, we found two tables. The second code snippet illustrates the usage of sql statements to evaluate the content. We extract the unique author names from the `commit` list."
   ]
  },
  {
   "cell_type": "code",
   "execution_count": 16,
   "metadata": {
    "ExecuteTime": {
     "end_time": "2021-09-21T15:15:13.384583Z",
     "start_time": "2021-09-21T15:15:13.379397Z"
    }
   },
   "outputs": [
    {
     "data": {
      "text/plain": [
       "[('_metadata',), ('edits',), ('commits',)]"
      ]
     },
     "execution_count": 16,
     "metadata": {},
     "output_type": "execute_result"
    }
   ],
   "source": [
    "import sqlite3\n",
    "\n",
    "db = sqlite3.connect(sqlite_db_file)\n",
    "cursor = db.cursor()\n",
    "cursor.execute(\"SELECT name FROM sqlite_master WHERE type='table';\")\n",
    "cursor.fetchall()"
   ]
  },
  {
   "cell_type": "code",
   "execution_count": 17,
   "metadata": {
    "ExecuteTime": {
     "end_time": "2021-09-21T15:15:13.401742Z",
     "start_time": "2021-09-21T15:15:13.385818Z"
    }
   },
   "outputs": [
    {
     "data": {
      "text/plain": [
       "[('Ingo Scholtes',),\n",
       " ('Christoph Gote',),\n",
       " ('Jan Philip',),\n",
       " ('Sebastian Zug',),\n",
       " ('Breee',),\n",
       " ('Milo Trujillo',)]"
      ]
     },
     "execution_count": 17,
     "metadata": {},
     "output_type": "execute_result"
    }
   ],
   "source": [
    "cursor.execute(\"SELECT DISTINCT author_name FROM commits\")\n",
    "rows = cursor.fetchall()\n",
    "\n",
    "rows"
   ]
  },
  {
   "cell_type": "markdown",
   "metadata": {},
   "source": [
    "Let's take a view on an alternative approach using python pandas. We load the data base in a pandas DataFrame in a first step. Afterwards the evaluation is much more comfortable due to the fact that the pandas API includes a huge amount of tools for statistical analysis and visualization."
   ]
  },
  {
   "cell_type": "code",
   "execution_count": 18,
   "metadata": {
    "ExecuteTime": {
     "end_time": "2021-09-21T15:15:13.432475Z",
     "start_time": "2021-09-21T15:15:13.403547Z"
    }
   },
   "outputs": [
    {
     "data": {
      "text/html": [
       "<div>\n",
       "<style scoped>\n",
       "    .dataframe tbody tr th:only-of-type {\n",
       "        vertical-align: middle;\n",
       "    }\n",
       "\n",
       "    .dataframe tbody tr th {\n",
       "        vertical-align: top;\n",
       "    }\n",
       "\n",
       "    .dataframe thead th {\n",
       "        text-align: right;\n",
       "    }\n",
       "</style>\n",
       "<table border=\"1\" class=\"dataframe\">\n",
       "  <thead>\n",
       "    <tr style=\"text-align: right;\">\n",
       "      <th></th>\n",
       "      <th>hash</th>\n",
       "      <th>author_email</th>\n",
       "      <th>author_name</th>\n",
       "      <th>committer_email</th>\n",
       "      <th>committer_name</th>\n",
       "      <th>author_date</th>\n",
       "      <th>committer_date</th>\n",
       "      <th>author_timezone</th>\n",
       "      <th>committer_timezone</th>\n",
       "      <th>no_of_modifications</th>\n",
       "      <th>commit_message_len</th>\n",
       "      <th>project_name</th>\n",
       "      <th>parents</th>\n",
       "      <th>merge</th>\n",
       "      <th>in_main_branch</th>\n",
       "      <th>branches</th>\n",
       "      <th>author_id</th>\n",
       "    </tr>\n",
       "  </thead>\n",
       "  <tbody>\n",
       "    <tr>\n",
       "      <th>0</th>\n",
       "      <td>9d225f34fd63daced3c58c3b7df8d540ec5fc826</td>\n",
       "      <td>scholtes@ifi.uzh.ch</td>\n",
       "      <td>Ingo Scholtes</td>\n",
       "      <td>scholtes@ifi.uzh.ch</td>\n",
       "      <td>Ingo Scholtes</td>\n",
       "      <td>2019-01-08 14:30:15</td>\n",
       "      <td>2019-01-08 14:30:15</td>\n",
       "      <td>-3600</td>\n",
       "      <td>-3600</td>\n",
       "      <td>1</td>\n",
       "      <td>19</td>\n",
       "      <td>git2net4analysis</td>\n",
       "      <td>d7def7ec7a8305990640d86470d97f1a16727c5a</td>\n",
       "      <td>0</td>\n",
       "      <td>1</td>\n",
       "      <td>master</td>\n",
       "      <td>0.0</td>\n",
       "    </tr>\n",
       "    <tr>\n",
       "      <th>1</th>\n",
       "      <td>d7def7ec7a8305990640d86470d97f1a16727c5a</td>\n",
       "      <td>scholtes@ifi.uzh.ch</td>\n",
       "      <td>Ingo Scholtes</td>\n",
       "      <td>scholtes@ifi.uzh.ch</td>\n",
       "      <td>Ingo Scholtes</td>\n",
       "      <td>2019-01-08 10:58:20</td>\n",
       "      <td>2019-01-08 10:58:20</td>\n",
       "      <td>-3600</td>\n",
       "      <td>-3600</td>\n",
       "      <td>1</td>\n",
       "      <td>14</td>\n",
       "      <td>git2net4analysis</td>\n",
       "      <td></td>\n",
       "      <td>0</td>\n",
       "      <td>1</td>\n",
       "      <td>master</td>\n",
       "      <td>0.0</td>\n",
       "    </tr>\n",
       "    <tr>\n",
       "      <th>2</th>\n",
       "      <td>7de40e6c54bae5f0f43bd056b710eac3e2153fc7</td>\n",
       "      <td>ischoltes@ethz.ch</td>\n",
       "      <td>Ingo Scholtes</td>\n",
       "      <td>ischoltes@ethz.ch</td>\n",
       "      <td>Ingo Scholtes</td>\n",
       "      <td>2019-01-09 19:30:19</td>\n",
       "      <td>2019-01-09 19:30:19</td>\n",
       "      <td>-3600</td>\n",
       "      <td>-3600</td>\n",
       "      <td>1</td>\n",
       "      <td>12</td>\n",
       "      <td>git2net4analysis</td>\n",
       "      <td>d4b61a32104ca72d1f850077e5bfcfa479b43106</td>\n",
       "      <td>0</td>\n",
       "      <td>1</td>\n",
       "      <td>master</td>\n",
       "      <td>0.0</td>\n",
       "    </tr>\n",
       "    <tr>\n",
       "      <th>3</th>\n",
       "      <td>40e36389f3443c8feb2a9274104c85e7e9c57fd5</td>\n",
       "      <td>scholtes@ifi.uzh.ch</td>\n",
       "      <td>Ingo Scholtes</td>\n",
       "      <td>scholtes@ifi.uzh.ch</td>\n",
       "      <td>Ingo Scholtes</td>\n",
       "      <td>2019-01-09 13:32:06</td>\n",
       "      <td>2019-01-09 13:32:06</td>\n",
       "      <td>-3600</td>\n",
       "      <td>-3600</td>\n",
       "      <td>1</td>\n",
       "      <td>12</td>\n",
       "      <td>git2net4analysis</td>\n",
       "      <td>69d9c6578fa1aafcbe2ed548159ba16cf39ffc46</td>\n",
       "      <td>0</td>\n",
       "      <td>1</td>\n",
       "      <td>master</td>\n",
       "      <td>0.0</td>\n",
       "    </tr>\n",
       "    <tr>\n",
       "      <th>4</th>\n",
       "      <td>c71a73528640d81b325e19aa38a3f68e4fe34366</td>\n",
       "      <td>scholtes@ifi.uzh.ch</td>\n",
       "      <td>Ingo Scholtes</td>\n",
       "      <td>scholtes@ifi.uzh.ch</td>\n",
       "      <td>Ingo Scholtes</td>\n",
       "      <td>2019-01-08 17:42:58</td>\n",
       "      <td>2019-01-08 17:42:58</td>\n",
       "      <td>-3600</td>\n",
       "      <td>-3600</td>\n",
       "      <td>1</td>\n",
       "      <td>8</td>\n",
       "      <td>git2net4analysis</td>\n",
       "      <td>9d225f34fd63daced3c58c3b7df8d540ec5fc826</td>\n",
       "      <td>0</td>\n",
       "      <td>1</td>\n",
       "      <td>master</td>\n",
       "      <td>0.0</td>\n",
       "    </tr>\n",
       "  </tbody>\n",
       "</table>\n",
       "</div>"
      ],
      "text/plain": [
       "                                       hash         author_email  \\\n",
       "0  9d225f34fd63daced3c58c3b7df8d540ec5fc826  scholtes@ifi.uzh.ch   \n",
       "1  d7def7ec7a8305990640d86470d97f1a16727c5a  scholtes@ifi.uzh.ch   \n",
       "2  7de40e6c54bae5f0f43bd056b710eac3e2153fc7    ischoltes@ethz.ch   \n",
       "3  40e36389f3443c8feb2a9274104c85e7e9c57fd5  scholtes@ifi.uzh.ch   \n",
       "4  c71a73528640d81b325e19aa38a3f68e4fe34366  scholtes@ifi.uzh.ch   \n",
       "\n",
       "     author_name      committer_email committer_name          author_date  \\\n",
       "0  Ingo Scholtes  scholtes@ifi.uzh.ch  Ingo Scholtes  2019-01-08 14:30:15   \n",
       "1  Ingo Scholtes  scholtes@ifi.uzh.ch  Ingo Scholtes  2019-01-08 10:58:20   \n",
       "2  Ingo Scholtes    ischoltes@ethz.ch  Ingo Scholtes  2019-01-09 19:30:19   \n",
       "3  Ingo Scholtes  scholtes@ifi.uzh.ch  Ingo Scholtes  2019-01-09 13:32:06   \n",
       "4  Ingo Scholtes  scholtes@ifi.uzh.ch  Ingo Scholtes  2019-01-08 17:42:58   \n",
       "\n",
       "        committer_date  author_timezone  committer_timezone  \\\n",
       "0  2019-01-08 14:30:15            -3600               -3600   \n",
       "1  2019-01-08 10:58:20            -3600               -3600   \n",
       "2  2019-01-09 19:30:19            -3600               -3600   \n",
       "3  2019-01-09 13:32:06            -3600               -3600   \n",
       "4  2019-01-08 17:42:58            -3600               -3600   \n",
       "\n",
       "   no_of_modifications  commit_message_len      project_name  \\\n",
       "0                    1                  19  git2net4analysis   \n",
       "1                    1                  14  git2net4analysis   \n",
       "2                    1                  12  git2net4analysis   \n",
       "3                    1                  12  git2net4analysis   \n",
       "4                    1                   8  git2net4analysis   \n",
       "\n",
       "                                    parents  merge  in_main_branch branches  \\\n",
       "0  d7def7ec7a8305990640d86470d97f1a16727c5a      0               1   master   \n",
       "1                                                0               1   master   \n",
       "2  d4b61a32104ca72d1f850077e5bfcfa479b43106      0               1   master   \n",
       "3  69d9c6578fa1aafcbe2ed548159ba16cf39ffc46      0               1   master   \n",
       "4  9d225f34fd63daced3c58c3b7df8d540ec5fc826      0               1   master   \n",
       "\n",
       "   author_id  \n",
       "0        0.0  \n",
       "1        0.0  \n",
       "2        0.0  \n",
       "3        0.0  \n",
       "4        0.0  "
      ]
     },
     "execution_count": 18,
     "metadata": {},
     "output_type": "execute_result"
    }
   ],
   "source": [
    "import pandas as pd \n",
    "\n",
    "db = sqlite3.connect(sqlite_db_file)\n",
    "pdCommits = pd.read_sql_query(\"SELECT * FROM commits\", db)\n",
    "\n",
    "pdCommits.head(5)"
   ]
  },
  {
   "cell_type": "markdown",
   "metadata": {},
   "source": [
    "The headline lists all extracted features contained in `pdCommits`. How many records/commits are in the history?"
   ]
  },
  {
   "cell_type": "code",
   "execution_count": 19,
   "metadata": {
    "ExecuteTime": {
     "end_time": "2021-09-21T15:15:13.437303Z",
     "start_time": "2021-09-21T15:15:13.433831Z"
    }
   },
   "outputs": [
    {
     "data": {
      "text/plain": [
       "(220, 17)"
      ]
     },
     "execution_count": 19,
     "metadata": {},
     "output_type": "execute_result"
    }
   ],
   "source": [
    "pdCommits.shape"
   ]
  },
  {
   "cell_type": "markdown",
   "metadata": {},
   "source": [
    "The first number reflects the number of records, the second how man columns/categories are involved."
   ]
  },
  {
   "cell_type": "code",
   "execution_count": 20,
   "metadata": {
    "ExecuteTime": {
     "end_time": "2021-09-21T15:15:13.448057Z",
     "start_time": "2021-09-21T15:15:13.438393Z"
    }
   },
   "outputs": [
    {
     "data": {
      "text/plain": [
       "array(['Ingo Scholtes', 'Christoph Gote', 'Jan Philip', 'Sebastian Zug',\n",
       "       'Breee', 'Milo Trujillo'], dtype=object)"
      ]
     },
     "execution_count": 20,
     "metadata": {},
     "output_type": "execute_result"
    }
   ],
   "source": [
    "pdCommits.author_name.unique()"
   ]
  },
  {
   "cell_type": "markdown",
   "metadata": {},
   "source": [
    "How many commits did the individual authors contribute to the overall project?"
   ]
  },
  {
   "cell_type": "code",
   "execution_count": 21,
   "metadata": {
    "ExecuteTime": {
     "end_time": "2021-09-21T15:15:13.455359Z",
     "start_time": "2021-09-21T15:15:13.449431Z"
    }
   },
   "outputs": [
    {
     "data": {
      "text/plain": [
       "author_name\n",
       "Breee               1\n",
       "Christoph Gote    205\n",
       "Ingo Scholtes      10\n",
       "Jan Philip          1\n",
       "Milo Trujillo       1\n",
       "Sebastian Zug       2\n",
       "Name: hash, dtype: int64"
      ]
     },
     "execution_count": 21,
     "metadata": {},
     "output_type": "execute_result"
    }
   ],
   "source": [
    "pdCommits.groupby('author_name')['hash'].count()"
   ]
  },
  {
   "cell_type": "markdown",
   "metadata": {},
   "source": [
    "That's easy. We want to give a last example that applies the features of pandas. At which time git2net commits are usually submitted? Of course, GitHub and GitLab offers similar visualizations, but based on git2net and pandas you are able to filter your data set individually."
   ]
  },
  {
   "cell_type": "code",
   "execution_count": 22,
   "metadata": {
    "ExecuteTime": {
     "end_time": "2021-09-21T15:15:14.085680Z",
     "start_time": "2021-09-21T15:15:13.456797Z"
    }
   },
   "outputs": [
    {
     "data": {
      "text/plain": [
       "<matplotlib.axes._subplots.AxesSubplot at 0x7ffab8a172d0>"
      ]
     },
     "execution_count": 22,
     "metadata": {},
     "output_type": "execute_result"
    },
    {
     "data": {
      "image/png": "[encoded data removed]",
      "text/plain": [
       "<Figure size 1296x432 with 2 Axes>"
      ]
     },
     "metadata": {
      "needs_background": "light"
     },
     "output_type": "display_data"
    }
   ],
   "source": [
    "%matplotlib inline\n",
    "import matplotlib.pyplot as plt\n",
    "import seaborn as sns\n",
    "\n",
    "pdCommits['timestamp'] = pd.to_datetime(pdCommits['author_date'], format=\"%Y-%m-%d %H:%M:%S\")\n",
    "pdCommits['hours'] = pdCommits.timestamp.dt.hour\n",
    "pdCommits['days'] = pdCommits.timestamp.dt.dayofweek\n",
    "fig, ax = plt.subplots(figsize=(18,6))\n",
    "sns.heatmap(pdCommits.groupby(['days', 'hours'])['timestamp'].count().unstack(), annot=True, ax=ax)"
   ]
  },
  {
   "cell_type": "markdown",
   "metadata": {},
   "source": [
    "The diagram shows the week with Monday (0) to Sunday (6). Someone seams to work at the weekend too :-) Find out who it is!"
   ]
  },
  {
   "cell_type": "code",
   "execution_count": null,
   "metadata": {},
   "outputs": [],
   "source": []
  }
 ],
 "metadata": {
  "file_extension": ".py",
  "kernelspec": {
   "display_name": "Python 3",
   "language": "python",
   "name": "python3"
  },
  "language_info": {
   "codemirror_mode": {
    "name": "ipython",
    "version": 3
   },
   "file_extension": ".py",
   "mimetype": "text/x-python",
   "name": "python",
   "nbconvert_exporter": "python",
   "pygments_lexer": "ipython3",
   "version": "3.7.9"
  },
  "mimetype": "text/x-python",
  "name": "python",
  "npconvert_exporter": "python",
  "pygments_lexer": "ipython3",
  "toc": {
   "base_numbering": 1,
   "nav_menu": {},
   "number_sections": true,
   "sideBar": true,
   "skip_h1_title": false,
   "title_cell": "Table of Contents",
   "title_sidebar": "Contents",
   "toc_cell": false,
   "toc_position": {},
   "toc_section_display": true,
   "toc_window_display": false
  },
  "varInspector": {
   "cols": {
    "lenName": 16,
    "lenType": 16,
    "lenVar": 40
   },
   "kernels_config": {
    "python": {
     "delete_cmd_postfix": "",
     "delete_cmd_prefix": "del ",
     "library": "var_list.py",
     "varRefreshCmd": "print(var_dic_list())"
    },
    "r": {
     "delete_cmd_postfix": ") ",
     "delete_cmd_prefix": "rm(",
     "library": "var_list.r",
     "varRefreshCmd": "cat(var_dic_list()) "
    }
   },
   "types_to_exclude": [
    "module",
    "function",
    "builtin_function_or_method",
    "instance",
    "_Feature"
   ],
   "window_display": false
  },
  "version": 3
 },
 "nbformat": 4,
 "nbformat_minor": 2
}
